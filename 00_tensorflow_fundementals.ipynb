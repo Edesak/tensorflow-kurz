{
  "nbformat": 4,
  "nbformat_minor": 0,
  "metadata": {
    "colab": {
      "name": "00_tensorflow_fundementals.ipynb",
      "provenance": [],
      "collapsed_sections": [
        "T8OdjNOGNe4G",
        "n0o5DzToS89t",
        "_bKr7kd1UqZA",
        "f8gykFoy8xmr",
        "y8KHl21O-Ln2",
        "gx5-elA-UyIB",
        "ovSb5AsBZGZa",
        "omKh4u-7bbh5",
        "PVfcG9Q_ksrl",
        "iTtGFjhAmOjf",
        "-U_x1j_jr9Xc",
        "EFFxS0jdul-t",
        "hebGpSks0PcU"
      ],
      "authorship_tag": "ABX9TyMGK7UpAeuEpLSmDJWwTi7/",
      "include_colab_link": true
    },
    "kernelspec": {
      "name": "python3",
      "display_name": "Python 3"
    },
    "language_info": {
      "name": "python"
    },
    "accelerator": "GPU"
  },
  "cells": [
    {
      "cell_type": "markdown",
      "metadata": {
        "id": "view-in-github",
        "colab_type": "text"
      },
      "source": [
        "<a href=\"https://colab.research.google.com/github/Edesak/tensorflow-kurz/blob/main/00_tensorflow_fundementals.ipynb\" target=\"_parent\"><img src=\"https://colab.research.google.com/assets/colab-badge.svg\" alt=\"Open In Colab\"/></a>"
      ]
    },
    {
      "cell_type": "markdown",
      "metadata": {
        "id": "5CkJQuhnNyhA"
      },
      "source": [
        "\n",
        "Zaklady Tensorflow"
      ]
    },
    {
      "cell_type": "markdown",
      "metadata": {
        "id": "T8OdjNOGNe4G"
      },
      "source": [
        "##Uvod do tensorflow\n"
      ]
    },
    {
      "cell_type": "code",
      "metadata": {
        "colab": {
          "base_uri": "https://localhost:8080/"
        },
        "id": "BFgsTariOn78",
        "outputId": "d745ed51-d3ad-4d05-fca3-fe540fc65743"
      },
      "source": [
        "import tensorflow as tf \n",
        "print(tf.__version__)\n"
      ],
      "execution_count": null,
      "outputs": [
        {
          "output_type": "stream",
          "text": [
            "2.5.0\n"
          ],
          "name": "stdout"
        }
      ]
    },
    {
      "cell_type": "code",
      "metadata": {
        "colab": {
          "base_uri": "https://localhost:8080/"
        },
        "id": "HDvd8a_nO-ME",
        "outputId": "0a640165-0071-4d20-93fe-000befea3b1d"
      },
      "source": [
        "# Vytvoreni konstanty\n",
        "scalar = tf.constant(7)\n",
        "scalar"
      ],
      "execution_count": null,
      "outputs": [
        {
          "output_type": "execute_result",
          "data": {
            "text/plain": [
              "<tf.Tensor: shape=(), dtype=int32, numpy=7>"
            ]
          },
          "metadata": {
            "tags": []
          },
          "execution_count": 3
        }
      ]
    },
    {
      "cell_type": "code",
      "metadata": {
        "colab": {
          "base_uri": "https://localhost:8080/"
        },
        "id": "QN1aajvqPjYe",
        "outputId": "8ad0c8d6-e08d-4cc3-a4be-212a934390ef"
      },
      "source": [
        "#Zkontrolovani dimenze\n",
        "scalar.ndim"
      ],
      "execution_count": null,
      "outputs": [
        {
          "output_type": "execute_result",
          "data": {
            "text/plain": [
              "0"
            ]
          },
          "metadata": {
            "tags": []
          },
          "execution_count": 4
        }
      ]
    },
    {
      "cell_type": "code",
      "metadata": {
        "colab": {
          "base_uri": "https://localhost:8080/"
        },
        "id": "3MtJ2Xl2Pr6E",
        "outputId": "b4bc1cda-bce8-4960-85ad-5b1dafb70915"
      },
      "source": [
        "#Vytvoreni vektoru\n",
        "vector = tf.constant([10,10])\n",
        "vector"
      ],
      "execution_count": null,
      "outputs": [
        {
          "output_type": "execute_result",
          "data": {
            "text/plain": [
              "<tf.Tensor: shape=(2,), dtype=int32, numpy=array([10, 10], dtype=int32)>"
            ]
          },
          "metadata": {
            "tags": []
          },
          "execution_count": 5
        }
      ]
    },
    {
      "cell_type": "code",
      "metadata": {
        "colab": {
          "base_uri": "https://localhost:8080/"
        },
        "id": "r2Mmsw69P4xd",
        "outputId": "066ec1e0-f01c-471a-8b90-34e440a110e9"
      },
      "source": [
        "vector.ndim"
      ],
      "execution_count": null,
      "outputs": [
        {
          "output_type": "execute_result",
          "data": {
            "text/plain": [
              "1"
            ]
          },
          "metadata": {
            "tags": []
          },
          "execution_count": 6
        }
      ]
    },
    {
      "cell_type": "code",
      "metadata": {
        "colab": {
          "base_uri": "https://localhost:8080/"
        },
        "id": "zSesNnCrP-XW",
        "outputId": "224b7efe-0473-402a-8662-8c0511274a4b"
      },
      "source": [
        "#Vytvoreni matice\n",
        "matrix = tf.constant([[10,7],\n",
        "                      [7,10]])\n",
        "matrix"
      ],
      "execution_count": null,
      "outputs": [
        {
          "output_type": "execute_result",
          "data": {
            "text/plain": [
              "<tf.Tensor: shape=(2, 2), dtype=int32, numpy=\n",
              "array([[10,  7],\n",
              "       [ 7, 10]], dtype=int32)>"
            ]
          },
          "metadata": {
            "tags": []
          },
          "execution_count": 7
        }
      ]
    },
    {
      "cell_type": "code",
      "metadata": {
        "colab": {
          "base_uri": "https://localhost:8080/"
        },
        "id": "9K9t-FHtQQIk",
        "outputId": "363d04ed-86fa-4bb5-8ef0-e019dfbe9e80"
      },
      "source": [
        "matrix.ndim"
      ],
      "execution_count": null,
      "outputs": [
        {
          "output_type": "execute_result",
          "data": {
            "text/plain": [
              "2"
            ]
          },
          "metadata": {
            "tags": []
          },
          "execution_count": 8
        }
      ]
    },
    {
      "cell_type": "code",
      "metadata": {
        "colab": {
          "base_uri": "https://localhost:8080/"
        },
        "id": "XFDht8vvQa52",
        "outputId": "3dc3ca5c-cc17-4c04-a8aa-779899b18169"
      },
      "source": [
        "#Specifikace typu, urceni typu muze ovlivnit velikost tensoru, ktery se uklada do pameti\n",
        "matrix2= tf.constant([[10.,7.],[3.,2.],[8.,8.]], dtype=tf.float16)\n",
        "matrix2"
      ],
      "execution_count": null,
      "outputs": [
        {
          "output_type": "execute_result",
          "data": {
            "text/plain": [
              "<tf.Tensor: shape=(3, 2), dtype=float16, numpy=\n",
              "array([[10.,  7.],\n",
              "       [ 3.,  2.],\n",
              "       [ 8.,  8.]], dtype=float16)>"
            ]
          },
          "metadata": {
            "tags": []
          },
          "execution_count": 9
        }
      ]
    },
    {
      "cell_type": "code",
      "metadata": {
        "colab": {
          "base_uri": "https://localhost:8080/"
        },
        "id": "nNRHzhKeQ23v",
        "outputId": "5c6c5016-4d68-4bf8-a8f8-7ba486129fb6"
      },
      "source": [
        "matrix2.ndim"
      ],
      "execution_count": null,
      "outputs": [
        {
          "output_type": "execute_result",
          "data": {
            "text/plain": [
              "2"
            ]
          },
          "metadata": {
            "tags": []
          },
          "execution_count": 10
        }
      ]
    },
    {
      "cell_type": "code",
      "metadata": {
        "colab": {
          "base_uri": "https://localhost:8080/"
        },
        "id": "yxMdBZcpRRA7",
        "outputId": "378183a4-8559-4550-f5b7-4fcc70a34dfb"
      },
      "source": [
        "tensor = tf.constant([[\n",
        "                      [[1,2,3],[4,5,6]],\n",
        "                      [[7,8,9],[1,2,3]],\n",
        "                      [[4,5,6],[7,8,9]]\n",
        "                      ],\n",
        "                      [[[1,2,3],[4,5,6]],\n",
        "                      [[7,8,9],[1,2,3]],\n",
        "                      [[4,5,6],[7,8,9]]]\n",
        "                      ])\n",
        "tensor"
      ],
      "execution_count": null,
      "outputs": [
        {
          "output_type": "execute_result",
          "data": {
            "text/plain": [
              "<tf.Tensor: shape=(2, 3, 2, 3), dtype=int32, numpy=\n",
              "array([[[[1, 2, 3],\n",
              "         [4, 5, 6]],\n",
              "\n",
              "        [[7, 8, 9],\n",
              "         [1, 2, 3]],\n",
              "\n",
              "        [[4, 5, 6],\n",
              "         [7, 8, 9]]],\n",
              "\n",
              "\n",
              "       [[[1, 2, 3],\n",
              "         [4, 5, 6]],\n",
              "\n",
              "        [[7, 8, 9],\n",
              "         [1, 2, 3]],\n",
              "\n",
              "        [[4, 5, 6],\n",
              "         [7, 8, 9]]]], dtype=int32)>"
            ]
          },
          "metadata": {
            "tags": []
          },
          "execution_count": 11
        }
      ]
    },
    {
      "cell_type": "code",
      "metadata": {
        "colab": {
          "base_uri": "https://localhost:8080/"
        },
        "id": "X_Ygh5drRvcm",
        "outputId": "267809cb-b3f0-453e-b6e2-c5395bd7b3ea"
      },
      "source": [
        "tensor.ndim"
      ],
      "execution_count": null,
      "outputs": [
        {
          "output_type": "execute_result",
          "data": {
            "text/plain": [
              "4"
            ]
          },
          "metadata": {
            "tags": []
          },
          "execution_count": 12
        }
      ]
    },
    {
      "cell_type": "markdown",
      "metadata": {
        "id": "n0o5DzToS89t"
      },
      "source": [
        "##Vytroverni tensoru pomoci promenne (variable)"
      ]
    },
    {
      "cell_type": "code",
      "metadata": {
        "colab": {
          "base_uri": "https://localhost:8080/"
        },
        "id": "EoRF_CQ1S5s7",
        "outputId": "a0125b2d-bd96-489b-d4f2-d8bdd13f9e3e"
      },
      "source": [
        "\n",
        "var_tensor = tf.Variable([10,7])\n",
        "unch_tensor = tf.constant([10,7])\n",
        "\n",
        "var_tensor,unch_tensor\n"
      ],
      "execution_count": null,
      "outputs": [
        {
          "output_type": "execute_result",
          "data": {
            "text/plain": [
              "(<tf.Variable 'Variable:0' shape=(2,) dtype=int32, numpy=array([10,  7], dtype=int32)>,\n",
              " <tf.Tensor: shape=(2,), dtype=int32, numpy=array([10,  7], dtype=int32)>)"
            ]
          },
          "metadata": {
            "tags": []
          },
          "execution_count": 13
        }
      ]
    },
    {
      "cell_type": "code",
      "metadata": {
        "colab": {
          "base_uri": "https://localhost:8080/",
          "height": 227
        },
        "id": "tR6Gmz3OTt5i",
        "outputId": "2a5804e6-f133-426d-e2b1-74a32ad8a88b"
      },
      "source": [
        "#Zkusime zmenit tensor\n",
        "\n",
        "var_tensor[0] = 7\n",
        "unch_tensor"
      ],
      "execution_count": null,
      "outputs": [
        {
          "output_type": "error",
          "ename": "TypeError",
          "evalue": "ignored",
          "traceback": [
            "\u001b[0;31m---------------------------------------------------------------------------\u001b[0m",
            "\u001b[0;31mTypeError\u001b[0m                                 Traceback (most recent call last)",
            "\u001b[0;32m<ipython-input-15-b87f65d3ae1d>\u001b[0m in \u001b[0;36m<module>\u001b[0;34m()\u001b[0m\n\u001b[1;32m      1\u001b[0m \u001b[0;31m#Zkusime zmenit tensor\u001b[0m\u001b[0;34m\u001b[0m\u001b[0;34m\u001b[0m\u001b[0;34m\u001b[0m\u001b[0m\n\u001b[1;32m      2\u001b[0m \u001b[0;34m\u001b[0m\u001b[0m\n\u001b[0;32m----> 3\u001b[0;31m \u001b[0mvar_tensor\u001b[0m\u001b[0;34m[\u001b[0m\u001b[0;36m0\u001b[0m\u001b[0;34m]\u001b[0m \u001b[0;34m=\u001b[0m \u001b[0;36m7\u001b[0m\u001b[0;34m\u001b[0m\u001b[0;34m\u001b[0m\u001b[0m\n\u001b[0m\u001b[1;32m      4\u001b[0m \u001b[0munch_tensor\u001b[0m\u001b[0;34m\u001b[0m\u001b[0;34m\u001b[0m\u001b[0m\n",
            "\u001b[0;31mTypeError\u001b[0m: 'ResourceVariable' object does not support item assignment"
          ]
        }
      ]
    },
    {
      "cell_type": "code",
      "metadata": {
        "id": "MpxWVkE2rNME"
      },
      "source": [
        ""
      ],
      "execution_count": null,
      "outputs": []
    },
    {
      "cell_type": "code",
      "metadata": {
        "id": "N-K-0enzrNT9"
      },
      "source": [
        ""
      ],
      "execution_count": null,
      "outputs": []
    },
    {
      "cell_type": "code",
      "metadata": {
        "id": "ZjdTWodarNWk"
      },
      "source": [
        ""
      ],
      "execution_count": null,
      "outputs": []
    },
    {
      "cell_type": "code",
      "metadata": {
        "colab": {
          "base_uri": "https://localhost:8080/"
        },
        "id": "123hYuRaT_k7",
        "outputId": "f4345223-7b59-4ff8-f6a8-e9aa1c7a7332"
      },
      "source": [
        "var_tensor[0].assign(7)\n",
        "var_tensor"
      ],
      "execution_count": null,
      "outputs": [
        {
          "output_type": "execute_result",
          "data": {
            "text/plain": [
              "<tf.Variable 'Variable:0' shape=(2,) dtype=int32, numpy=array([7, 7], dtype=int32)>"
            ]
          },
          "metadata": {
            "tags": []
          },
          "execution_count": 16
        }
      ]
    },
    {
      "cell_type": "code",
      "metadata": {
        "colab": {
          "base_uri": "https://localhost:8080/",
          "height": 172
        },
        "id": "s6epLzV2UMYl",
        "outputId": "7438ed15-8bc8-455f-8998-21cfc85dd8e5"
      },
      "source": [
        "unch_tensor [0] = 7"
      ],
      "execution_count": null,
      "outputs": [
        {
          "output_type": "error",
          "ename": "TypeError",
          "evalue": "ignored",
          "traceback": [
            "\u001b[0;31m---------------------------------------------------------------------------\u001b[0m",
            "\u001b[0;31mTypeError\u001b[0m                                 Traceback (most recent call last)",
            "\u001b[0;32m<ipython-input-17-85fe58a5d467>\u001b[0m in \u001b[0;36m<module>\u001b[0;34m()\u001b[0m\n\u001b[0;32m----> 1\u001b[0;31m \u001b[0munch_tensor\u001b[0m \u001b[0;34m[\u001b[0m\u001b[0;36m0\u001b[0m\u001b[0;34m]\u001b[0m \u001b[0;34m=\u001b[0m \u001b[0;36m7\u001b[0m\u001b[0;34m\u001b[0m\u001b[0;34m\u001b[0m\u001b[0m\n\u001b[0m",
            "\u001b[0;31mTypeError\u001b[0m: 'tensorflow.python.framework.ops.EagerTensor' object does not support item assignment"
          ]
        }
      ]
    },
    {
      "cell_type": "code",
      "metadata": {
        "colab": {
          "base_uri": "https://localhost:8080/",
          "height": 301
        },
        "id": "5Y0casKfUSds",
        "outputId": "e3a0c70c-01d7-4fc1-cf6e-7d906dfe753f"
      },
      "source": [
        "unch_tensor[0].assign(7)"
      ],
      "execution_count": null,
      "outputs": [
        {
          "output_type": "error",
          "ename": "AttributeError",
          "evalue": "ignored",
          "traceback": [
            "\u001b[0;31m---------------------------------------------------------------------------\u001b[0m",
            "\u001b[0;31mAttributeError\u001b[0m                            Traceback (most recent call last)",
            "\u001b[0;32m<ipython-input-18-4be189af9d7b>\u001b[0m in \u001b[0;36m<module>\u001b[0;34m()\u001b[0m\n\u001b[0;32m----> 1\u001b[0;31m \u001b[0munch_tensor\u001b[0m\u001b[0;34m[\u001b[0m\u001b[0;36m0\u001b[0m\u001b[0;34m]\u001b[0m\u001b[0;34m.\u001b[0m\u001b[0massign\u001b[0m\u001b[0;34m(\u001b[0m\u001b[0;36m7\u001b[0m\u001b[0;34m)\u001b[0m\u001b[0;34m\u001b[0m\u001b[0;34m\u001b[0m\u001b[0m\n\u001b[0m",
            "\u001b[0;32m/usr/local/lib/python3.7/dist-packages/tensorflow/python/framework/ops.py\u001b[0m in \u001b[0;36m__getattr__\u001b[0;34m(self, name)\u001b[0m\n\u001b[1;32m    399\u001b[0m         \u001b[0;32mimport\u001b[0m \u001b[0mtensorflow\u001b[0m\u001b[0;34m.\u001b[0m\u001b[0mpython\u001b[0m\u001b[0;34m.\u001b[0m\u001b[0mops\u001b[0m\u001b[0;34m.\u001b[0m\u001b[0mnumpy_ops\u001b[0m\u001b[0;34m.\u001b[0m\u001b[0mnp_config\u001b[0m\u001b[0;34m\u001b[0m\u001b[0;34m\u001b[0m\u001b[0m\n\u001b[1;32m    400\u001b[0m         np_config.enable_numpy_behavior()\"\"\".format(type(self).__name__, name))\n\u001b[0;32m--> 401\u001b[0;31m     \u001b[0mself\u001b[0m\u001b[0;34m.\u001b[0m\u001b[0m__getattribute__\u001b[0m\u001b[0;34m(\u001b[0m\u001b[0mname\u001b[0m\u001b[0;34m)\u001b[0m\u001b[0;34m\u001b[0m\u001b[0;34m\u001b[0m\u001b[0m\n\u001b[0m\u001b[1;32m    402\u001b[0m \u001b[0;34m\u001b[0m\u001b[0m\n\u001b[1;32m    403\u001b[0m   \u001b[0;34m@\u001b[0m\u001b[0mstaticmethod\u001b[0m\u001b[0;34m\u001b[0m\u001b[0;34m\u001b[0m\u001b[0m\n",
            "\u001b[0;31mAttributeError\u001b[0m: 'tensorflow.python.framework.ops.EagerTensor' object has no attribute 'assign'"
          ]
        }
      ]
    },
    {
      "cell_type": "markdown",
      "metadata": {
        "id": "_bKr7kd1UqZA"
      },
      "source": [
        "##Vytvoreni nahodneho tensoru\n"
      ]
    },
    {
      "cell_type": "code",
      "metadata": {
        "colab": {
          "base_uri": "https://localhost:8080/"
        },
        "id": "axP5J8RWUtXA",
        "outputId": "75407905-d6d3-463d-9a89-bfde9d15fa73"
      },
      "source": [
        "#Nahodny tensor s nahodnymi cisli, pouziva se pri startovni pozici pro NN\n",
        "\n",
        "random1 = tf.random.Generator.from_seed(42)\n",
        "random2 = tf.random.Generator.from_seed(42)\n",
        "random1 = random1.normal(shape=(3,4))\n",
        "random2 = random2.normal(shape=(3,4))\n",
        "random1,random2, random1 == random2"
      ],
      "execution_count": null,
      "outputs": [
        {
          "output_type": "execute_result",
          "data": {
            "text/plain": [
              "(<tf.Tensor: shape=(3, 4), dtype=float32, numpy=\n",
              " array([[-0.7565803 , -0.06854702,  0.07595026, -1.2573844 ],\n",
              "        [-0.23193763, -1.8107855 ,  0.09988727, -0.50998646],\n",
              "        [-0.7535805 , -0.57166284,  0.1480774 , -0.23362993]],\n",
              "       dtype=float32)>, <tf.Tensor: shape=(3, 4), dtype=float32, numpy=\n",
              " array([[-0.7565803 , -0.06854702,  0.07595026, -1.2573844 ],\n",
              "        [-0.23193763, -1.8107855 ,  0.09988727, -0.50998646],\n",
              "        [-0.7535805 , -0.57166284,  0.1480774 , -0.23362993]],\n",
              "       dtype=float32)>, <tf.Tensor: shape=(3, 4), dtype=bool, numpy=\n",
              " array([[ True,  True,  True,  True],\n",
              "        [ True,  True,  True,  True],\n",
              "        [ True,  True,  True,  True]])>)"
            ]
          },
          "metadata": {
            "tags": []
          },
          "execution_count": 19
        }
      ]
    },
    {
      "cell_type": "code",
      "metadata": {
        "colab": {
          "base_uri": "https://localhost:8080/"
        },
        "id": "o7cuZ77jwMW_",
        "outputId": "913f6e2d-d865-4c20-d105-5ade14036026"
      },
      "source": [
        "#Zmeneni poradi v random tensoru (uzitecne pro mixovani dat aby nebyly po sobe)\n",
        "not_shuffled = tf.constant([[10,7],\n",
        "                            [3,4],\n",
        "                            [2,5]\n",
        "                            ])\n",
        "not_shuffled\n",
        "shuffled = tf.random.shuffle(not_shuffled)\n",
        "shuffled"
      ],
      "execution_count": null,
      "outputs": [
        {
          "output_type": "execute_result",
          "data": {
            "text/plain": [
              "<tf.Tensor: shape=(3, 2), dtype=int32, numpy=\n",
              "array([[10,  7],\n",
              "       [ 3,  4],\n",
              "       [ 2,  5]], dtype=int32)>"
            ]
          },
          "metadata": {
            "tags": []
          },
          "execution_count": 20
        }
      ]
    },
    {
      "cell_type": "code",
      "metadata": {
        "colab": {
          "base_uri": "https://localhost:8080/"
        },
        "id": "TW0ArvEd0uKN",
        "outputId": "919bd207-35b3-47b6-c546-a16d8f8394e9"
      },
      "source": [
        "tf.random.set_seed(42) #globalni seed\n",
        "shuffled = tf.random.shuffle(not_shuffled, seed=42) #operativni seed\n",
        "shuffled\n"
      ],
      "execution_count": null,
      "outputs": [
        {
          "output_type": "execute_result",
          "data": {
            "text/plain": [
              "<tf.Tensor: shape=(3, 2), dtype=int32, numpy=\n",
              "array([[10,  7],\n",
              "       [ 3,  4],\n",
              "       [ 2,  5]], dtype=int32)>"
            ]
          },
          "metadata": {
            "tags": []
          },
          "execution_count": 21
        }
      ]
    },
    {
      "cell_type": "markdown",
      "metadata": {
        "id": "f8gykFoy8xmr"
      },
      "source": [
        "##Vytvareni Tensoru jinak\n",
        "Muzeme vytvorit tensor z Numpy array, rozdil je v tom ze tensor dokaze pracovat s GPU takze je mnohem rychlejsi pri uceni"
      ]
    },
    {
      "cell_type": "code",
      "metadata": {
        "colab": {
          "base_uri": "https://localhost:8080/"
        },
        "id": "0QKbIq8y8Ke-",
        "outputId": "91926d6f-94b7-4422-e4a5-bc210e3dd6e7"
      },
      "source": [
        "#jak udelat tensory jinak\n",
        "\n",
        "tf.ones([10,7]) #vyplni tensor plny 1\n",
        "tf.zeros([10,7])#vyplni tensor plny 0"
      ],
      "execution_count": null,
      "outputs": [
        {
          "output_type": "execute_result",
          "data": {
            "text/plain": [
              "<tf.Tensor: shape=(10, 7), dtype=float32, numpy=\n",
              "array([[0., 0., 0., 0., 0., 0., 0.],\n",
              "       [0., 0., 0., 0., 0., 0., 0.],\n",
              "       [0., 0., 0., 0., 0., 0., 0.],\n",
              "       [0., 0., 0., 0., 0., 0., 0.],\n",
              "       [0., 0., 0., 0., 0., 0., 0.],\n",
              "       [0., 0., 0., 0., 0., 0., 0.],\n",
              "       [0., 0., 0., 0., 0., 0., 0.],\n",
              "       [0., 0., 0., 0., 0., 0., 0.],\n",
              "       [0., 0., 0., 0., 0., 0., 0.],\n",
              "       [0., 0., 0., 0., 0., 0., 0.]], dtype=float32)>"
            ]
          },
          "metadata": {
            "tags": []
          },
          "execution_count": 22
        }
      ]
    },
    {
      "cell_type": "code",
      "metadata": {
        "colab": {
          "base_uri": "https://localhost:8080/"
        },
        "id": "690pysDz8smt",
        "outputId": "296736a4-1374-4790-8417-646dbc6f1cce"
      },
      "source": [
        "#Numpy na Tensor\n",
        "\n",
        "import numpy as np\n",
        "numpy_A = np.arange (1,25,dtype=np.int32)\n",
        "numpy_A"
      ],
      "execution_count": null,
      "outputs": [
        {
          "output_type": "execute_result",
          "data": {
            "text/plain": [
              "array([ 1,  2,  3,  4,  5,  6,  7,  8,  9, 10, 11, 12, 13, 14, 15, 16, 17,\n",
              "       18, 19, 20, 21, 22, 23, 24], dtype=int32)"
            ]
          },
          "metadata": {
            "tags": []
          },
          "execution_count": 23
        }
      ]
    },
    {
      "cell_type": "code",
      "metadata": {
        "colab": {
          "base_uri": "https://localhost:8080/"
        },
        "id": "RB1Ig34f9d5X",
        "outputId": "010536de-2563-47ac-f21b-29a00d464c9a"
      },
      "source": [
        "A = tf.constant(numpy_A, shape=(2,3,4)) # shape musi by roven poctu typu 24 se musi rovnat 2*3*4\n",
        "B= tf.constant(numpy_A)\n",
        "A,B,A.ndim"
      ],
      "execution_count": null,
      "outputs": [
        {
          "output_type": "execute_result",
          "data": {
            "text/plain": [
              "(<tf.Tensor: shape=(2, 3, 4), dtype=int32, numpy=\n",
              " array([[[ 1,  2,  3,  4],\n",
              "         [ 5,  6,  7,  8],\n",
              "         [ 9, 10, 11, 12]],\n",
              " \n",
              "        [[13, 14, 15, 16],\n",
              "         [17, 18, 19, 20],\n",
              "         [21, 22, 23, 24]]], dtype=int32)>,\n",
              " <tf.Tensor: shape=(24,), dtype=int32, numpy=\n",
              " array([ 1,  2,  3,  4,  5,  6,  7,  8,  9, 10, 11, 12, 13, 14, 15, 16, 17,\n",
              "        18, 19, 20, 21, 22, 23, 24], dtype=int32)>,\n",
              " 3)"
            ]
          },
          "metadata": {
            "tags": []
          },
          "execution_count": 24
        }
      ]
    },
    {
      "cell_type": "markdown",
      "metadata": {
        "id": "y8KHl21O-Ln2"
      },
      "source": [
        "##Ziskani informaci z Tensoru\n",
        "-Rank - dimension\\\n",
        "-Shape - shape(tvar)\\\n",
        "-Axis - sloupce řádky konktrétní dimenze\\\n",
        "-Size - pocet prvku v tensoru"
      ]
    },
    {
      "cell_type": "code",
      "metadata": {
        "colab": {
          "base_uri": "https://localhost:8080/"
        },
        "id": "AUBODlhY-x95",
        "outputId": "4c27667c-6ecc-402d-8f64-dbe9e73ac33d"
      },
      "source": [
        "#Vytvorit rank4 tensor\n",
        "\n",
        "r_4_tensor=tf.zeros([5,6,7,8])\n",
        "r_4_tensor, r_4_tensor.ndim"
      ],
      "execution_count": null,
      "outputs": [
        {
          "output_type": "execute_result",
          "data": {
            "text/plain": [
              "(<tf.Tensor: shape=(5, 6, 7, 8), dtype=float32, numpy=\n",
              " array([[[[0., 0., 0., ..., 0., 0., 0.],\n",
              "          [0., 0., 0., ..., 0., 0., 0.],\n",
              "          [0., 0., 0., ..., 0., 0., 0.],\n",
              "          ...,\n",
              "          [0., 0., 0., ..., 0., 0., 0.],\n",
              "          [0., 0., 0., ..., 0., 0., 0.],\n",
              "          [0., 0., 0., ..., 0., 0., 0.]],\n",
              " \n",
              "         [[0., 0., 0., ..., 0., 0., 0.],\n",
              "          [0., 0., 0., ..., 0., 0., 0.],\n",
              "          [0., 0., 0., ..., 0., 0., 0.],\n",
              "          ...,\n",
              "          [0., 0., 0., ..., 0., 0., 0.],\n",
              "          [0., 0., 0., ..., 0., 0., 0.],\n",
              "          [0., 0., 0., ..., 0., 0., 0.]],\n",
              " \n",
              "         [[0., 0., 0., ..., 0., 0., 0.],\n",
              "          [0., 0., 0., ..., 0., 0., 0.],\n",
              "          [0., 0., 0., ..., 0., 0., 0.],\n",
              "          ...,\n",
              "          [0., 0., 0., ..., 0., 0., 0.],\n",
              "          [0., 0., 0., ..., 0., 0., 0.],\n",
              "          [0., 0., 0., ..., 0., 0., 0.]],\n",
              " \n",
              "         [[0., 0., 0., ..., 0., 0., 0.],\n",
              "          [0., 0., 0., ..., 0., 0., 0.],\n",
              "          [0., 0., 0., ..., 0., 0., 0.],\n",
              "          ...,\n",
              "          [0., 0., 0., ..., 0., 0., 0.],\n",
              "          [0., 0., 0., ..., 0., 0., 0.],\n",
              "          [0., 0., 0., ..., 0., 0., 0.]],\n",
              " \n",
              "         [[0., 0., 0., ..., 0., 0., 0.],\n",
              "          [0., 0., 0., ..., 0., 0., 0.],\n",
              "          [0., 0., 0., ..., 0., 0., 0.],\n",
              "          ...,\n",
              "          [0., 0., 0., ..., 0., 0., 0.],\n",
              "          [0., 0., 0., ..., 0., 0., 0.],\n",
              "          [0., 0., 0., ..., 0., 0., 0.]],\n",
              " \n",
              "         [[0., 0., 0., ..., 0., 0., 0.],\n",
              "          [0., 0., 0., ..., 0., 0., 0.],\n",
              "          [0., 0., 0., ..., 0., 0., 0.],\n",
              "          ...,\n",
              "          [0., 0., 0., ..., 0., 0., 0.],\n",
              "          [0., 0., 0., ..., 0., 0., 0.],\n",
              "          [0., 0., 0., ..., 0., 0., 0.]]],\n",
              " \n",
              " \n",
              "        [[[0., 0., 0., ..., 0., 0., 0.],\n",
              "          [0., 0., 0., ..., 0., 0., 0.],\n",
              "          [0., 0., 0., ..., 0., 0., 0.],\n",
              "          ...,\n",
              "          [0., 0., 0., ..., 0., 0., 0.],\n",
              "          [0., 0., 0., ..., 0., 0., 0.],\n",
              "          [0., 0., 0., ..., 0., 0., 0.]],\n",
              " \n",
              "         [[0., 0., 0., ..., 0., 0., 0.],\n",
              "          [0., 0., 0., ..., 0., 0., 0.],\n",
              "          [0., 0., 0., ..., 0., 0., 0.],\n",
              "          ...,\n",
              "          [0., 0., 0., ..., 0., 0., 0.],\n",
              "          [0., 0., 0., ..., 0., 0., 0.],\n",
              "          [0., 0., 0., ..., 0., 0., 0.]],\n",
              " \n",
              "         [[0., 0., 0., ..., 0., 0., 0.],\n",
              "          [0., 0., 0., ..., 0., 0., 0.],\n",
              "          [0., 0., 0., ..., 0., 0., 0.],\n",
              "          ...,\n",
              "          [0., 0., 0., ..., 0., 0., 0.],\n",
              "          [0., 0., 0., ..., 0., 0., 0.],\n",
              "          [0., 0., 0., ..., 0., 0., 0.]],\n",
              " \n",
              "         [[0., 0., 0., ..., 0., 0., 0.],\n",
              "          [0., 0., 0., ..., 0., 0., 0.],\n",
              "          [0., 0., 0., ..., 0., 0., 0.],\n",
              "          ...,\n",
              "          [0., 0., 0., ..., 0., 0., 0.],\n",
              "          [0., 0., 0., ..., 0., 0., 0.],\n",
              "          [0., 0., 0., ..., 0., 0., 0.]],\n",
              " \n",
              "         [[0., 0., 0., ..., 0., 0., 0.],\n",
              "          [0., 0., 0., ..., 0., 0., 0.],\n",
              "          [0., 0., 0., ..., 0., 0., 0.],\n",
              "          ...,\n",
              "          [0., 0., 0., ..., 0., 0., 0.],\n",
              "          [0., 0., 0., ..., 0., 0., 0.],\n",
              "          [0., 0., 0., ..., 0., 0., 0.]],\n",
              " \n",
              "         [[0., 0., 0., ..., 0., 0., 0.],\n",
              "          [0., 0., 0., ..., 0., 0., 0.],\n",
              "          [0., 0., 0., ..., 0., 0., 0.],\n",
              "          ...,\n",
              "          [0., 0., 0., ..., 0., 0., 0.],\n",
              "          [0., 0., 0., ..., 0., 0., 0.],\n",
              "          [0., 0., 0., ..., 0., 0., 0.]]],\n",
              " \n",
              " \n",
              "        [[[0., 0., 0., ..., 0., 0., 0.],\n",
              "          [0., 0., 0., ..., 0., 0., 0.],\n",
              "          [0., 0., 0., ..., 0., 0., 0.],\n",
              "          ...,\n",
              "          [0., 0., 0., ..., 0., 0., 0.],\n",
              "          [0., 0., 0., ..., 0., 0., 0.],\n",
              "          [0., 0., 0., ..., 0., 0., 0.]],\n",
              " \n",
              "         [[0., 0., 0., ..., 0., 0., 0.],\n",
              "          [0., 0., 0., ..., 0., 0., 0.],\n",
              "          [0., 0., 0., ..., 0., 0., 0.],\n",
              "          ...,\n",
              "          [0., 0., 0., ..., 0., 0., 0.],\n",
              "          [0., 0., 0., ..., 0., 0., 0.],\n",
              "          [0., 0., 0., ..., 0., 0., 0.]],\n",
              " \n",
              "         [[0., 0., 0., ..., 0., 0., 0.],\n",
              "          [0., 0., 0., ..., 0., 0., 0.],\n",
              "          [0., 0., 0., ..., 0., 0., 0.],\n",
              "          ...,\n",
              "          [0., 0., 0., ..., 0., 0., 0.],\n",
              "          [0., 0., 0., ..., 0., 0., 0.],\n",
              "          [0., 0., 0., ..., 0., 0., 0.]],\n",
              " \n",
              "         [[0., 0., 0., ..., 0., 0., 0.],\n",
              "          [0., 0., 0., ..., 0., 0., 0.],\n",
              "          [0., 0., 0., ..., 0., 0., 0.],\n",
              "          ...,\n",
              "          [0., 0., 0., ..., 0., 0., 0.],\n",
              "          [0., 0., 0., ..., 0., 0., 0.],\n",
              "          [0., 0., 0., ..., 0., 0., 0.]],\n",
              " \n",
              "         [[0., 0., 0., ..., 0., 0., 0.],\n",
              "          [0., 0., 0., ..., 0., 0., 0.],\n",
              "          [0., 0., 0., ..., 0., 0., 0.],\n",
              "          ...,\n",
              "          [0., 0., 0., ..., 0., 0., 0.],\n",
              "          [0., 0., 0., ..., 0., 0., 0.],\n",
              "          [0., 0., 0., ..., 0., 0., 0.]],\n",
              " \n",
              "         [[0., 0., 0., ..., 0., 0., 0.],\n",
              "          [0., 0., 0., ..., 0., 0., 0.],\n",
              "          [0., 0., 0., ..., 0., 0., 0.],\n",
              "          ...,\n",
              "          [0., 0., 0., ..., 0., 0., 0.],\n",
              "          [0., 0., 0., ..., 0., 0., 0.],\n",
              "          [0., 0., 0., ..., 0., 0., 0.]]],\n",
              " \n",
              " \n",
              "        [[[0., 0., 0., ..., 0., 0., 0.],\n",
              "          [0., 0., 0., ..., 0., 0., 0.],\n",
              "          [0., 0., 0., ..., 0., 0., 0.],\n",
              "          ...,\n",
              "          [0., 0., 0., ..., 0., 0., 0.],\n",
              "          [0., 0., 0., ..., 0., 0., 0.],\n",
              "          [0., 0., 0., ..., 0., 0., 0.]],\n",
              " \n",
              "         [[0., 0., 0., ..., 0., 0., 0.],\n",
              "          [0., 0., 0., ..., 0., 0., 0.],\n",
              "          [0., 0., 0., ..., 0., 0., 0.],\n",
              "          ...,\n",
              "          [0., 0., 0., ..., 0., 0., 0.],\n",
              "          [0., 0., 0., ..., 0., 0., 0.],\n",
              "          [0., 0., 0., ..., 0., 0., 0.]],\n",
              " \n",
              "         [[0., 0., 0., ..., 0., 0., 0.],\n",
              "          [0., 0., 0., ..., 0., 0., 0.],\n",
              "          [0., 0., 0., ..., 0., 0., 0.],\n",
              "          ...,\n",
              "          [0., 0., 0., ..., 0., 0., 0.],\n",
              "          [0., 0., 0., ..., 0., 0., 0.],\n",
              "          [0., 0., 0., ..., 0., 0., 0.]],\n",
              " \n",
              "         [[0., 0., 0., ..., 0., 0., 0.],\n",
              "          [0., 0., 0., ..., 0., 0., 0.],\n",
              "          [0., 0., 0., ..., 0., 0., 0.],\n",
              "          ...,\n",
              "          [0., 0., 0., ..., 0., 0., 0.],\n",
              "          [0., 0., 0., ..., 0., 0., 0.],\n",
              "          [0., 0., 0., ..., 0., 0., 0.]],\n",
              " \n",
              "         [[0., 0., 0., ..., 0., 0., 0.],\n",
              "          [0., 0., 0., ..., 0., 0., 0.],\n",
              "          [0., 0., 0., ..., 0., 0., 0.],\n",
              "          ...,\n",
              "          [0., 0., 0., ..., 0., 0., 0.],\n",
              "          [0., 0., 0., ..., 0., 0., 0.],\n",
              "          [0., 0., 0., ..., 0., 0., 0.]],\n",
              " \n",
              "         [[0., 0., 0., ..., 0., 0., 0.],\n",
              "          [0., 0., 0., ..., 0., 0., 0.],\n",
              "          [0., 0., 0., ..., 0., 0., 0.],\n",
              "          ...,\n",
              "          [0., 0., 0., ..., 0., 0., 0.],\n",
              "          [0., 0., 0., ..., 0., 0., 0.],\n",
              "          [0., 0., 0., ..., 0., 0., 0.]]],\n",
              " \n",
              " \n",
              "        [[[0., 0., 0., ..., 0., 0., 0.],\n",
              "          [0., 0., 0., ..., 0., 0., 0.],\n",
              "          [0., 0., 0., ..., 0., 0., 0.],\n",
              "          ...,\n",
              "          [0., 0., 0., ..., 0., 0., 0.],\n",
              "          [0., 0., 0., ..., 0., 0., 0.],\n",
              "          [0., 0., 0., ..., 0., 0., 0.]],\n",
              " \n",
              "         [[0., 0., 0., ..., 0., 0., 0.],\n",
              "          [0., 0., 0., ..., 0., 0., 0.],\n",
              "          [0., 0., 0., ..., 0., 0., 0.],\n",
              "          ...,\n",
              "          [0., 0., 0., ..., 0., 0., 0.],\n",
              "          [0., 0., 0., ..., 0., 0., 0.],\n",
              "          [0., 0., 0., ..., 0., 0., 0.]],\n",
              " \n",
              "         [[0., 0., 0., ..., 0., 0., 0.],\n",
              "          [0., 0., 0., ..., 0., 0., 0.],\n",
              "          [0., 0., 0., ..., 0., 0., 0.],\n",
              "          ...,\n",
              "          [0., 0., 0., ..., 0., 0., 0.],\n",
              "          [0., 0., 0., ..., 0., 0., 0.],\n",
              "          [0., 0., 0., ..., 0., 0., 0.]],\n",
              " \n",
              "         [[0., 0., 0., ..., 0., 0., 0.],\n",
              "          [0., 0., 0., ..., 0., 0., 0.],\n",
              "          [0., 0., 0., ..., 0., 0., 0.],\n",
              "          ...,\n",
              "          [0., 0., 0., ..., 0., 0., 0.],\n",
              "          [0., 0., 0., ..., 0., 0., 0.],\n",
              "          [0., 0., 0., ..., 0., 0., 0.]],\n",
              " \n",
              "         [[0., 0., 0., ..., 0., 0., 0.],\n",
              "          [0., 0., 0., ..., 0., 0., 0.],\n",
              "          [0., 0., 0., ..., 0., 0., 0.],\n",
              "          ...,\n",
              "          [0., 0., 0., ..., 0., 0., 0.],\n",
              "          [0., 0., 0., ..., 0., 0., 0.],\n",
              "          [0., 0., 0., ..., 0., 0., 0.]],\n",
              " \n",
              "         [[0., 0., 0., ..., 0., 0., 0.],\n",
              "          [0., 0., 0., ..., 0., 0., 0.],\n",
              "          [0., 0., 0., ..., 0., 0., 0.],\n",
              "          ...,\n",
              "          [0., 0., 0., ..., 0., 0., 0.],\n",
              "          [0., 0., 0., ..., 0., 0., 0.],\n",
              "          [0., 0., 0., ..., 0., 0., 0.]]]], dtype=float32)>, 4)"
            ]
          },
          "metadata": {
            "tags": []
          },
          "execution_count": 25
        }
      ]
    },
    {
      "cell_type": "code",
      "metadata": {
        "colab": {
          "base_uri": "https://localhost:8080/"
        },
        "id": "GW0Pv3xvTTHA",
        "outputId": "4831c577-d839-4abf-a641-7fa10374acc3"
      },
      "source": [
        "r_4_tensor.shape, r_4_tensor.ndim, tf.size(r_4_tensor)"
      ],
      "execution_count": null,
      "outputs": [
        {
          "output_type": "execute_result",
          "data": {
            "text/plain": [
              "(TensorShape([5, 6, 7, 8]), 4, <tf.Tensor: shape=(), dtype=int32, numpy=1680>)"
            ]
          },
          "metadata": {
            "tags": []
          },
          "execution_count": 26
        }
      ]
    },
    {
      "cell_type": "code",
      "metadata": {
        "colab": {
          "base_uri": "https://localhost:8080/"
        },
        "id": "nMBFgYNoTkH8",
        "outputId": "25566236-d155-4799-fd4d-18546f79227e"
      },
      "source": [
        "#Pro lepe cteni tensoru\n",
        "\n",
        "print(f\"Datatype of tensor: {r_4_tensor.dtype}\")\n",
        "print(f\"Dimenze tensoru: {r_4_tensor.ndim}\")\n",
        "print(f\"Tvar tensoru: {r_4_tensor.shape}\")\n",
        "print(f\"Pocet elementu 0 axis: {r_4_tensor.shape[0]}\")\n",
        "print(f\"Pocet elementu posledni axis: {r_4_tensor.shape[-1]}\")\n",
        "print(f\"Pocet elementu v tensoru: {tf.size(r_4_tensor)}\")"
      ],
      "execution_count": null,
      "outputs": [
        {
          "output_type": "stream",
          "text": [
            "Datatype of tensor: <dtype: 'float32'>\n",
            "Dimenze tensoru: 4\n",
            "Tvar tensoru: (5, 6, 7, 8)\n",
            "Pocet elementu 0 axis: 5\n",
            "Pocet elementu posledni axis: 8\n",
            "Pocet elementu v tensoru: 1680\n"
          ],
          "name": "stdout"
        }
      ]
    },
    {
      "cell_type": "markdown",
      "metadata": {
        "id": "gx5-elA-UyIB"
      },
      "source": [
        "##Indexing tensors\n"
      ]
    },
    {
      "cell_type": "code",
      "metadata": {
        "colab": {
          "base_uri": "https://localhost:8080/"
        },
        "id": "r3G-M-omU1zE",
        "outputId": "4da23ca4-dc3d-4c84-c7f9-35f876ca38d8"
      },
      "source": [
        "#Prvni 2 elementy z tensoru\n",
        "r_4_tensor[:2,:2,:2,:2]"
      ],
      "execution_count": null,
      "outputs": [
        {
          "output_type": "execute_result",
          "data": {
            "text/plain": [
              "<tf.Tensor: shape=(2, 2, 2, 2), dtype=float32, numpy=\n",
              "array([[[[0., 0.],\n",
              "         [0., 0.]],\n",
              "\n",
              "        [[0., 0.],\n",
              "         [0., 0.]]],\n",
              "\n",
              "\n",
              "       [[[0., 0.],\n",
              "         [0., 0.]],\n",
              "\n",
              "        [[0., 0.],\n",
              "         [0., 0.]]]], dtype=float32)>"
            ]
          },
          "metadata": {
            "tags": []
          },
          "execution_count": 28
        }
      ]
    },
    {
      "cell_type": "code",
      "metadata": {
        "colab": {
          "base_uri": "https://localhost:8080/"
        },
        "id": "xjdJFIVGVyuZ",
        "outputId": "cf2f0a03-1d02-476d-aff2-561264c78aa1"
      },
      "source": [
        "#prvni elementy z dimenzi az na posledni dimenzi\n",
        "r_4_tensor[:1,:1,:1,:]"
      ],
      "execution_count": null,
      "outputs": [
        {
          "output_type": "execute_result",
          "data": {
            "text/plain": [
              "<tf.Tensor: shape=(1, 1, 1, 8), dtype=float32, numpy=array([[[[0., 0., 0., 0., 0., 0., 0., 0.]]]], dtype=float32)>"
            ]
          },
          "metadata": {
            "tags": []
          },
          "execution_count": 29
        }
      ]
    },
    {
      "cell_type": "code",
      "metadata": {
        "colab": {
          "base_uri": "https://localhost:8080/"
        },
        "id": "lC7e47emWPvI",
        "outputId": "5e3aaca3-1cad-4700-cf40-b077c342ffae"
      },
      "source": [
        "#Udelat rank2 tensor\n",
        "r2_tensor = tf.random.uniform([5,6])\n",
        "r2_tensor,r2_tensor.ndim"
      ],
      "execution_count": null,
      "outputs": [
        {
          "output_type": "execute_result",
          "data": {
            "text/plain": [
              "(<tf.Tensor: shape=(5, 6), dtype=float32, numpy=\n",
              " array([[0.6645621 , 0.44100678, 0.3528825 , 0.46448255, 0.03366041,\n",
              "         0.68467236],\n",
              "        [0.74011743, 0.8724445 , 0.22632635, 0.22319686, 0.3103881 ,\n",
              "         0.7223358 ],\n",
              "        [0.13318717, 0.5480639 , 0.5746088 , 0.8996835 , 0.00946367,\n",
              "         0.5212307 ],\n",
              "        [0.6345445 , 0.1993283 , 0.72942245, 0.54583454, 0.10756552,\n",
              "         0.6767061 ],\n",
              "        [0.6602763 , 0.33695042, 0.60141766, 0.21062577, 0.8527372 ,\n",
              "         0.44062173]], dtype=float32)>, 2)"
            ]
          },
          "metadata": {
            "tags": []
          },
          "execution_count": 30
        }
      ]
    },
    {
      "cell_type": "code",
      "metadata": {
        "colab": {
          "base_uri": "https://localhost:8080/"
        },
        "id": "LnQDTT2cWtz6",
        "outputId": "255a2dca-c558-4c14-b312-20ced47f4244"
      },
      "source": [
        "#Posledni elemety vsech dimenzi\n",
        "r2_tensor[:,-1:]"
      ],
      "execution_count": null,
      "outputs": [
        {
          "output_type": "execute_result",
          "data": {
            "text/plain": [
              "<tf.Tensor: shape=(5, 1), dtype=float32, numpy=\n",
              "array([[0.68467236],\n",
              "       [0.7223358 ],\n",
              "       [0.5212307 ],\n",
              "       [0.6767061 ],\n",
              "       [0.44062173]], dtype=float32)>"
            ]
          },
          "metadata": {
            "tags": []
          },
          "execution_count": 31
        }
      ]
    },
    {
      "cell_type": "code",
      "metadata": {
        "colab": {
          "base_uri": "https://localhost:8080/"
        },
        "id": "JJ4hNOfeXztZ",
        "outputId": "7fe5f59a-7f0b-4683-eeb4-dbf3a078a57c"
      },
      "source": [
        "#Pridani dimenze, misto na kazde dimenzi davat :,:,: nahradit za ...\n",
        "r3_tensor = r2_tensor[...,tf.newaxis]\n",
        "r3_tensor"
      ],
      "execution_count": null,
      "outputs": [
        {
          "output_type": "execute_result",
          "data": {
            "text/plain": [
              "<tf.Tensor: shape=(5, 6, 1), dtype=float32, numpy=\n",
              "array([[[0.6645621 ],\n",
              "        [0.44100678],\n",
              "        [0.3528825 ],\n",
              "        [0.46448255],\n",
              "        [0.03366041],\n",
              "        [0.68467236]],\n",
              "\n",
              "       [[0.74011743],\n",
              "        [0.8724445 ],\n",
              "        [0.22632635],\n",
              "        [0.22319686],\n",
              "        [0.3103881 ],\n",
              "        [0.7223358 ]],\n",
              "\n",
              "       [[0.13318717],\n",
              "        [0.5480639 ],\n",
              "        [0.5746088 ],\n",
              "        [0.8996835 ],\n",
              "        [0.00946367],\n",
              "        [0.5212307 ]],\n",
              "\n",
              "       [[0.6345445 ],\n",
              "        [0.1993283 ],\n",
              "        [0.72942245],\n",
              "        [0.54583454],\n",
              "        [0.10756552],\n",
              "        [0.6767061 ]],\n",
              "\n",
              "       [[0.6602763 ],\n",
              "        [0.33695042],\n",
              "        [0.60141766],\n",
              "        [0.21062577],\n",
              "        [0.8527372 ],\n",
              "        [0.44062173]]], dtype=float32)>"
            ]
          },
          "metadata": {
            "tags": []
          },
          "execution_count": 32
        }
      ]
    },
    {
      "cell_type": "code",
      "metadata": {
        "colab": {
          "base_uri": "https://localhost:8080/"
        },
        "id": "lJBEGP6JYcMM",
        "outputId": "af5a66af-338f-484b-cf34-149854750735"
      },
      "source": [
        "#alternativa\n",
        "tf.expand_dims(r2_tensor,axis=-1) #-1 posledni axis pridat dimenzi \n",
        "\n",
        "#tf.expand_dims(r2_tensor,axis=1) "
      ],
      "execution_count": null,
      "outputs": [
        {
          "output_type": "execute_result",
          "data": {
            "text/plain": [
              "<tf.Tensor: shape=(5, 6, 1), dtype=float32, numpy=\n",
              "array([[[0.6645621 ],\n",
              "        [0.44100678],\n",
              "        [0.3528825 ],\n",
              "        [0.46448255],\n",
              "        [0.03366041],\n",
              "        [0.68467236]],\n",
              "\n",
              "       [[0.74011743],\n",
              "        [0.8724445 ],\n",
              "        [0.22632635],\n",
              "        [0.22319686],\n",
              "        [0.3103881 ],\n",
              "        [0.7223358 ]],\n",
              "\n",
              "       [[0.13318717],\n",
              "        [0.5480639 ],\n",
              "        [0.5746088 ],\n",
              "        [0.8996835 ],\n",
              "        [0.00946367],\n",
              "        [0.5212307 ]],\n",
              "\n",
              "       [[0.6345445 ],\n",
              "        [0.1993283 ],\n",
              "        [0.72942245],\n",
              "        [0.54583454],\n",
              "        [0.10756552],\n",
              "        [0.6767061 ]],\n",
              "\n",
              "       [[0.6602763 ],\n",
              "        [0.33695042],\n",
              "        [0.60141766],\n",
              "        [0.21062577],\n",
              "        [0.8527372 ],\n",
              "        [0.44062173]]], dtype=float32)>"
            ]
          },
          "metadata": {
            "tags": []
          },
          "execution_count": 33
        }
      ]
    },
    {
      "cell_type": "markdown",
      "metadata": {
        "id": "ovSb5AsBZGZa"
      },
      "source": [
        "## Tensor operace"
      ]
    },
    {
      "cell_type": "code",
      "metadata": {
        "colab": {
          "base_uri": "https://localhost:8080/"
        },
        "id": "GAKGvfrZZIyo",
        "outputId": "930ea989-525f-43ee-da72-77145c676636"
      },
      "source": [
        "#Zakladni operace tensoru\n",
        "tensor = tf.constant([[10,7],\n",
        "                      [3,4]])\n",
        "tensor +10"
      ],
      "execution_count": null,
      "outputs": [
        {
          "output_type": "execute_result",
          "data": {
            "text/plain": [
              "<tf.Tensor: shape=(2, 2), dtype=int32, numpy=\n",
              "array([[20, 17],\n",
              "       [13, 14]], dtype=int32)>"
            ]
          },
          "metadata": {
            "tags": []
          },
          "execution_count": 34
        }
      ]
    },
    {
      "cell_type": "code",
      "metadata": {
        "colab": {
          "base_uri": "https://localhost:8080/"
        },
        "id": "BMx6u_Lwaowy",
        "outputId": "54086f44-722b-4af9-ef6c-b398fb599b8c"
      },
      "source": [
        "tensor *10"
      ],
      "execution_count": null,
      "outputs": [
        {
          "output_type": "execute_result",
          "data": {
            "text/plain": [
              "<tf.Tensor: shape=(2, 2), dtype=int32, numpy=\n",
              "array([[100,  70],\n",
              "       [ 30,  40]], dtype=int32)>"
            ]
          },
          "metadata": {
            "tags": []
          },
          "execution_count": 35
        }
      ]
    },
    {
      "cell_type": "code",
      "metadata": {
        "colab": {
          "base_uri": "https://localhost:8080/"
        },
        "id": "NmktwdP3asAF",
        "outputId": "9d62ee73-4ac5-4fa2-cee9-45e19f575144"
      },
      "source": [
        "tensor -10 "
      ],
      "execution_count": null,
      "outputs": [
        {
          "output_type": "execute_result",
          "data": {
            "text/plain": [
              "<tf.Tensor: shape=(2, 2), dtype=int32, numpy=\n",
              "array([[ 0, -3],\n",
              "       [-7, -6]], dtype=int32)>"
            ]
          },
          "metadata": {
            "tags": []
          },
          "execution_count": 36
        }
      ]
    },
    {
      "cell_type": "code",
      "metadata": {
        "colab": {
          "base_uri": "https://localhost:8080/"
        },
        "id": "bNz6BQ8Xa0L0",
        "outputId": "82fff184-586f-48a3-fe4d-846084766444"
      },
      "source": [
        "#Muzeme take pozit promo knihovnu tf rozdil mezi obycejnym a tf knihovnou je to ze TF vyuziva GPU coz je rychlejsi pri vetsich tensorech\n",
        "tf.math.multiply(tensor,10)"
      ],
      "execution_count": null,
      "outputs": [
        {
          "output_type": "execute_result",
          "data": {
            "text/plain": [
              "<tf.Tensor: shape=(2, 2), dtype=int32, numpy=\n",
              "array([[100,  70],\n",
              "       [ 30,  40]], dtype=int32)>"
            ]
          },
          "metadata": {
            "tags": []
          },
          "execution_count": 37
        }
      ]
    },
    {
      "cell_type": "code",
      "metadata": {
        "colab": {
          "base_uri": "https://localhost:8080/"
        },
        "id": "eGs13ENnbTL2",
        "outputId": "4b0fba92-cc7f-4e12-da95-36f4d10f795a"
      },
      "source": [
        "tf.math.add(tensor,10)"
      ],
      "execution_count": null,
      "outputs": [
        {
          "output_type": "execute_result",
          "data": {
            "text/plain": [
              "<tf.Tensor: shape=(2, 2), dtype=int32, numpy=\n",
              "array([[20, 17],\n",
              "       [13, 14]], dtype=int32)>"
            ]
          },
          "metadata": {
            "tags": []
          },
          "execution_count": 38
        }
      ]
    },
    {
      "cell_type": "code",
      "metadata": {
        "colab": {
          "base_uri": "https://localhost:8080/"
        },
        "id": "JQExq1iRbXpI",
        "outputId": "f428cf44-ea5f-48dc-950b-23b0bd1a4be7"
      },
      "source": [
        "tf.math.subtract(tensor,10)"
      ],
      "execution_count": null,
      "outputs": [
        {
          "output_type": "execute_result",
          "data": {
            "text/plain": [
              "<tf.Tensor: shape=(2, 2), dtype=int32, numpy=\n",
              "array([[ 0, -3],\n",
              "       [-7, -6]], dtype=int32)>"
            ]
          },
          "metadata": {
            "tags": []
          },
          "execution_count": 39
        }
      ]
    },
    {
      "cell_type": "markdown",
      "metadata": {
        "id": "omKh4u-7bbh5"
      },
      "source": [
        "##Operace s maticemi (tensory)\n",
        "Nejbeznejsi operace\n",
        "\n",
        "1. Vnitrni cisla matice musi sedet [2:3] [3:2] jde [5:6] [3:3] nejde\n",
        "2. Vysledna matice je rozmerove vzdalene cisla [2:3] [3:2] vysledna matice je [2:2]"
      ]
    },
    {
      "cell_type": "code",
      "metadata": {
        "colab": {
          "base_uri": "https://localhost:8080/"
        },
        "id": "MXz1TtnRbieA",
        "outputId": "1534123e-fa93-4a10-a53e-f6a0b8a85c10"
      },
      "source": [
        "#nasobeni matic\n",
        "print(tensor)\n",
        "tf.linalg.matmul(tensor,tensor)"
      ],
      "execution_count": null,
      "outputs": [
        {
          "output_type": "stream",
          "text": [
            "tf.Tensor(\n",
            "[[10  7]\n",
            " [ 3  4]], shape=(2, 2), dtype=int32)\n"
          ],
          "name": "stdout"
        },
        {
          "output_type": "execute_result",
          "data": {
            "text/plain": [
              "<tf.Tensor: shape=(2, 2), dtype=int32, numpy=\n",
              "array([[121,  98],\n",
              "       [ 42,  37]], dtype=int32)>"
            ]
          },
          "metadata": {
            "tags": []
          },
          "execution_count": 40
        }
      ]
    },
    {
      "cell_type": "code",
      "metadata": {
        "colab": {
          "base_uri": "https://localhost:8080/"
        },
        "id": "AvVqhfevdaXo",
        "outputId": "c1fea6f6-bfcc-45a8-ffe8-f1f5b445bd6b"
      },
      "source": [
        "mat1 = tf.constant([[1,2,1],\n",
        "                    [0,1,0],\n",
        "                    [2,3,4]])\n",
        "mat2 = tf.constant([[2,5],\n",
        "                    [6,7],\n",
        "                    [1,8]])\n",
        "tf.linalg.matmul(mat1,mat2)"
      ],
      "execution_count": null,
      "outputs": [
        {
          "output_type": "execute_result",
          "data": {
            "text/plain": [
              "<tf.Tensor: shape=(3, 2), dtype=int32, numpy=\n",
              "array([[15, 27],\n",
              "       [ 6,  7],\n",
              "       [26, 63]], dtype=int32)>"
            ]
          },
          "metadata": {
            "tags": []
          },
          "execution_count": 41
        }
      ]
    },
    {
      "cell_type": "code",
      "metadata": {
        "colab": {
          "base_uri": "https://localhost:8080/"
        },
        "id": "aWZzOFdpd9Ke",
        "outputId": "0f66b8b6-9fd0-4fd1-9f7b-407ddf9c4769"
      },
      "source": [
        "#Pocitani v Pythonu s maticemi\n",
        "mat1 @ mat2"
      ],
      "execution_count": null,
      "outputs": [
        {
          "output_type": "execute_result",
          "data": {
            "text/plain": [
              "<tf.Tensor: shape=(3, 2), dtype=int32, numpy=\n",
              "array([[15, 27],\n",
              "       [ 6,  7],\n",
              "       [26, 63]], dtype=int32)>"
            ]
          },
          "metadata": {
            "tags": []
          },
          "execution_count": 42
        }
      ]
    },
    {
      "cell_type": "code",
      "metadata": {
        "colab": {
          "base_uri": "https://localhost:8080/"
        },
        "id": "SnX_7CKNfFIF",
        "outputId": "d2a6b2fd-8b9b-49e3-9fce-7db521067c91"
      },
      "source": [
        "tf.linalg.matmul(mat2,mat2,transpose_a=True), tf.linalg.matmul(mat2,mat2,transpose_b=True)"
      ],
      "execution_count": null,
      "outputs": [
        {
          "output_type": "execute_result",
          "data": {
            "text/plain": [
              "(<tf.Tensor: shape=(2, 2), dtype=int32, numpy=\n",
              " array([[ 41,  60],\n",
              "        [ 60, 138]], dtype=int32)>,\n",
              " <tf.Tensor: shape=(3, 3), dtype=int32, numpy=\n",
              " array([[29, 47, 42],\n",
              "        [47, 85, 62],\n",
              "        [42, 62, 65]], dtype=int32)>)"
            ]
          },
          "metadata": {
            "tags": []
          },
          "execution_count": 43
        }
      ]
    },
    {
      "cell_type": "markdown",
      "metadata": {
        "id": "PVfcG9Q_ksrl"
      },
      "source": [
        "##Zmena typu data\n",
        "defaultni je 32 bit muzeme vsak premenit na 16bit coz zabira min mista v pameti a je rychlejsi. Zauctuje se to vsak na presnosti modelu. "
      ]
    },
    {
      "cell_type": "code",
      "metadata": {
        "colab": {
          "base_uri": "https://localhost:8080/"
        },
        "id": "9MlfO1AnkvUm",
        "outputId": "f74c6f00-2c72-4e36-d410-458d035f2ff4"
      },
      "source": [
        "B= tf.constant([1.7,2.8,3.5])\n",
        "C = tf.constant([1,2,3])\n",
        "B.dtype,C.dtype"
      ],
      "execution_count": null,
      "outputs": [
        {
          "output_type": "execute_result",
          "data": {
            "text/plain": [
              "(tf.float32, tf.int32)"
            ]
          },
          "metadata": {
            "tags": []
          },
          "execution_count": 44
        }
      ]
    },
    {
      "cell_type": "code",
      "metadata": {
        "colab": {
          "base_uri": "https://localhost:8080/"
        },
        "id": "xSFFgsTelmBE",
        "outputId": "26d08507-12d8-4bfa-80ee-b5ccb627b791"
      },
      "source": [
        "D = tf.cast(B,dtype=tf.float16)\n",
        "D.dtype, B.dtype"
      ],
      "execution_count": null,
      "outputs": [
        {
          "output_type": "execute_result",
          "data": {
            "text/plain": [
              "(tf.float16, tf.float32)"
            ]
          },
          "metadata": {
            "tags": []
          },
          "execution_count": 45
        }
      ]
    },
    {
      "cell_type": "code",
      "metadata": {
        "colab": {
          "base_uri": "https://localhost:8080/"
        },
        "id": "q9xtdHYbl-Fu",
        "outputId": "7275ec53-38d1-4e8f-940a-938e0594dc6a"
      },
      "source": [
        "E = tf.cast(C,dtype=tf.float32)\n",
        "C.dtype, E.dtype "
      ],
      "execution_count": null,
      "outputs": [
        {
          "output_type": "execute_result",
          "data": {
            "text/plain": [
              "(tf.int32, tf.float32)"
            ]
          },
          "metadata": {
            "tags": []
          },
          "execution_count": 46
        }
      ]
    },
    {
      "cell_type": "markdown",
      "metadata": {
        "id": "iTtGFjhAmOjf"
      },
      "source": [
        "##Agregace (Aggregation tensors)\n",
        "Zredukovani vicero hodnot na mene hodnot"
      ]
    },
    {
      "cell_type": "code",
      "metadata": {
        "colab": {
          "base_uri": "https://localhost:8080/"
        },
        "id": "d45dKculmVSS",
        "outputId": "e19b355a-e717-4024-b92c-fb9278b3e4a0"
      },
      "source": [
        "D = tf.constant([-7,-10])\n",
        "D"
      ],
      "execution_count": null,
      "outputs": [
        {
          "output_type": "execute_result",
          "data": {
            "text/plain": [
              "<tf.Tensor: shape=(2,), dtype=int32, numpy=array([ -7, -10], dtype=int32)>"
            ]
          },
          "metadata": {
            "tags": []
          },
          "execution_count": 47
        }
      ]
    },
    {
      "cell_type": "code",
      "metadata": {
        "colab": {
          "base_uri": "https://localhost:8080/"
        },
        "id": "gVp0IL3BndTM",
        "outputId": "2b3bab2c-1d6a-479d-f33c-2557c415a84d"
      },
      "source": [
        "tf.abs(D)"
      ],
      "execution_count": null,
      "outputs": [
        {
          "output_type": "execute_result",
          "data": {
            "text/plain": [
              "<tf.Tensor: shape=(2,), dtype=int32, numpy=array([ 7, 10], dtype=int32)>"
            ]
          },
          "metadata": {
            "tags": []
          },
          "execution_count": 48
        }
      ]
    },
    {
      "cell_type": "markdown",
      "metadata": {
        "id": "jJbINc5wnpo7"
      },
      "source": [
        "Formy agregace\n",
        "* Maximum\n",
        "* Minimum\n",
        "* Prumer\n",
        "* Soucet"
      ]
    },
    {
      "cell_type": "code",
      "metadata": {
        "colab": {
          "base_uri": "https://localhost:8080/"
        },
        "id": "tbTO7wIzn40O",
        "outputId": "7da89dd8-6f3b-4bed-91e8-378d810dcb70"
      },
      "source": [
        "tf.random.set_seed(42)\n",
        "random3 = tf.random.uniform([50,50,50],seed=42,minval=0,maxval=100)\n",
        "print(f\"Maximalni hodnota v tensoru: {tf.math.reduce_max(random3)}\")\n",
        "print(f\"Minimalni hodnota v tensoru: {tf.math.reduce_min(random3)}\")\n",
        "print(f\"Prumerna hodnota v tensoru: {tf.math.reduce_mean(random3)}\")\n",
        "print(f\"Soucet hodnot v tensoru: {tf.math.reduce_sum(random3)}\")"
      ],
      "execution_count": null,
      "outputs": [
        {
          "output_type": "stream",
          "text": [
            "Maximalni hodnota v tensoru: 99.99900817871094\n",
            "Minimalni hodnota v tensoru: 0.0017404556274414062\n",
            "Prumerna hodnota v tensoru: 50.010311126708984\n",
            "Soucet hodnot v tensoru: 6251289.0\n"
          ],
          "name": "stdout"
        }
      ]
    },
    {
      "cell_type": "markdown",
      "metadata": {
        "id": "-U_x1j_jr9Xc"
      },
      "source": [
        "##Směrodatná odchylka a rozptyl\n",
        "Rozptyl je jak moc jsou hodnoty rozptýlene od průměrné hodnoty.\\\n",
        "Zatím co směrodatná odchylka je odmocnina z rozptylu."
      ]
    },
    {
      "cell_type": "code",
      "metadata": {
        "colab": {
          "base_uri": "https://localhost:8080/"
        },
        "id": "NmdFOClrr8zj",
        "outputId": "e4405c44-363c-4eb0-e5e3-abc6d83e225a"
      },
      "source": [
        "print(f\"Rozptyl matice: {tf.math.reduce_variance(random3)}\")\n",
        "print(f\"Smerodatna odchylka matice: {tf.math.reduce_std(random3)}\")"
      ],
      "execution_count": null,
      "outputs": [
        {
          "output_type": "stream",
          "text": [
            "Rozptyl matice: 831.886474609375\n",
            "Smerodatna odchylka matice: 28.84244155883789\n"
          ],
          "name": "stdout"
        }
      ]
    },
    {
      "cell_type": "markdown",
      "metadata": {
        "id": "EFFxS0jdul-t"
      },
      "source": [
        "##Zjisteni pozice maximalni a minimalni hodnoty\n",
        "Tato funkce funguje podle ocekavani (ze vrati pouze jednu hodnotu, ktera obsahuje index, kde je nevyssi hodnota) pouze u 1 dim"
      ]
    },
    {
      "cell_type": "code",
      "metadata": {
        "colab": {
          "base_uri": "https://localhost:8080/"
        },
        "id": "nqPT2bvXuwI-",
        "outputId": "6dd4d7a9-39c2-4c16-f789-a80478850f88"
      },
      "source": [
        "print(f\"Maximalni hodnota je na pozici: {tf.math.argmax(random3)}\")\n",
        "print(f\"Minimalni hodnota je na pozici: {tf.math.argmin(random3)}\")\n",
        "print(\"\\n\")\n",
        "print(f\"Tato funkce funguje podle ocekavani (ze vrati pouze jednu hodnotu, ktera obsahuje index, kde je nevyssi hodnota) pouze u 1 dim \")\n",
        "print(\"\\n\")\n",
        "tf.random.set_seed(42)\n",
        "random4 = tf.random.uniform([50])\n",
        "print(random4)\n",
        "print(\"\\n\")\n",
        "print(f\"Maximalni hodnota 1dim je na pozici: {tf.math.argmax(random4)}\")\n",
        "print(f\"Minimalni hodnota 1dim je na pozici: {tf.math.argmin(random4)}\")\n",
        "print(f\"Maximalni hodnota: {random4[tf.math.argmax(random4)]}\")\n",
        "print(f\"Minimalni hodnota: {random4[tf.math.argmin(random4)]}\")\n",
        "#tf.math.argmax(tf.math.argmax(tf.math.argmax(random3)))"
      ],
      "execution_count": null,
      "outputs": [
        {
          "output_type": "stream",
          "text": [
            "Maximalni hodnota je na pozici: [[10  1 34 ...  4 13 17]\n",
            " [34 13 45 ... 30 46 42]\n",
            " [22 21 12 ... 32 15 13]\n",
            " ...\n",
            " [10 40 31 ... 22  9 31]\n",
            " [24 12  1 ... 32 49 49]\n",
            " [29 17 41 ... 41  7 44]]\n",
            "Minimalni hodnota je na pozici: [[26  3 33 ...  7 10 47]\n",
            " [ 4 45 42 ...  7 40 49]\n",
            " [39 20 42 ...  4  7 42]\n",
            " ...\n",
            " [45 33 14 ... 21 28 12]\n",
            " [ 9 11  0 ... 33 30 17]\n",
            " [28  9 34 ... 40 41 31]]\n",
            "\n",
            "\n",
            "Tato funkce funguje podle ocekavani (ze vrati pouze jednu hodnotu, ktera obsahuje index, kde je nevyssi hodnota) pouze u 1 dim \n",
            "\n",
            "\n",
            "tf.Tensor(\n",
            "[0.6645621  0.44100678 0.3528825  0.46448255 0.03366041 0.68467236\n",
            " 0.74011743 0.8724445  0.22632635 0.22319686 0.3103881  0.7223358\n",
            " 0.13318717 0.5480639  0.5746088  0.8996835  0.00946367 0.5212307\n",
            " 0.6345445  0.1993283  0.72942245 0.54583454 0.10756552 0.6767061\n",
            " 0.6602763  0.33695042 0.60141766 0.21062577 0.8527372  0.44062173\n",
            " 0.9485276  0.23752594 0.81179297 0.5263394  0.494308   0.21612847\n",
            " 0.8457197  0.8718841  0.3083862  0.6868038  0.23764038 0.7817228\n",
            " 0.9671384  0.06870162 0.79873943 0.66028714 0.5871513  0.16461694\n",
            " 0.7381023  0.32054043], shape=(50,), dtype=float32)\n",
            "\n",
            "\n",
            "Maximalni hodnota 1dim je na pozici: 42\n",
            "Minimalni hodnota 1dim je na pozici: 16\n",
            "Maximalni hodnota: 0.967138409614563\n",
            "Minimalni hodnota: 0.009463667869567871\n"
          ],
          "name": "stdout"
        }
      ]
    },
    {
      "cell_type": "markdown",
      "metadata": {
        "id": "hebGpSks0PcU"
      },
      "source": [
        "##Zmacknuti tensoru (Squeezing tensor)\n",
        "Odstranovani 1 dim prebytecnych"
      ]
    },
    {
      "cell_type": "code",
      "metadata": {
        "colab": {
          "base_uri": "https://localhost:8080/"
        },
        "id": "YVXfknA20YMb",
        "outputId": "ffc31bb8-57e6-4cee-cc0c-c0a7da0204db"
      },
      "source": [
        "tf.random.set_seed(42)\n",
        "G = tf.constant(tf.random.uniform([50]),shape=(1,1,1,1,1,1,1,1,1,1,1,1,1,1,1,50))\n",
        "G"
      ],
      "execution_count": null,
      "outputs": [
        {
          "output_type": "execute_result",
          "data": {
            "text/plain": [
              "<tf.Tensor: shape=(1, 1, 1, 1, 1, 1, 1, 1, 1, 1, 1, 1, 1, 1, 1, 50), dtype=float32, numpy=\n",
              "array([[[[[[[[[[[[[[[[0.6645621 , 0.44100678, 0.3528825 ,\n",
              "                      0.46448255, 0.03366041, 0.68467236,\n",
              "                      0.74011743, 0.8724445 , 0.22632635,\n",
              "                      0.22319686, 0.3103881 , 0.7223358 ,\n",
              "                      0.13318717, 0.5480639 , 0.5746088 ,\n",
              "                      0.8996835 , 0.00946367, 0.5212307 ,\n",
              "                      0.6345445 , 0.1993283 , 0.72942245,\n",
              "                      0.54583454, 0.10756552, 0.6767061 ,\n",
              "                      0.6602763 , 0.33695042, 0.60141766,\n",
              "                      0.21062577, 0.8527372 , 0.44062173,\n",
              "                      0.9485276 , 0.23752594, 0.81179297,\n",
              "                      0.5263394 , 0.494308  , 0.21612847,\n",
              "                      0.8457197 , 0.8718841 , 0.3083862 ,\n",
              "                      0.6868038 , 0.23764038, 0.7817228 ,\n",
              "                      0.9671384 , 0.06870162, 0.79873943,\n",
              "                      0.66028714, 0.5871513 , 0.16461694,\n",
              "                      0.7381023 , 0.32054043]]]]]]]]]]]]]]]],\n",
              "      dtype=float32)>"
            ]
          },
          "metadata": {
            "tags": []
          },
          "execution_count": 52
        }
      ]
    },
    {
      "cell_type": "code",
      "metadata": {
        "colab": {
          "base_uri": "https://localhost:8080/"
        },
        "id": "j21Yy8W81AUy",
        "outputId": "280b6176-98aa-414f-c805-bc2c697797d5"
      },
      "source": [
        "G_squeezed = tf.squeeze(G)\n",
        "G_squeezed"
      ],
      "execution_count": null,
      "outputs": [
        {
          "output_type": "execute_result",
          "data": {
            "text/plain": [
              "<tf.Tensor: shape=(50,), dtype=float32, numpy=\n",
              "array([0.6645621 , 0.44100678, 0.3528825 , 0.46448255, 0.03366041,\n",
              "       0.68467236, 0.74011743, 0.8724445 , 0.22632635, 0.22319686,\n",
              "       0.3103881 , 0.7223358 , 0.13318717, 0.5480639 , 0.5746088 ,\n",
              "       0.8996835 , 0.00946367, 0.5212307 , 0.6345445 , 0.1993283 ,\n",
              "       0.72942245, 0.54583454, 0.10756552, 0.6767061 , 0.6602763 ,\n",
              "       0.33695042, 0.60141766, 0.21062577, 0.8527372 , 0.44062173,\n",
              "       0.9485276 , 0.23752594, 0.81179297, 0.5263394 , 0.494308  ,\n",
              "       0.21612847, 0.8457197 , 0.8718841 , 0.3083862 , 0.6868038 ,\n",
              "       0.23764038, 0.7817228 , 0.9671384 , 0.06870162, 0.79873943,\n",
              "       0.66028714, 0.5871513 , 0.16461694, 0.7381023 , 0.32054043],\n",
              "      dtype=float32)>"
            ]
          },
          "metadata": {
            "tags": []
          },
          "execution_count": 53
        }
      ]
    },
    {
      "cell_type": "markdown",
      "metadata": {
        "id": "2ab_wQfy1YSr"
      },
      "source": [
        "##One-hot Encoding tensor"
      ]
    },
    {
      "cell_type": "code",
      "metadata": {
        "colab": {
          "base_uri": "https://localhost:8080/"
        },
        "id": "oJ7OiAiS1akJ",
        "outputId": "d00e102d-2c92-4de2-8768-1258f0bbb57c"
      },
      "source": [
        "some_list = [0,1,2]  #red,green,blue\n",
        "\n",
        "tf.one_hot(some_list,depth=3)\n",
        "#vytvori z indicii tensor, ktery na kazdem radku ma specifikaci o jaky typ jde 1. radek red 2. radek green 3.radek blue"
      ],
      "execution_count": null,
      "outputs": [
        {
          "output_type": "execute_result",
          "data": {
            "text/plain": [
              "<tf.Tensor: shape=(3, 3), dtype=float32, numpy=\n",
              "array([[1., 0., 0.],\n",
              "       [0., 1., 0.],\n",
              "       [0., 0., 1.]], dtype=float32)>"
            ]
          },
          "metadata": {
            "tags": []
          },
          "execution_count": 54
        }
      ]
    },
    {
      "cell_type": "code",
      "metadata": {
        "colab": {
          "base_uri": "https://localhost:8080/"
        },
        "id": "hOLX3sr72Ymz",
        "outputId": "d50c1385-dc5b-4fc4-f5f3-5432bb79dabd"
      },
      "source": [
        "#Specifikace vlastnich hodnot na one_hot (v praxi nepouziva se)\n",
        "tf.one_hot(some_list,depth=3,on_value=\"on\",off_value=\"off\")"
      ],
      "execution_count": null,
      "outputs": [
        {
          "output_type": "execute_result",
          "data": {
            "text/plain": [
              "<tf.Tensor: shape=(3, 3), dtype=string, numpy=\n",
              "array([[b'on', b'off', b'off'],\n",
              "       [b'off', b'on', b'off'],\n",
              "       [b'off', b'off', b'on']], dtype=object)>"
            ]
          },
          "metadata": {
            "tags": []
          },
          "execution_count": 55
        }
      ]
    },
    {
      "cell_type": "markdown",
      "metadata": {
        "id": "gWaXkW1E3bxJ"
      },
      "source": [
        "##Bezne matematicke operace\n",
        "* Log\n",
        "* Odmocnina\n",
        "* Mocnina"
      ]
    },
    {
      "cell_type": "code",
      "metadata": {
        "colab": {
          "base_uri": "https://localhost:8080/"
        },
        "id": "OBYbxdzT3egI",
        "outputId": "18133cc3-3f0a-4eeb-ecbd-64f83a19b02b"
      },
      "source": [
        "H= tf.range(1,10)\n",
        "H"
      ],
      "execution_count": null,
      "outputs": [
        {
          "output_type": "execute_result",
          "data": {
            "text/plain": [
              "<tf.Tensor: shape=(9,), dtype=int32, numpy=array([1, 2, 3, 4, 5, 6, 7, 8, 9], dtype=int32)>"
            ]
          },
          "metadata": {
            "tags": []
          },
          "execution_count": 56
        }
      ]
    },
    {
      "cell_type": "code",
      "metadata": {
        "colab": {
          "base_uri": "https://localhost:8080/"
        },
        "id": "g4F4200I3qLt",
        "outputId": "355b9fba-ff85-4ab6-b8ca-9d7ff7215cfc"
      },
      "source": [
        "tf.square(H)"
      ],
      "execution_count": null,
      "outputs": [
        {
          "output_type": "execute_result",
          "data": {
            "text/plain": [
              "<tf.Tensor: shape=(9,), dtype=int32, numpy=array([ 1,  4,  9, 16, 25, 36, 49, 64, 81], dtype=int32)>"
            ]
          },
          "metadata": {
            "tags": []
          },
          "execution_count": 57
        }
      ]
    },
    {
      "cell_type": "code",
      "metadata": {
        "colab": {
          "base_uri": "https://localhost:8080/"
        },
        "id": "9EXFkne-3tK-",
        "outputId": "3112bd29-2eae-46ec-cb3c-4c3dfe210c2c"
      },
      "source": [
        "tf.sqrt(tf.cast(H,tf.float32)) #Nesmi byt int type"
      ],
      "execution_count": null,
      "outputs": [
        {
          "output_type": "execute_result",
          "data": {
            "text/plain": [
              "<tf.Tensor: shape=(9,), dtype=float32, numpy=\n",
              "array([0.99999994, 1.4142134 , 1.7320508 , 1.9999999 , 2.236068  ,\n",
              "       2.4494896 , 2.6457512 , 2.8284268 , 3.        ], dtype=float32)>"
            ]
          },
          "metadata": {
            "tags": []
          },
          "execution_count": 58
        }
      ]
    },
    {
      "cell_type": "code",
      "metadata": {
        "colab": {
          "base_uri": "https://localhost:8080/"
        },
        "id": "YCFNhSOC4D3X",
        "outputId": "6e6f6e29-2a26-4a2a-8985-3e60e3e158f7"
      },
      "source": [
        "tf.math.log(tf.cast(H,tf.float32)) #Nesmi byt int type"
      ],
      "execution_count": null,
      "outputs": [
        {
          "output_type": "execute_result",
          "data": {
            "text/plain": [
              "<tf.Tensor: shape=(9,), dtype=float32, numpy=\n",
              "array([0.       , 0.6931472, 1.0986123, 1.3862944, 1.609438 , 1.7917595,\n",
              "       1.9459102, 2.0794415, 2.1972246], dtype=float32)>"
            ]
          },
          "metadata": {
            "tags": []
          },
          "execution_count": 59
        }
      ]
    },
    {
      "cell_type": "markdown",
      "metadata": {
        "id": "MVSnJC0a4hn1"
      },
      "source": [
        "##Tensor a NumPy\n",
        "TensorFlow pracuje krasne NumPy array"
      ]
    },
    {
      "cell_type": "code",
      "metadata": {
        "colab": {
          "base_uri": "https://localhost:8080/"
        },
        "id": "ppeRYe-F4jy5",
        "outputId": "3c39669b-5927-40a8-dc5d-f9fbbed396b7"
      },
      "source": [
        "#Vytvoreni tensoru z NumPy array\n",
        "J = tf.constant(np.array([3.,7.,10.]))\n",
        "J"
      ],
      "execution_count": null,
      "outputs": [
        {
          "output_type": "execute_result",
          "data": {
            "text/plain": [
              "<tf.Tensor: shape=(3,), dtype=float64, numpy=array([ 3.,  7., 10.])>"
            ]
          },
          "metadata": {
            "tags": []
          },
          "execution_count": 60
        }
      ]
    },
    {
      "cell_type": "code",
      "metadata": {
        "colab": {
          "base_uri": "https://localhost:8080/"
        },
        "id": "7Qvz3Eq348bV",
        "outputId": "2ea79294-5634-4469-c89d-e6163e4cc4ab"
      },
      "source": [
        "#Konverce zpet na NumPy array\n",
        "np.array(J), type(np.array(J))"
      ],
      "execution_count": null,
      "outputs": [
        {
          "output_type": "execute_result",
          "data": {
            "text/plain": [
              "(array([ 3.,  7., 10.]), numpy.ndarray)"
            ]
          },
          "metadata": {
            "tags": []
          },
          "execution_count": 61
        }
      ]
    },
    {
      "cell_type": "code",
      "metadata": {
        "colab": {
          "base_uri": "https://localhost:8080/"
        },
        "id": "qdqwXqQs5VMn",
        "outputId": "8463a86f-204f-4f52-997e-d5edb2796d0b"
      },
      "source": [
        "J.numpy(), type(J.numpy())"
      ],
      "execution_count": null,
      "outputs": [
        {
          "output_type": "execute_result",
          "data": {
            "text/plain": [
              "(array([ 3.,  7., 10.]), numpy.ndarray)"
            ]
          },
          "metadata": {
            "tags": []
          },
          "execution_count": 62
        }
      ]
    },
    {
      "cell_type": "code",
      "metadata": {
        "colab": {
          "base_uri": "https://localhost:8080/"
        },
        "id": "cFOeu4775tsU",
        "outputId": "e13ce21e-e771-47a1-fcd0-a3acc3d6996d"
      },
      "source": [
        "#Defaultni typy\n",
        "\n",
        "np_J = tf.constant(np.array([3.,7.,10.]))\n",
        "tensor_J = tf.constant([3.,7.,10.])\n",
        "#Pozor na typ pri vytvareni a konvertovani. \n",
        "np_J.dtype,tensor_J.dtype"
      ],
      "execution_count": null,
      "outputs": [
        {
          "output_type": "execute_result",
          "data": {
            "text/plain": [
              "(tf.float64, tf.float32)"
            ]
          },
          "metadata": {
            "tags": []
          },
          "execution_count": 63
        }
      ]
    },
    {
      "cell_type": "markdown",
      "metadata": {
        "id": "MM7fdUhEsDvo"
      },
      "source": [
        "##Access to GPU\n",
        "Runtime -> Changeruntime\n"
      ]
    },
    {
      "cell_type": "code",
      "metadata": {
        "colab": {
          "base_uri": "https://localhost:8080/"
        },
        "id": "RMrhQbzKq-o5",
        "outputId": "73571bae-2968-459d-972b-e3fe882c40e8"
      },
      "source": [
        "import tensorflow as tf\n",
        "tf.config.list_logical_devices(\"GPU\")\n"
      ],
      "execution_count": null,
      "outputs": [
        {
          "output_type": "execute_result",
          "data": {
            "text/plain": [
              "[LogicalDevice(name='/device:GPU:0', device_type='GPU')]"
            ]
          },
          "metadata": {
            "tags": []
          },
          "execution_count": 2
        }
      ]
    },
    {
      "cell_type": "code",
      "metadata": {
        "colab": {
          "base_uri": "https://localhost:8080/"
        },
        "id": "pQMgIdpTrZ_2",
        "outputId": "471b491d-5f7c-40be-e19e-ed07aed81f45"
      },
      "source": [
        "!nvidia-smi"
      ],
      "execution_count": null,
      "outputs": [
        {
          "output_type": "stream",
          "text": [
            "Wed Jun 30 20:51:29 2021       \n",
            "+-----------------------------------------------------------------------------+\n",
            "| NVIDIA-SMI 465.27       Driver Version: 460.32.03    CUDA Version: 11.2     |\n",
            "|-------------------------------+----------------------+----------------------+\n",
            "| GPU  Name        Persistence-M| Bus-Id        Disp.A | Volatile Uncorr. ECC |\n",
            "| Fan  Temp  Perf  Pwr:Usage/Cap|         Memory-Usage | GPU-Util  Compute M. |\n",
            "|                               |                      |               MIG M. |\n",
            "|===============================+======================+======================|\n",
            "|   0  Tesla T4            Off  | 00000000:00:04.0 Off |                    0 |\n",
            "| N/A   59C    P0    30W /  70W |    222MiB / 15109MiB |      0%      Default |\n",
            "|                               |                      |                  N/A |\n",
            "+-------------------------------+----------------------+----------------------+\n",
            "                                                                               \n",
            "+-----------------------------------------------------------------------------+\n",
            "| Processes:                                                                  |\n",
            "|  GPU   GI   CI        PID   Type   Process name                  GPU Memory |\n",
            "|        ID   ID                                                   Usage      |\n",
            "|=============================================================================|\n",
            "+-----------------------------------------------------------------------------+\n"
          ],
          "name": "stdout"
        }
      ]
    },
    {
      "cell_type": "markdown",
      "metadata": {
        "id": "o_FOF-ZQs5Tg"
      },
      "source": [
        "##Cviceni\n",
        "* Create a vector, scalar, matrix and tensor with values of your choosing using tf.constant().\n",
        "* Find the shape, rank and size of the tensors you created in 1.\n",
        "*Create two tensors containing random values between 0 and 1 with shape [5, 300].\n",
        "* Multiply the two tensors you created in 3 using matrix multiplication.\n",
        "* Multiply the two tensors you created in 3 using dot product. (Znovu se kouknout)\n",
        "* Create a tensor with random values between 0 and 1 with shape [224, 224, 3].\n",
        "* Find the min and max values of the tensor you created in 6 along the first axis.\n",
        "* Created a tensor with random values of shape [1, 224, 224, 3] then squeeze it to change the shape to [224, 224, 3].\n",
        "* Create a tensor with shape [10] using your own choice of values, then find the index which has the maximum value.\n",
        "* One-hot encode the tensor you created in 9"
      ]
    },
    {
      "cell_type": "code",
      "metadata": {
        "id": "A3KU_rxxs_W-"
      },
      "source": [
        "import numpy as np\n",
        "\n",
        "#1 a #2\n",
        "t_s = tf.constant(1)\n",
        "t_v = tf.constant([1,2])\n",
        "t_m = tf.constant([[1,2],\n",
        "                   [3,4]])\n",
        "t_t = tf.constant([[[1,2],\n",
        "                   [3,4]],\n",
        "                  [[5,6],\n",
        "                   [7,8]]])\n",
        "print(f\"Rank of scalar:{t_s.ndim}\")\n",
        "print(f\"Rank of vector:{t_v.ndim}\")\n",
        "print(f\"Rank of matrix:{t_m.ndim}\")\n",
        "print(f\"Rank of tensor:{t_t.ndim}\")\n",
        "\n",
        "print(f\"Shape of scalar:{t_s.shape}\")\n",
        "print(f\"Shape of vector:{t_v.shape}\")\n",
        "print(f\"Shape of matrix:{t_m.shape}\")\n",
        "print(f\"Shape of tensor:{t_t.shape}\")\n",
        "\n",
        "print(f\"Size of scalar:{tf.size(t_s)}\")\n",
        "print(f\"Size of vector:{tf.size(t_v)}\")\n",
        "print(f\"Size of matrix:{tf.size(t_m)}\")\n",
        "print(f\"Size of tensor:{tf.size(t_t)}\")\n"
      ],
      "execution_count": null,
      "outputs": []
    },
    {
      "cell_type": "code",
      "metadata": {
        "id": "KRVtaAFRv0VF"
      },
      "source": [
        "t_random1 = tf.random.uniform(shape=(5,300),minval=0,maxval=1)\n",
        "t_random2 = tf.random.uniform(shape=(5,300),minval=0,maxval=1)\n",
        "\n",
        "t_random1,t_random2"
      ],
      "execution_count": null,
      "outputs": []
    },
    {
      "cell_type": "code",
      "metadata": {
        "id": "5JH4RWY_wLhC"
      },
      "source": [
        "tf.linalg.matmul(t_random1,t_random2,transpose_b=True)"
      ],
      "execution_count": null,
      "outputs": []
    },
    {
      "cell_type": "code",
      "metadata": {
        "id": "ZTn0KQIpxIKr"
      },
      "source": [
        "t_random3 = tf.random.uniform(shape=(224,224,1))\n",
        "t_random3"
      ],
      "execution_count": null,
      "outputs": []
    },
    {
      "cell_type": "code",
      "metadata": {
        "id": "jUfWfRwQxX62"
      },
      "source": [
        "tf.math.reduce_max(t_random3)\n"
      ],
      "execution_count": null,
      "outputs": []
    },
    {
      "cell_type": "code",
      "metadata": {
        "id": "n-WwJ4qVxlAJ"
      },
      "source": [
        "tf.math.reduce_min(t_random3)"
      ],
      "execution_count": null,
      "outputs": []
    },
    {
      "cell_type": "code",
      "metadata": {
        "id": "hBah6bIJxv7F"
      },
      "source": [
        "t_random4 = tf.random.uniform(shape=(1,224,224,3))\n",
        "print(t_random4.shape)\n",
        "t_random4_sq = tf.squeeze(t_random4)\n",
        "print(t_random4_sq.shape)\n"
      ],
      "execution_count": null,
      "outputs": []
    },
    {
      "cell_type": "code",
      "metadata": {
        "colab": {
          "base_uri": "https://localhost:8080/"
        },
        "id": "_2wRu7wYyTFM",
        "outputId": "0f320909-bf3c-4db8-ec41-b88a201b5890"
      },
      "source": [
        "t_in_max = tf.constant(np.arange(0,10,1))\n",
        "print(t_in_max[:5])\n",
        "print(t_in_max.shape)\n",
        "print(t_in_max)\n",
        "print(tf.math.argmax(t_in_max))\n",
        "print(t_in_max[tf.math.argmax(t_in_max)])"
      ],
      "execution_count": null,
      "outputs": [
        {
          "output_type": "stream",
          "text": [
            "tf.Tensor([0 1 2 3 4], shape=(5,), dtype=int64)\n",
            "(10,)\n",
            "tf.Tensor([0 1 2 3 4 5 6 7 8 9], shape=(10,), dtype=int64)\n",
            "tf.Tensor(9, shape=(), dtype=int64)\n",
            "tf.Tensor(9, shape=(), dtype=int64)\n"
          ],
          "name": "stdout"
        }
      ]
    },
    {
      "cell_type": "code",
      "metadata": {
        "id": "wB8ro67gzU0Y"
      },
      "source": [
        "print(tf.cast(t_in_max,tf.int32))\n",
        "tf.one_hot(tf.cast(t_in_max,tf.int32),depth=10)"
      ],
      "execution_count": null,
      "outputs": []
    }
  ]
}