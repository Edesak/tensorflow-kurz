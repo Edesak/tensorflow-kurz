{
  "nbformat": 4,
  "nbformat_minor": 0,
  "metadata": {
    "colab": {
      "name": "07_milestone_project_1.ipynb",
      "provenance": [],
      "collapsed_sections": [],
      "authorship_tag": "ABX9TyMICpUOODojCrUQqlbzdksE",
      "include_colab_link": true
    },
    "kernelspec": {
      "name": "python3",
      "display_name": "Python 3"
    },
    "language_info": {
      "name": "python"
    },
    "accelerator": "GPU",
    "widgets": {
      "application/vnd.jupyter.widget-state+json": {
        "2fce7828d1854efaa452771b89bbd8c1": {
          "model_module": "@jupyter-widgets/controls",
          "model_name": "HBoxModel",
          "model_module_version": "1.5.0",
          "state": {
            "_view_name": "HBoxView",
            "_dom_classes": [],
            "_model_name": "HBoxModel",
            "_view_module": "@jupyter-widgets/controls",
            "_model_module_version": "1.5.0",
            "_view_count": null,
            "_view_module_version": "1.5.0",
            "box_style": "",
            "layout": "IPY_MODEL_c17a44c5073544db854e2fa65358437b",
            "_model_module": "@jupyter-widgets/controls",
            "children": [
              "IPY_MODEL_443632b9434c4bff846a76472227b97a",
              "IPY_MODEL_b48712fdb7fc407f9940db1bda0545b6",
              "IPY_MODEL_33ce8f4c39d04df99a673952ea656db9"
            ]
          }
        },
        "c17a44c5073544db854e2fa65358437b": {
          "model_module": "@jupyter-widgets/base",
          "model_name": "LayoutModel",
          "model_module_version": "1.2.0",
          "state": {
            "_view_name": "LayoutView",
            "grid_template_rows": null,
            "right": null,
            "justify_content": null,
            "_view_module": "@jupyter-widgets/base",
            "overflow": null,
            "_model_module_version": "1.2.0",
            "_view_count": null,
            "flex_flow": null,
            "width": null,
            "min_width": null,
            "border": null,
            "align_items": null,
            "bottom": null,
            "_model_module": "@jupyter-widgets/base",
            "top": null,
            "grid_column": null,
            "overflow_y": null,
            "overflow_x": null,
            "grid_auto_flow": null,
            "grid_area": null,
            "grid_template_columns": null,
            "flex": null,
            "_model_name": "LayoutModel",
            "justify_items": null,
            "grid_row": null,
            "max_height": null,
            "align_content": null,
            "visibility": null,
            "align_self": null,
            "height": null,
            "min_height": null,
            "padding": null,
            "grid_auto_rows": null,
            "grid_gap": null,
            "max_width": null,
            "order": null,
            "_view_module_version": "1.2.0",
            "grid_template_areas": null,
            "object_position": null,
            "object_fit": null,
            "grid_auto_columns": null,
            "margin": null,
            "display": null,
            "left": null
          }
        },
        "443632b9434c4bff846a76472227b97a": {
          "model_module": "@jupyter-widgets/controls",
          "model_name": "HTMLModel",
          "model_module_version": "1.5.0",
          "state": {
            "_view_name": "HTMLView",
            "style": "IPY_MODEL_c3de3dacb1644b2ba0fd144a5d547b10",
            "_dom_classes": [],
            "description": "",
            "_model_name": "HTMLModel",
            "placeholder": "​",
            "_view_module": "@jupyter-widgets/controls",
            "_model_module_version": "1.5.0",
            "value": "Dl Completed...: 100%",
            "_view_count": null,
            "_view_module_version": "1.5.0",
            "description_tooltip": null,
            "_model_module": "@jupyter-widgets/controls",
            "layout": "IPY_MODEL_deb1db81845f4f2ca85f834498a1d10f"
          }
        },
        "b48712fdb7fc407f9940db1bda0545b6": {
          "model_module": "@jupyter-widgets/controls",
          "model_name": "FloatProgressModel",
          "model_module_version": "1.5.0",
          "state": {
            "_view_name": "ProgressView",
            "style": "IPY_MODEL_6006eb4f59494e4488442b19a63bffcb",
            "_dom_classes": [],
            "description": "",
            "_model_name": "FloatProgressModel",
            "bar_style": "success",
            "max": 1,
            "_view_module": "@jupyter-widgets/controls",
            "_model_module_version": "1.5.0",
            "value": 1,
            "_view_count": null,
            "_view_module_version": "1.5.0",
            "orientation": "horizontal",
            "min": 0,
            "description_tooltip": null,
            "_model_module": "@jupyter-widgets/controls",
            "layout": "IPY_MODEL_0654e6b6eb3b4964be0cb29ddbac9559"
          }
        },
        "33ce8f4c39d04df99a673952ea656db9": {
          "model_module": "@jupyter-widgets/controls",
          "model_name": "HTMLModel",
          "model_module_version": "1.5.0",
          "state": {
            "_view_name": "HTMLView",
            "style": "IPY_MODEL_a26a77b752d843bda1cacc59b26cb3fa",
            "_dom_classes": [],
            "description": "",
            "_model_name": "HTMLModel",
            "placeholder": "​",
            "_view_module": "@jupyter-widgets/controls",
            "_model_module_version": "1.5.0",
            "value": " 1/1 [10:24&lt;00:00, 477.76s/ url]",
            "_view_count": null,
            "_view_module_version": "1.5.0",
            "description_tooltip": null,
            "_model_module": "@jupyter-widgets/controls",
            "layout": "IPY_MODEL_6871acc6aea641edb9f747cc4d309e39"
          }
        },
        "c3de3dacb1644b2ba0fd144a5d547b10": {
          "model_module": "@jupyter-widgets/controls",
          "model_name": "DescriptionStyleModel",
          "model_module_version": "1.5.0",
          "state": {
            "_view_name": "StyleView",
            "_model_name": "DescriptionStyleModel",
            "description_width": "",
            "_view_module": "@jupyter-widgets/base",
            "_model_module_version": "1.5.0",
            "_view_count": null,
            "_view_module_version": "1.2.0",
            "_model_module": "@jupyter-widgets/controls"
          }
        },
        "deb1db81845f4f2ca85f834498a1d10f": {
          "model_module": "@jupyter-widgets/base",
          "model_name": "LayoutModel",
          "model_module_version": "1.2.0",
          "state": {
            "_view_name": "LayoutView",
            "grid_template_rows": null,
            "right": null,
            "justify_content": null,
            "_view_module": "@jupyter-widgets/base",
            "overflow": null,
            "_model_module_version": "1.2.0",
            "_view_count": null,
            "flex_flow": null,
            "width": null,
            "min_width": null,
            "border": null,
            "align_items": null,
            "bottom": null,
            "_model_module": "@jupyter-widgets/base",
            "top": null,
            "grid_column": null,
            "overflow_y": null,
            "overflow_x": null,
            "grid_auto_flow": null,
            "grid_area": null,
            "grid_template_columns": null,
            "flex": null,
            "_model_name": "LayoutModel",
            "justify_items": null,
            "grid_row": null,
            "max_height": null,
            "align_content": null,
            "visibility": null,
            "align_self": null,
            "height": null,
            "min_height": null,
            "padding": null,
            "grid_auto_rows": null,
            "grid_gap": null,
            "max_width": null,
            "order": null,
            "_view_module_version": "1.2.0",
            "grid_template_areas": null,
            "object_position": null,
            "object_fit": null,
            "grid_auto_columns": null,
            "margin": null,
            "display": null,
            "left": null
          }
        },
        "6006eb4f59494e4488442b19a63bffcb": {
          "model_module": "@jupyter-widgets/controls",
          "model_name": "ProgressStyleModel",
          "model_module_version": "1.5.0",
          "state": {
            "_view_name": "StyleView",
            "_model_name": "ProgressStyleModel",
            "description_width": "",
            "_view_module": "@jupyter-widgets/base",
            "_model_module_version": "1.5.0",
            "_view_count": null,
            "_view_module_version": "1.2.0",
            "bar_color": null,
            "_model_module": "@jupyter-widgets/controls"
          }
        },
        "0654e6b6eb3b4964be0cb29ddbac9559": {
          "model_module": "@jupyter-widgets/base",
          "model_name": "LayoutModel",
          "model_module_version": "1.2.0",
          "state": {
            "_view_name": "LayoutView",
            "grid_template_rows": null,
            "right": null,
            "justify_content": null,
            "_view_module": "@jupyter-widgets/base",
            "overflow": null,
            "_model_module_version": "1.2.0",
            "_view_count": null,
            "flex_flow": null,
            "width": "20px",
            "min_width": null,
            "border": null,
            "align_items": null,
            "bottom": null,
            "_model_module": "@jupyter-widgets/base",
            "top": null,
            "grid_column": null,
            "overflow_y": null,
            "overflow_x": null,
            "grid_auto_flow": null,
            "grid_area": null,
            "grid_template_columns": null,
            "flex": null,
            "_model_name": "LayoutModel",
            "justify_items": null,
            "grid_row": null,
            "max_height": null,
            "align_content": null,
            "visibility": null,
            "align_self": null,
            "height": null,
            "min_height": null,
            "padding": null,
            "grid_auto_rows": null,
            "grid_gap": null,
            "max_width": null,
            "order": null,
            "_view_module_version": "1.2.0",
            "grid_template_areas": null,
            "object_position": null,
            "object_fit": null,
            "grid_auto_columns": null,
            "margin": null,
            "display": null,
            "left": null
          }
        },
        "a26a77b752d843bda1cacc59b26cb3fa": {
          "model_module": "@jupyter-widgets/controls",
          "model_name": "DescriptionStyleModel",
          "model_module_version": "1.5.0",
          "state": {
            "_view_name": "StyleView",
            "_model_name": "DescriptionStyleModel",
            "description_width": "",
            "_view_module": "@jupyter-widgets/base",
            "_model_module_version": "1.5.0",
            "_view_count": null,
            "_view_module_version": "1.2.0",
            "_model_module": "@jupyter-widgets/controls"
          }
        },
        "6871acc6aea641edb9f747cc4d309e39": {
          "model_module": "@jupyter-widgets/base",
          "model_name": "LayoutModel",
          "model_module_version": "1.2.0",
          "state": {
            "_view_name": "LayoutView",
            "grid_template_rows": null,
            "right": null,
            "justify_content": null,
            "_view_module": "@jupyter-widgets/base",
            "overflow": null,
            "_model_module_version": "1.2.0",
            "_view_count": null,
            "flex_flow": null,
            "width": null,
            "min_width": null,
            "border": null,
            "align_items": null,
            "bottom": null,
            "_model_module": "@jupyter-widgets/base",
            "top": null,
            "grid_column": null,
            "overflow_y": null,
            "overflow_x": null,
            "grid_auto_flow": null,
            "grid_area": null,
            "grid_template_columns": null,
            "flex": null,
            "_model_name": "LayoutModel",
            "justify_items": null,
            "grid_row": null,
            "max_height": null,
            "align_content": null,
            "visibility": null,
            "align_self": null,
            "height": null,
            "min_height": null,
            "padding": null,
            "grid_auto_rows": null,
            "grid_gap": null,
            "max_width": null,
            "order": null,
            "_view_module_version": "1.2.0",
            "grid_template_areas": null,
            "object_position": null,
            "object_fit": null,
            "grid_auto_columns": null,
            "margin": null,
            "display": null,
            "left": null
          }
        },
        "fafd61e4e6394099977c5276b9b26c20": {
          "model_module": "@jupyter-widgets/controls",
          "model_name": "HBoxModel",
          "model_module_version": "1.5.0",
          "state": {
            "_view_name": "HBoxView",
            "_dom_classes": [],
            "_model_name": "HBoxModel",
            "_view_module": "@jupyter-widgets/controls",
            "_model_module_version": "1.5.0",
            "_view_count": null,
            "_view_module_version": "1.5.0",
            "box_style": "",
            "layout": "IPY_MODEL_59dbdd88be8c4a308c950954d2140225",
            "_model_module": "@jupyter-widgets/controls",
            "children": [
              "IPY_MODEL_b6f14f68c49d40c2b1b8c548a575caab",
              "IPY_MODEL_c8e84d159d414c26badac147de64f575",
              "IPY_MODEL_01dd05082351487db4bcd5d28990715f"
            ]
          }
        },
        "59dbdd88be8c4a308c950954d2140225": {
          "model_module": "@jupyter-widgets/base",
          "model_name": "LayoutModel",
          "model_module_version": "1.2.0",
          "state": {
            "_view_name": "LayoutView",
            "grid_template_rows": null,
            "right": null,
            "justify_content": null,
            "_view_module": "@jupyter-widgets/base",
            "overflow": null,
            "_model_module_version": "1.2.0",
            "_view_count": null,
            "flex_flow": null,
            "width": null,
            "min_width": null,
            "border": null,
            "align_items": null,
            "bottom": null,
            "_model_module": "@jupyter-widgets/base",
            "top": null,
            "grid_column": null,
            "overflow_y": null,
            "overflow_x": null,
            "grid_auto_flow": null,
            "grid_area": null,
            "grid_template_columns": null,
            "flex": null,
            "_model_name": "LayoutModel",
            "justify_items": null,
            "grid_row": null,
            "max_height": null,
            "align_content": null,
            "visibility": null,
            "align_self": null,
            "height": null,
            "min_height": null,
            "padding": null,
            "grid_auto_rows": null,
            "grid_gap": null,
            "max_width": null,
            "order": null,
            "_view_module_version": "1.2.0",
            "grid_template_areas": null,
            "object_position": null,
            "object_fit": null,
            "grid_auto_columns": null,
            "margin": null,
            "display": null,
            "left": null
          }
        },
        "b6f14f68c49d40c2b1b8c548a575caab": {
          "model_module": "@jupyter-widgets/controls",
          "model_name": "HTMLModel",
          "model_module_version": "1.5.0",
          "state": {
            "_view_name": "HTMLView",
            "style": "IPY_MODEL_60b3bf52c1404952bf6d020f22255f10",
            "_dom_classes": [],
            "description": "",
            "_model_name": "HTMLModel",
            "placeholder": "​",
            "_view_module": "@jupyter-widgets/controls",
            "_model_module_version": "1.5.0",
            "value": "Dl Size...: 100%",
            "_view_count": null,
            "_view_module_version": "1.5.0",
            "description_tooltip": null,
            "_model_module": "@jupyter-widgets/controls",
            "layout": "IPY_MODEL_ea0f706b33bc4c60b92632251d24b8a9"
          }
        },
        "c8e84d159d414c26badac147de64f575": {
          "model_module": "@jupyter-widgets/controls",
          "model_name": "FloatProgressModel",
          "model_module_version": "1.5.0",
          "state": {
            "_view_name": "ProgressView",
            "style": "IPY_MODEL_1d871c46cd484e9b88c54a09ca84f588",
            "_dom_classes": [],
            "description": "",
            "_model_name": "FloatProgressModel",
            "bar_style": "success",
            "max": 1,
            "_view_module": "@jupyter-widgets/controls",
            "_model_module_version": "1.5.0",
            "value": 1,
            "_view_count": null,
            "_view_module_version": "1.5.0",
            "orientation": "horizontal",
            "min": 0,
            "description_tooltip": null,
            "_model_module": "@jupyter-widgets/controls",
            "layout": "IPY_MODEL_dc93ee8109464ae3a07c33cb16f07534"
          }
        },
        "01dd05082351487db4bcd5d28990715f": {
          "model_module": "@jupyter-widgets/controls",
          "model_name": "HTMLModel",
          "model_module_version": "1.5.0",
          "state": {
            "_view_name": "HTMLView",
            "style": "IPY_MODEL_e47cef6714ad48309ec8b41d93b4de23",
            "_dom_classes": [],
            "description": "",
            "_model_name": "HTMLModel",
            "placeholder": "​",
            "_view_module": "@jupyter-widgets/controls",
            "_model_module_version": "1.5.0",
            "value": " 4764/4764 [10:24&lt;00:00, 10.08 MiB/s]",
            "_view_count": null,
            "_view_module_version": "1.5.0",
            "description_tooltip": null,
            "_model_module": "@jupyter-widgets/controls",
            "layout": "IPY_MODEL_354872d872514a009cfb6e9cfeefbe1e"
          }
        },
        "60b3bf52c1404952bf6d020f22255f10": {
          "model_module": "@jupyter-widgets/controls",
          "model_name": "DescriptionStyleModel",
          "model_module_version": "1.5.0",
          "state": {
            "_view_name": "StyleView",
            "_model_name": "DescriptionStyleModel",
            "description_width": "",
            "_view_module": "@jupyter-widgets/base",
            "_model_module_version": "1.5.0",
            "_view_count": null,
            "_view_module_version": "1.2.0",
            "_model_module": "@jupyter-widgets/controls"
          }
        },
        "ea0f706b33bc4c60b92632251d24b8a9": {
          "model_module": "@jupyter-widgets/base",
          "model_name": "LayoutModel",
          "model_module_version": "1.2.0",
          "state": {
            "_view_name": "LayoutView",
            "grid_template_rows": null,
            "right": null,
            "justify_content": null,
            "_view_module": "@jupyter-widgets/base",
            "overflow": null,
            "_model_module_version": "1.2.0",
            "_view_count": null,
            "flex_flow": null,
            "width": null,
            "min_width": null,
            "border": null,
            "align_items": null,
            "bottom": null,
            "_model_module": "@jupyter-widgets/base",
            "top": null,
            "grid_column": null,
            "overflow_y": null,
            "overflow_x": null,
            "grid_auto_flow": null,
            "grid_area": null,
            "grid_template_columns": null,
            "flex": null,
            "_model_name": "LayoutModel",
            "justify_items": null,
            "grid_row": null,
            "max_height": null,
            "align_content": null,
            "visibility": null,
            "align_self": null,
            "height": null,
            "min_height": null,
            "padding": null,
            "grid_auto_rows": null,
            "grid_gap": null,
            "max_width": null,
            "order": null,
            "_view_module_version": "1.2.0",
            "grid_template_areas": null,
            "object_position": null,
            "object_fit": null,
            "grid_auto_columns": null,
            "margin": null,
            "display": null,
            "left": null
          }
        },
        "1d871c46cd484e9b88c54a09ca84f588": {
          "model_module": "@jupyter-widgets/controls",
          "model_name": "ProgressStyleModel",
          "model_module_version": "1.5.0",
          "state": {
            "_view_name": "StyleView",
            "_model_name": "ProgressStyleModel",
            "description_width": "",
            "_view_module": "@jupyter-widgets/base",
            "_model_module_version": "1.5.0",
            "_view_count": null,
            "_view_module_version": "1.2.0",
            "bar_color": null,
            "_model_module": "@jupyter-widgets/controls"
          }
        },
        "dc93ee8109464ae3a07c33cb16f07534": {
          "model_module": "@jupyter-widgets/base",
          "model_name": "LayoutModel",
          "model_module_version": "1.2.0",
          "state": {
            "_view_name": "LayoutView",
            "grid_template_rows": null,
            "right": null,
            "justify_content": null,
            "_view_module": "@jupyter-widgets/base",
            "overflow": null,
            "_model_module_version": "1.2.0",
            "_view_count": null,
            "flex_flow": null,
            "width": "20px",
            "min_width": null,
            "border": null,
            "align_items": null,
            "bottom": null,
            "_model_module": "@jupyter-widgets/base",
            "top": null,
            "grid_column": null,
            "overflow_y": null,
            "overflow_x": null,
            "grid_auto_flow": null,
            "grid_area": null,
            "grid_template_columns": null,
            "flex": null,
            "_model_name": "LayoutModel",
            "justify_items": null,
            "grid_row": null,
            "max_height": null,
            "align_content": null,
            "visibility": null,
            "align_self": null,
            "height": null,
            "min_height": null,
            "padding": null,
            "grid_auto_rows": null,
            "grid_gap": null,
            "max_width": null,
            "order": null,
            "_view_module_version": "1.2.0",
            "grid_template_areas": null,
            "object_position": null,
            "object_fit": null,
            "grid_auto_columns": null,
            "margin": null,
            "display": null,
            "left": null
          }
        },
        "e47cef6714ad48309ec8b41d93b4de23": {
          "model_module": "@jupyter-widgets/controls",
          "model_name": "DescriptionStyleModel",
          "model_module_version": "1.5.0",
          "state": {
            "_view_name": "StyleView",
            "_model_name": "DescriptionStyleModel",
            "description_width": "",
            "_view_module": "@jupyter-widgets/base",
            "_model_module_version": "1.5.0",
            "_view_count": null,
            "_view_module_version": "1.2.0",
            "_model_module": "@jupyter-widgets/controls"
          }
        },
        "354872d872514a009cfb6e9cfeefbe1e": {
          "model_module": "@jupyter-widgets/base",
          "model_name": "LayoutModel",
          "model_module_version": "1.2.0",
          "state": {
            "_view_name": "LayoutView",
            "grid_template_rows": null,
            "right": null,
            "justify_content": null,
            "_view_module": "@jupyter-widgets/base",
            "overflow": null,
            "_model_module_version": "1.2.0",
            "_view_count": null,
            "flex_flow": null,
            "width": null,
            "min_width": null,
            "border": null,
            "align_items": null,
            "bottom": null,
            "_model_module": "@jupyter-widgets/base",
            "top": null,
            "grid_column": null,
            "overflow_y": null,
            "overflow_x": null,
            "grid_auto_flow": null,
            "grid_area": null,
            "grid_template_columns": null,
            "flex": null,
            "_model_name": "LayoutModel",
            "justify_items": null,
            "grid_row": null,
            "max_height": null,
            "align_content": null,
            "visibility": null,
            "align_self": null,
            "height": null,
            "min_height": null,
            "padding": null,
            "grid_auto_rows": null,
            "grid_gap": null,
            "max_width": null,
            "order": null,
            "_view_module_version": "1.2.0",
            "grid_template_areas": null,
            "object_position": null,
            "object_fit": null,
            "grid_auto_columns": null,
            "margin": null,
            "display": null,
            "left": null
          }
        },
        "3c5089c496a64318bbdbff3ffc4a0706": {
          "model_module": "@jupyter-widgets/controls",
          "model_name": "HBoxModel",
          "model_module_version": "1.5.0",
          "state": {
            "_view_name": "HBoxView",
            "_dom_classes": [],
            "_model_name": "HBoxModel",
            "_view_module": "@jupyter-widgets/controls",
            "_model_module_version": "1.5.0",
            "_view_count": null,
            "_view_module_version": "1.5.0",
            "box_style": "",
            "layout": "IPY_MODEL_303772dd422446d9a34dd337cc25a986",
            "_model_module": "@jupyter-widgets/controls",
            "children": [
              "IPY_MODEL_c99ab4bb48e042aaad204e372d3f1fb5",
              "IPY_MODEL_37890cb78f1448f68561e04117136bef",
              "IPY_MODEL_c307ef8a7d454ae59ae54d334e132ee4"
            ]
          }
        },
        "303772dd422446d9a34dd337cc25a986": {
          "model_module": "@jupyter-widgets/base",
          "model_name": "LayoutModel",
          "model_module_version": "1.2.0",
          "state": {
            "_view_name": "LayoutView",
            "grid_template_rows": null,
            "right": null,
            "justify_content": null,
            "_view_module": "@jupyter-widgets/base",
            "overflow": null,
            "_model_module_version": "1.2.0",
            "_view_count": null,
            "flex_flow": null,
            "width": null,
            "min_width": null,
            "border": null,
            "align_items": null,
            "bottom": null,
            "_model_module": "@jupyter-widgets/base",
            "top": null,
            "grid_column": null,
            "overflow_y": null,
            "overflow_x": null,
            "grid_auto_flow": null,
            "grid_area": null,
            "grid_template_columns": null,
            "flex": null,
            "_model_name": "LayoutModel",
            "justify_items": null,
            "grid_row": null,
            "max_height": null,
            "align_content": null,
            "visibility": null,
            "align_self": null,
            "height": null,
            "min_height": null,
            "padding": null,
            "grid_auto_rows": null,
            "grid_gap": null,
            "max_width": null,
            "order": null,
            "_view_module_version": "1.2.0",
            "grid_template_areas": null,
            "object_position": null,
            "object_fit": null,
            "grid_auto_columns": null,
            "margin": null,
            "display": null,
            "left": null
          }
        },
        "c99ab4bb48e042aaad204e372d3f1fb5": {
          "model_module": "@jupyter-widgets/controls",
          "model_name": "HTMLModel",
          "model_module_version": "1.5.0",
          "state": {
            "_view_name": "HTMLView",
            "style": "IPY_MODEL_8b697ccf2cf8468ca915784fd0585b66",
            "_dom_classes": [],
            "description": "",
            "_model_name": "HTMLModel",
            "placeholder": "​",
            "_view_module": "@jupyter-widgets/controls",
            "_model_module_version": "1.5.0",
            "value": "Extraction completed...: 100%",
            "_view_count": null,
            "_view_module_version": "1.5.0",
            "description_tooltip": null,
            "_model_module": "@jupyter-widgets/controls",
            "layout": "IPY_MODEL_5df850f7f90c4d37ab01e322f96ae0a6"
          }
        },
        "37890cb78f1448f68561e04117136bef": {
          "model_module": "@jupyter-widgets/controls",
          "model_name": "FloatProgressModel",
          "model_module_version": "1.5.0",
          "state": {
            "_view_name": "ProgressView",
            "style": "IPY_MODEL_70e1ed86f7e04d2b9a50eece69aa47b7",
            "_dom_classes": [],
            "description": "",
            "_model_name": "FloatProgressModel",
            "bar_style": "success",
            "max": 1,
            "_view_module": "@jupyter-widgets/controls",
            "_model_module_version": "1.5.0",
            "value": 1,
            "_view_count": null,
            "_view_module_version": "1.5.0",
            "orientation": "horizontal",
            "min": 0,
            "description_tooltip": null,
            "_model_module": "@jupyter-widgets/controls",
            "layout": "IPY_MODEL_6474568a8591469b84a6ed82beeff10b"
          }
        },
        "c307ef8a7d454ae59ae54d334e132ee4": {
          "model_module": "@jupyter-widgets/controls",
          "model_name": "HTMLModel",
          "model_module_version": "1.5.0",
          "state": {
            "_view_name": "HTMLView",
            "style": "IPY_MODEL_e2dfe3176391472390d2eb3992e4ebff",
            "_dom_classes": [],
            "description": "",
            "_model_name": "HTMLModel",
            "placeholder": "​",
            "_view_module": "@jupyter-widgets/controls",
            "_model_module_version": "1.5.0",
            "value": " 1/1 [10:24&lt;00:00, 624.83s/ file]",
            "_view_count": null,
            "_view_module_version": "1.5.0",
            "description_tooltip": null,
            "_model_module": "@jupyter-widgets/controls",
            "layout": "IPY_MODEL_009da681f9cc41bc8300ddb48c8d1420"
          }
        },
        "8b697ccf2cf8468ca915784fd0585b66": {
          "model_module": "@jupyter-widgets/controls",
          "model_name": "DescriptionStyleModel",
          "model_module_version": "1.5.0",
          "state": {
            "_view_name": "StyleView",
            "_model_name": "DescriptionStyleModel",
            "description_width": "",
            "_view_module": "@jupyter-widgets/base",
            "_model_module_version": "1.5.0",
            "_view_count": null,
            "_view_module_version": "1.2.0",
            "_model_module": "@jupyter-widgets/controls"
          }
        },
        "5df850f7f90c4d37ab01e322f96ae0a6": {
          "model_module": "@jupyter-widgets/base",
          "model_name": "LayoutModel",
          "model_module_version": "1.2.0",
          "state": {
            "_view_name": "LayoutView",
            "grid_template_rows": null,
            "right": null,
            "justify_content": null,
            "_view_module": "@jupyter-widgets/base",
            "overflow": null,
            "_model_module_version": "1.2.0",
            "_view_count": null,
            "flex_flow": null,
            "width": null,
            "min_width": null,
            "border": null,
            "align_items": null,
            "bottom": null,
            "_model_module": "@jupyter-widgets/base",
            "top": null,
            "grid_column": null,
            "overflow_y": null,
            "overflow_x": null,
            "grid_auto_flow": null,
            "grid_area": null,
            "grid_template_columns": null,
            "flex": null,
            "_model_name": "LayoutModel",
            "justify_items": null,
            "grid_row": null,
            "max_height": null,
            "align_content": null,
            "visibility": null,
            "align_self": null,
            "height": null,
            "min_height": null,
            "padding": null,
            "grid_auto_rows": null,
            "grid_gap": null,
            "max_width": null,
            "order": null,
            "_view_module_version": "1.2.0",
            "grid_template_areas": null,
            "object_position": null,
            "object_fit": null,
            "grid_auto_columns": null,
            "margin": null,
            "display": null,
            "left": null
          }
        },
        "70e1ed86f7e04d2b9a50eece69aa47b7": {
          "model_module": "@jupyter-widgets/controls",
          "model_name": "ProgressStyleModel",
          "model_module_version": "1.5.0",
          "state": {
            "_view_name": "StyleView",
            "_model_name": "ProgressStyleModel",
            "description_width": "",
            "_view_module": "@jupyter-widgets/base",
            "_model_module_version": "1.5.0",
            "_view_count": null,
            "_view_module_version": "1.2.0",
            "bar_color": null,
            "_model_module": "@jupyter-widgets/controls"
          }
        },
        "6474568a8591469b84a6ed82beeff10b": {
          "model_module": "@jupyter-widgets/base",
          "model_name": "LayoutModel",
          "model_module_version": "1.2.0",
          "state": {
            "_view_name": "LayoutView",
            "grid_template_rows": null,
            "right": null,
            "justify_content": null,
            "_view_module": "@jupyter-widgets/base",
            "overflow": null,
            "_model_module_version": "1.2.0",
            "_view_count": null,
            "flex_flow": null,
            "width": "20px",
            "min_width": null,
            "border": null,
            "align_items": null,
            "bottom": null,
            "_model_module": "@jupyter-widgets/base",
            "top": null,
            "grid_column": null,
            "overflow_y": null,
            "overflow_x": null,
            "grid_auto_flow": null,
            "grid_area": null,
            "grid_template_columns": null,
            "flex": null,
            "_model_name": "LayoutModel",
            "justify_items": null,
            "grid_row": null,
            "max_height": null,
            "align_content": null,
            "visibility": null,
            "align_self": null,
            "height": null,
            "min_height": null,
            "padding": null,
            "grid_auto_rows": null,
            "grid_gap": null,
            "max_width": null,
            "order": null,
            "_view_module_version": "1.2.0",
            "grid_template_areas": null,
            "object_position": null,
            "object_fit": null,
            "grid_auto_columns": null,
            "margin": null,
            "display": null,
            "left": null
          }
        },
        "e2dfe3176391472390d2eb3992e4ebff": {
          "model_module": "@jupyter-widgets/controls",
          "model_name": "DescriptionStyleModel",
          "model_module_version": "1.5.0",
          "state": {
            "_view_name": "StyleView",
            "_model_name": "DescriptionStyleModel",
            "description_width": "",
            "_view_module": "@jupyter-widgets/base",
            "_model_module_version": "1.5.0",
            "_view_count": null,
            "_view_module_version": "1.2.0",
            "_model_module": "@jupyter-widgets/controls"
          }
        },
        "009da681f9cc41bc8300ddb48c8d1420": {
          "model_module": "@jupyter-widgets/base",
          "model_name": "LayoutModel",
          "model_module_version": "1.2.0",
          "state": {
            "_view_name": "LayoutView",
            "grid_template_rows": null,
            "right": null,
            "justify_content": null,
            "_view_module": "@jupyter-widgets/base",
            "overflow": null,
            "_model_module_version": "1.2.0",
            "_view_count": null,
            "flex_flow": null,
            "width": null,
            "min_width": null,
            "border": null,
            "align_items": null,
            "bottom": null,
            "_model_module": "@jupyter-widgets/base",
            "top": null,
            "grid_column": null,
            "overflow_y": null,
            "overflow_x": null,
            "grid_auto_flow": null,
            "grid_area": null,
            "grid_template_columns": null,
            "flex": null,
            "_model_name": "LayoutModel",
            "justify_items": null,
            "grid_row": null,
            "max_height": null,
            "align_content": null,
            "visibility": null,
            "align_self": null,
            "height": null,
            "min_height": null,
            "padding": null,
            "grid_auto_rows": null,
            "grid_gap": null,
            "max_width": null,
            "order": null,
            "_view_module_version": "1.2.0",
            "grid_template_areas": null,
            "object_position": null,
            "object_fit": null,
            "grid_auto_columns": null,
            "margin": null,
            "display": null,
            "left": null
          }
        },
        "4205520091b242a9ade225ba44460b31": {
          "model_module": "@jupyter-widgets/controls",
          "model_name": "HBoxModel",
          "model_module_version": "1.5.0",
          "state": {
            "_view_name": "HBoxView",
            "_dom_classes": [],
            "_model_name": "HBoxModel",
            "_view_module": "@jupyter-widgets/controls",
            "_model_module_version": "1.5.0",
            "_view_count": null,
            "_view_module_version": "1.5.0",
            "box_style": "",
            "layout": "IPY_MODEL_90f3ee7cfe584bd5974f25faa5983a39",
            "_model_module": "@jupyter-widgets/controls",
            "children": [
              "IPY_MODEL_c1f94579e4984c28b66f20c5d2190626",
              "IPY_MODEL_9bcd5c6e047f4569b31818477fcab730",
              "IPY_MODEL_ee9eb90f5b404280a065bb1e8e1188f2"
            ]
          }
        },
        "90f3ee7cfe584bd5974f25faa5983a39": {
          "model_module": "@jupyter-widgets/base",
          "model_name": "LayoutModel",
          "model_module_version": "1.2.0",
          "state": {
            "_view_name": "LayoutView",
            "grid_template_rows": null,
            "right": null,
            "justify_content": null,
            "_view_module": "@jupyter-widgets/base",
            "overflow": null,
            "_model_module_version": "1.2.0",
            "_view_count": null,
            "flex_flow": null,
            "width": null,
            "min_width": null,
            "border": null,
            "align_items": null,
            "bottom": null,
            "_model_module": "@jupyter-widgets/base",
            "top": null,
            "grid_column": null,
            "overflow_y": null,
            "overflow_x": null,
            "grid_auto_flow": null,
            "grid_area": null,
            "grid_template_columns": null,
            "flex": null,
            "_model_name": "LayoutModel",
            "justify_items": null,
            "grid_row": null,
            "max_height": null,
            "align_content": null,
            "visibility": null,
            "align_self": null,
            "height": null,
            "min_height": null,
            "padding": null,
            "grid_auto_rows": null,
            "grid_gap": null,
            "max_width": null,
            "order": null,
            "_view_module_version": "1.2.0",
            "grid_template_areas": null,
            "object_position": null,
            "object_fit": null,
            "grid_auto_columns": null,
            "margin": null,
            "display": null,
            "left": null
          }
        },
        "c1f94579e4984c28b66f20c5d2190626": {
          "model_module": "@jupyter-widgets/controls",
          "model_name": "HTMLModel",
          "model_module_version": "1.5.0",
          "state": {
            "_view_name": "HTMLView",
            "style": "IPY_MODEL_0d1cea83db5b4faabccf869f7adf5a4d",
            "_dom_classes": [],
            "description": "",
            "_model_name": "HTMLModel",
            "placeholder": "​",
            "_view_module": "@jupyter-widgets/controls",
            "_model_module_version": "1.5.0",
            "value": "",
            "_view_count": null,
            "_view_module_version": "1.5.0",
            "description_tooltip": null,
            "_model_module": "@jupyter-widgets/controls",
            "layout": "IPY_MODEL_31f1dae785c14b328ebebb32485676aa"
          }
        },
        "9bcd5c6e047f4569b31818477fcab730": {
          "model_module": "@jupyter-widgets/controls",
          "model_name": "FloatProgressModel",
          "model_module_version": "1.5.0",
          "state": {
            "_view_name": "ProgressView",
            "style": "IPY_MODEL_c4b9eba98ba8466ba72f648820568f57",
            "_dom_classes": [],
            "description": "",
            "_model_name": "FloatProgressModel",
            "bar_style": "info",
            "max": 1,
            "_view_module": "@jupyter-widgets/controls",
            "_model_module_version": "1.5.0",
            "value": 1,
            "_view_count": null,
            "_view_module_version": "1.5.0",
            "orientation": "horizontal",
            "min": 0,
            "description_tooltip": null,
            "_model_module": "@jupyter-widgets/controls",
            "layout": "IPY_MODEL_732d54c70b054d23b5be7068ff71fcac"
          }
        },
        "ee9eb90f5b404280a065bb1e8e1188f2": {
          "model_module": "@jupyter-widgets/controls",
          "model_name": "HTMLModel",
          "model_module_version": "1.5.0",
          "state": {
            "_view_name": "HTMLView",
            "style": "IPY_MODEL_890b1efc45114878943d5fe683441c24",
            "_dom_classes": [],
            "description": "",
            "_model_name": "HTMLModel",
            "placeholder": "​",
            "_view_module": "@jupyter-widgets/controls",
            "_model_module_version": "1.5.0",
            "value": " 75700/0 [02:34&lt;00:00, 593.26 examples/s]",
            "_view_count": null,
            "_view_module_version": "1.5.0",
            "description_tooltip": null,
            "_model_module": "@jupyter-widgets/controls",
            "layout": "IPY_MODEL_a07a00323a2945038b984916f7240e4e"
          }
        },
        "0d1cea83db5b4faabccf869f7adf5a4d": {
          "model_module": "@jupyter-widgets/controls",
          "model_name": "DescriptionStyleModel",
          "model_module_version": "1.5.0",
          "state": {
            "_view_name": "StyleView",
            "_model_name": "DescriptionStyleModel",
            "description_width": "",
            "_view_module": "@jupyter-widgets/base",
            "_model_module_version": "1.5.0",
            "_view_count": null,
            "_view_module_version": "1.2.0",
            "_model_module": "@jupyter-widgets/controls"
          }
        },
        "31f1dae785c14b328ebebb32485676aa": {
          "model_module": "@jupyter-widgets/base",
          "model_name": "LayoutModel",
          "model_module_version": "1.2.0",
          "state": {
            "_view_name": "LayoutView",
            "grid_template_rows": null,
            "right": null,
            "justify_content": null,
            "_view_module": "@jupyter-widgets/base",
            "overflow": null,
            "_model_module_version": "1.2.0",
            "_view_count": null,
            "flex_flow": null,
            "width": null,
            "min_width": null,
            "border": null,
            "align_items": null,
            "bottom": null,
            "_model_module": "@jupyter-widgets/base",
            "top": null,
            "grid_column": null,
            "overflow_y": null,
            "overflow_x": null,
            "grid_auto_flow": null,
            "grid_area": null,
            "grid_template_columns": null,
            "flex": null,
            "_model_name": "LayoutModel",
            "justify_items": null,
            "grid_row": null,
            "max_height": null,
            "align_content": null,
            "visibility": null,
            "align_self": null,
            "height": null,
            "min_height": null,
            "padding": null,
            "grid_auto_rows": null,
            "grid_gap": null,
            "max_width": null,
            "order": null,
            "_view_module_version": "1.2.0",
            "grid_template_areas": null,
            "object_position": null,
            "object_fit": null,
            "grid_auto_columns": null,
            "margin": null,
            "display": null,
            "left": null
          }
        },
        "c4b9eba98ba8466ba72f648820568f57": {
          "model_module": "@jupyter-widgets/controls",
          "model_name": "ProgressStyleModel",
          "model_module_version": "1.5.0",
          "state": {
            "_view_name": "StyleView",
            "_model_name": "ProgressStyleModel",
            "description_width": "",
            "_view_module": "@jupyter-widgets/base",
            "_model_module_version": "1.5.0",
            "_view_count": null,
            "_view_module_version": "1.2.0",
            "bar_color": null,
            "_model_module": "@jupyter-widgets/controls"
          }
        },
        "732d54c70b054d23b5be7068ff71fcac": {
          "model_module": "@jupyter-widgets/base",
          "model_name": "LayoutModel",
          "model_module_version": "1.2.0",
          "state": {
            "_view_name": "LayoutView",
            "grid_template_rows": null,
            "right": null,
            "justify_content": null,
            "_view_module": "@jupyter-widgets/base",
            "overflow": null,
            "_model_module_version": "1.2.0",
            "_view_count": null,
            "flex_flow": null,
            "width": "20px",
            "min_width": null,
            "border": null,
            "align_items": null,
            "bottom": null,
            "_model_module": "@jupyter-widgets/base",
            "top": null,
            "grid_column": null,
            "overflow_y": null,
            "overflow_x": null,
            "grid_auto_flow": null,
            "grid_area": null,
            "grid_template_columns": null,
            "flex": null,
            "_model_name": "LayoutModel",
            "justify_items": null,
            "grid_row": null,
            "max_height": null,
            "align_content": null,
            "visibility": null,
            "align_self": null,
            "height": null,
            "min_height": null,
            "padding": null,
            "grid_auto_rows": null,
            "grid_gap": null,
            "max_width": null,
            "order": null,
            "_view_module_version": "1.2.0",
            "grid_template_areas": null,
            "object_position": null,
            "object_fit": null,
            "grid_auto_columns": null,
            "margin": null,
            "display": null,
            "left": null
          }
        },
        "890b1efc45114878943d5fe683441c24": {
          "model_module": "@jupyter-widgets/controls",
          "model_name": "DescriptionStyleModel",
          "model_module_version": "1.5.0",
          "state": {
            "_view_name": "StyleView",
            "_model_name": "DescriptionStyleModel",
            "description_width": "",
            "_view_module": "@jupyter-widgets/base",
            "_model_module_version": "1.5.0",
            "_view_count": null,
            "_view_module_version": "1.2.0",
            "_model_module": "@jupyter-widgets/controls"
          }
        },
        "a07a00323a2945038b984916f7240e4e": {
          "model_module": "@jupyter-widgets/base",
          "model_name": "LayoutModel",
          "model_module_version": "1.2.0",
          "state": {
            "_view_name": "LayoutView",
            "grid_template_rows": null,
            "right": null,
            "justify_content": null,
            "_view_module": "@jupyter-widgets/base",
            "overflow": null,
            "_model_module_version": "1.2.0",
            "_view_count": null,
            "flex_flow": null,
            "width": null,
            "min_width": null,
            "border": null,
            "align_items": null,
            "bottom": null,
            "_model_module": "@jupyter-widgets/base",
            "top": null,
            "grid_column": null,
            "overflow_y": null,
            "overflow_x": null,
            "grid_auto_flow": null,
            "grid_area": null,
            "grid_template_columns": null,
            "flex": null,
            "_model_name": "LayoutModel",
            "justify_items": null,
            "grid_row": null,
            "max_height": null,
            "align_content": null,
            "visibility": null,
            "align_self": null,
            "height": null,
            "min_height": null,
            "padding": null,
            "grid_auto_rows": null,
            "grid_gap": null,
            "max_width": null,
            "order": null,
            "_view_module_version": "1.2.0",
            "grid_template_areas": null,
            "object_position": null,
            "object_fit": null,
            "grid_auto_columns": null,
            "margin": null,
            "display": null,
            "left": null
          }
        },
        "bdcc9299ee5a46688157e3467c698cbc": {
          "model_module": "@jupyter-widgets/controls",
          "model_name": "HBoxModel",
          "model_module_version": "1.5.0",
          "state": {
            "_view_name": "HBoxView",
            "_dom_classes": [],
            "_model_name": "HBoxModel",
            "_view_module": "@jupyter-widgets/controls",
            "_model_module_version": "1.5.0",
            "_view_count": null,
            "_view_module_version": "1.5.0",
            "box_style": "",
            "layout": "IPY_MODEL_f172d97d69fb45c3b2cd09da361592ba",
            "_model_module": "@jupyter-widgets/controls",
            "children": [
              "IPY_MODEL_fdc93e5ce8d442e7828f8e5390777e75",
              "IPY_MODEL_d2ad4fb67fb6456b95cd9e8c18bc4179",
              "IPY_MODEL_4d587e4f082541b4a3217666a9a6976a"
            ]
          }
        },
        "f172d97d69fb45c3b2cd09da361592ba": {
          "model_module": "@jupyter-widgets/base",
          "model_name": "LayoutModel",
          "model_module_version": "1.2.0",
          "state": {
            "_view_name": "LayoutView",
            "grid_template_rows": null,
            "right": null,
            "justify_content": null,
            "_view_module": "@jupyter-widgets/base",
            "overflow": null,
            "_model_module_version": "1.2.0",
            "_view_count": null,
            "flex_flow": null,
            "width": null,
            "min_width": null,
            "border": null,
            "align_items": null,
            "bottom": null,
            "_model_module": "@jupyter-widgets/base",
            "top": null,
            "grid_column": null,
            "overflow_y": null,
            "overflow_x": null,
            "grid_auto_flow": null,
            "grid_area": null,
            "grid_template_columns": null,
            "flex": null,
            "_model_name": "LayoutModel",
            "justify_items": null,
            "grid_row": null,
            "max_height": null,
            "align_content": null,
            "visibility": null,
            "align_self": null,
            "height": null,
            "min_height": null,
            "padding": null,
            "grid_auto_rows": null,
            "grid_gap": null,
            "max_width": null,
            "order": null,
            "_view_module_version": "1.2.0",
            "grid_template_areas": null,
            "object_position": null,
            "object_fit": null,
            "grid_auto_columns": null,
            "margin": null,
            "display": null,
            "left": null
          }
        },
        "fdc93e5ce8d442e7828f8e5390777e75": {
          "model_module": "@jupyter-widgets/controls",
          "model_name": "HTMLModel",
          "model_module_version": "1.5.0",
          "state": {
            "_view_name": "HTMLView",
            "style": "IPY_MODEL_20c58dd0a5a74b45af678b7678aa9493",
            "_dom_classes": [],
            "description": "",
            "_model_name": "HTMLModel",
            "placeholder": "​",
            "_view_module": "@jupyter-widgets/controls",
            "_model_module_version": "1.5.0",
            "value": "100%",
            "_view_count": null,
            "_view_module_version": "1.5.0",
            "description_tooltip": null,
            "_model_module": "@jupyter-widgets/controls",
            "layout": "IPY_MODEL_8332affaac55494b91a400f749b022a7"
          }
        },
        "d2ad4fb67fb6456b95cd9e8c18bc4179": {
          "model_module": "@jupyter-widgets/controls",
          "model_name": "FloatProgressModel",
          "model_module_version": "1.5.0",
          "state": {
            "_view_name": "ProgressView",
            "style": "IPY_MODEL_3c24e7a9cf864b79b8ac114dadaa0f4b",
            "_dom_classes": [],
            "description": "",
            "_model_name": "FloatProgressModel",
            "bar_style": "danger",
            "max": 75750,
            "_view_module": "@jupyter-widgets/controls",
            "_model_module_version": "1.5.0",
            "value": 75749,
            "_view_count": null,
            "_view_module_version": "1.5.0",
            "orientation": "horizontal",
            "min": 0,
            "description_tooltip": null,
            "_model_module": "@jupyter-widgets/controls",
            "layout": "IPY_MODEL_76e1cf66b76147f0b215554e3aafec2e"
          }
        },
        "4d587e4f082541b4a3217666a9a6976a": {
          "model_module": "@jupyter-widgets/controls",
          "model_name": "HTMLModel",
          "model_module_version": "1.5.0",
          "state": {
            "_view_name": "HTMLView",
            "style": "IPY_MODEL_71153c8056c940d6bac4531896545879",
            "_dom_classes": [],
            "description": "",
            "_model_name": "HTMLModel",
            "placeholder": "​",
            "_view_module": "@jupyter-widgets/controls",
            "_model_module_version": "1.5.0",
            "value": " 75749/75750 [00:52&lt;00:00, 1197.85 examples/s]",
            "_view_count": null,
            "_view_module_version": "1.5.0",
            "description_tooltip": null,
            "_model_module": "@jupyter-widgets/controls",
            "layout": "IPY_MODEL_9aca89bbdbd64832a7b4992a1577f4f7"
          }
        },
        "20c58dd0a5a74b45af678b7678aa9493": {
          "model_module": "@jupyter-widgets/controls",
          "model_name": "DescriptionStyleModel",
          "model_module_version": "1.5.0",
          "state": {
            "_view_name": "StyleView",
            "_model_name": "DescriptionStyleModel",
            "description_width": "",
            "_view_module": "@jupyter-widgets/base",
            "_model_module_version": "1.5.0",
            "_view_count": null,
            "_view_module_version": "1.2.0",
            "_model_module": "@jupyter-widgets/controls"
          }
        },
        "8332affaac55494b91a400f749b022a7": {
          "model_module": "@jupyter-widgets/base",
          "model_name": "LayoutModel",
          "model_module_version": "1.2.0",
          "state": {
            "_view_name": "LayoutView",
            "grid_template_rows": null,
            "right": null,
            "justify_content": null,
            "_view_module": "@jupyter-widgets/base",
            "overflow": null,
            "_model_module_version": "1.2.0",
            "_view_count": null,
            "flex_flow": null,
            "width": null,
            "min_width": null,
            "border": null,
            "align_items": null,
            "bottom": null,
            "_model_module": "@jupyter-widgets/base",
            "top": null,
            "grid_column": null,
            "overflow_y": null,
            "overflow_x": null,
            "grid_auto_flow": null,
            "grid_area": null,
            "grid_template_columns": null,
            "flex": null,
            "_model_name": "LayoutModel",
            "justify_items": null,
            "grid_row": null,
            "max_height": null,
            "align_content": null,
            "visibility": null,
            "align_self": null,
            "height": null,
            "min_height": null,
            "padding": null,
            "grid_auto_rows": null,
            "grid_gap": null,
            "max_width": null,
            "order": null,
            "_view_module_version": "1.2.0",
            "grid_template_areas": null,
            "object_position": null,
            "object_fit": null,
            "grid_auto_columns": null,
            "margin": null,
            "display": null,
            "left": null
          }
        },
        "3c24e7a9cf864b79b8ac114dadaa0f4b": {
          "model_module": "@jupyter-widgets/controls",
          "model_name": "ProgressStyleModel",
          "model_module_version": "1.5.0",
          "state": {
            "_view_name": "StyleView",
            "_model_name": "ProgressStyleModel",
            "description_width": "",
            "_view_module": "@jupyter-widgets/base",
            "_model_module_version": "1.5.0",
            "_view_count": null,
            "_view_module_version": "1.2.0",
            "bar_color": null,
            "_model_module": "@jupyter-widgets/controls"
          }
        },
        "76e1cf66b76147f0b215554e3aafec2e": {
          "model_module": "@jupyter-widgets/base",
          "model_name": "LayoutModel",
          "model_module_version": "1.2.0",
          "state": {
            "_view_name": "LayoutView",
            "grid_template_rows": null,
            "right": null,
            "justify_content": null,
            "_view_module": "@jupyter-widgets/base",
            "overflow": null,
            "_model_module_version": "1.2.0",
            "_view_count": null,
            "flex_flow": null,
            "width": null,
            "min_width": null,
            "border": null,
            "align_items": null,
            "bottom": null,
            "_model_module": "@jupyter-widgets/base",
            "top": null,
            "grid_column": null,
            "overflow_y": null,
            "overflow_x": null,
            "grid_auto_flow": null,
            "grid_area": null,
            "grid_template_columns": null,
            "flex": null,
            "_model_name": "LayoutModel",
            "justify_items": null,
            "grid_row": null,
            "max_height": null,
            "align_content": null,
            "visibility": null,
            "align_self": null,
            "height": null,
            "min_height": null,
            "padding": null,
            "grid_auto_rows": null,
            "grid_gap": null,
            "max_width": null,
            "order": null,
            "_view_module_version": "1.2.0",
            "grid_template_areas": null,
            "object_position": null,
            "object_fit": null,
            "grid_auto_columns": null,
            "margin": null,
            "display": null,
            "left": null
          }
        },
        "71153c8056c940d6bac4531896545879": {
          "model_module": "@jupyter-widgets/controls",
          "model_name": "DescriptionStyleModel",
          "model_module_version": "1.5.0",
          "state": {
            "_view_name": "StyleView",
            "_model_name": "DescriptionStyleModel",
            "description_width": "",
            "_view_module": "@jupyter-widgets/base",
            "_model_module_version": "1.5.0",
            "_view_count": null,
            "_view_module_version": "1.2.0",
            "_model_module": "@jupyter-widgets/controls"
          }
        },
        "9aca89bbdbd64832a7b4992a1577f4f7": {
          "model_module": "@jupyter-widgets/base",
          "model_name": "LayoutModel",
          "model_module_version": "1.2.0",
          "state": {
            "_view_name": "LayoutView",
            "grid_template_rows": null,
            "right": null,
            "justify_content": null,
            "_view_module": "@jupyter-widgets/base",
            "overflow": null,
            "_model_module_version": "1.2.0",
            "_view_count": null,
            "flex_flow": null,
            "width": null,
            "min_width": null,
            "border": null,
            "align_items": null,
            "bottom": null,
            "_model_module": "@jupyter-widgets/base",
            "top": null,
            "grid_column": null,
            "overflow_y": null,
            "overflow_x": null,
            "grid_auto_flow": null,
            "grid_area": null,
            "grid_template_columns": null,
            "flex": null,
            "_model_name": "LayoutModel",
            "justify_items": null,
            "grid_row": null,
            "max_height": null,
            "align_content": null,
            "visibility": null,
            "align_self": null,
            "height": null,
            "min_height": null,
            "padding": null,
            "grid_auto_rows": null,
            "grid_gap": null,
            "max_width": null,
            "order": null,
            "_view_module_version": "1.2.0",
            "grid_template_areas": null,
            "object_position": null,
            "object_fit": null,
            "grid_auto_columns": null,
            "margin": null,
            "display": null,
            "left": null
          }
        },
        "8e405dcf4db34981a4902e3901c6ade3": {
          "model_module": "@jupyter-widgets/controls",
          "model_name": "HBoxModel",
          "model_module_version": "1.5.0",
          "state": {
            "_view_name": "HBoxView",
            "_dom_classes": [],
            "_model_name": "HBoxModel",
            "_view_module": "@jupyter-widgets/controls",
            "_model_module_version": "1.5.0",
            "_view_count": null,
            "_view_module_version": "1.5.0",
            "box_style": "",
            "layout": "IPY_MODEL_5fe8301065cf4f3bad34b0f06bbfd123",
            "_model_module": "@jupyter-widgets/controls",
            "children": [
              "IPY_MODEL_32abb404099c4fc4a35080c1735996a7",
              "IPY_MODEL_9b8de9f477284638802a020be9ab650d",
              "IPY_MODEL_7c868c6cfb7a4469a98cd50462072149"
            ]
          }
        },
        "5fe8301065cf4f3bad34b0f06bbfd123": {
          "model_module": "@jupyter-widgets/base",
          "model_name": "LayoutModel",
          "model_module_version": "1.2.0",
          "state": {
            "_view_name": "LayoutView",
            "grid_template_rows": null,
            "right": null,
            "justify_content": null,
            "_view_module": "@jupyter-widgets/base",
            "overflow": null,
            "_model_module_version": "1.2.0",
            "_view_count": null,
            "flex_flow": null,
            "width": null,
            "min_width": null,
            "border": null,
            "align_items": null,
            "bottom": null,
            "_model_module": "@jupyter-widgets/base",
            "top": null,
            "grid_column": null,
            "overflow_y": null,
            "overflow_x": null,
            "grid_auto_flow": null,
            "grid_area": null,
            "grid_template_columns": null,
            "flex": null,
            "_model_name": "LayoutModel",
            "justify_items": null,
            "grid_row": null,
            "max_height": null,
            "align_content": null,
            "visibility": null,
            "align_self": null,
            "height": null,
            "min_height": null,
            "padding": null,
            "grid_auto_rows": null,
            "grid_gap": null,
            "max_width": null,
            "order": null,
            "_view_module_version": "1.2.0",
            "grid_template_areas": null,
            "object_position": null,
            "object_fit": null,
            "grid_auto_columns": null,
            "margin": null,
            "display": null,
            "left": null
          }
        },
        "32abb404099c4fc4a35080c1735996a7": {
          "model_module": "@jupyter-widgets/controls",
          "model_name": "HTMLModel",
          "model_module_version": "1.5.0",
          "state": {
            "_view_name": "HTMLView",
            "style": "IPY_MODEL_e05de7b2253e44fd9647badfdd2e9c70",
            "_dom_classes": [],
            "description": "",
            "_model_name": "HTMLModel",
            "placeholder": "​",
            "_view_module": "@jupyter-widgets/controls",
            "_model_module_version": "1.5.0",
            "value": "",
            "_view_count": null,
            "_view_module_version": "1.5.0",
            "description_tooltip": null,
            "_model_module": "@jupyter-widgets/controls",
            "layout": "IPY_MODEL_fed001aaee0f4e928058605123206c8a"
          }
        },
        "9b8de9f477284638802a020be9ab650d": {
          "model_module": "@jupyter-widgets/controls",
          "model_name": "FloatProgressModel",
          "model_module_version": "1.5.0",
          "state": {
            "_view_name": "ProgressView",
            "style": "IPY_MODEL_f99e26715127413e8b6cf3b08f05e9a9",
            "_dom_classes": [],
            "description": "",
            "_model_name": "FloatProgressModel",
            "bar_style": "info",
            "max": 1,
            "_view_module": "@jupyter-widgets/controls",
            "_model_module_version": "1.5.0",
            "value": 1,
            "_view_count": null,
            "_view_module_version": "1.5.0",
            "orientation": "horizontal",
            "min": 0,
            "description_tooltip": null,
            "_model_module": "@jupyter-widgets/controls",
            "layout": "IPY_MODEL_efe9e35653134e3d8bd4c162222462ee"
          }
        },
        "7c868c6cfb7a4469a98cd50462072149": {
          "model_module": "@jupyter-widgets/controls",
          "model_name": "HTMLModel",
          "model_module_version": "1.5.0",
          "state": {
            "_view_name": "HTMLView",
            "style": "IPY_MODEL_0532818947bc49a4aa0a2a59da7a41f8",
            "_dom_classes": [],
            "description": "",
            "_model_name": "HTMLModel",
            "placeholder": "​",
            "_view_module": "@jupyter-widgets/controls",
            "_model_module_version": "1.5.0",
            "value": " 25241/0 [01:18&lt;00:00, 326.74 examples/s]",
            "_view_count": null,
            "_view_module_version": "1.5.0",
            "description_tooltip": null,
            "_model_module": "@jupyter-widgets/controls",
            "layout": "IPY_MODEL_68c2f39d3a35497ea41856dfcbf3f9f3"
          }
        },
        "e05de7b2253e44fd9647badfdd2e9c70": {
          "model_module": "@jupyter-widgets/controls",
          "model_name": "DescriptionStyleModel",
          "model_module_version": "1.5.0",
          "state": {
            "_view_name": "StyleView",
            "_model_name": "DescriptionStyleModel",
            "description_width": "",
            "_view_module": "@jupyter-widgets/base",
            "_model_module_version": "1.5.0",
            "_view_count": null,
            "_view_module_version": "1.2.0",
            "_model_module": "@jupyter-widgets/controls"
          }
        },
        "fed001aaee0f4e928058605123206c8a": {
          "model_module": "@jupyter-widgets/base",
          "model_name": "LayoutModel",
          "model_module_version": "1.2.0",
          "state": {
            "_view_name": "LayoutView",
            "grid_template_rows": null,
            "right": null,
            "justify_content": null,
            "_view_module": "@jupyter-widgets/base",
            "overflow": null,
            "_model_module_version": "1.2.0",
            "_view_count": null,
            "flex_flow": null,
            "width": null,
            "min_width": null,
            "border": null,
            "align_items": null,
            "bottom": null,
            "_model_module": "@jupyter-widgets/base",
            "top": null,
            "grid_column": null,
            "overflow_y": null,
            "overflow_x": null,
            "grid_auto_flow": null,
            "grid_area": null,
            "grid_template_columns": null,
            "flex": null,
            "_model_name": "LayoutModel",
            "justify_items": null,
            "grid_row": null,
            "max_height": null,
            "align_content": null,
            "visibility": null,
            "align_self": null,
            "height": null,
            "min_height": null,
            "padding": null,
            "grid_auto_rows": null,
            "grid_gap": null,
            "max_width": null,
            "order": null,
            "_view_module_version": "1.2.0",
            "grid_template_areas": null,
            "object_position": null,
            "object_fit": null,
            "grid_auto_columns": null,
            "margin": null,
            "display": null,
            "left": null
          }
        },
        "f99e26715127413e8b6cf3b08f05e9a9": {
          "model_module": "@jupyter-widgets/controls",
          "model_name": "ProgressStyleModel",
          "model_module_version": "1.5.0",
          "state": {
            "_view_name": "StyleView",
            "_model_name": "ProgressStyleModel",
            "description_width": "",
            "_view_module": "@jupyter-widgets/base",
            "_model_module_version": "1.5.0",
            "_view_count": null,
            "_view_module_version": "1.2.0",
            "bar_color": null,
            "_model_module": "@jupyter-widgets/controls"
          }
        },
        "efe9e35653134e3d8bd4c162222462ee": {
          "model_module": "@jupyter-widgets/base",
          "model_name": "LayoutModel",
          "model_module_version": "1.2.0",
          "state": {
            "_view_name": "LayoutView",
            "grid_template_rows": null,
            "right": null,
            "justify_content": null,
            "_view_module": "@jupyter-widgets/base",
            "overflow": null,
            "_model_module_version": "1.2.0",
            "_view_count": null,
            "flex_flow": null,
            "width": "20px",
            "min_width": null,
            "border": null,
            "align_items": null,
            "bottom": null,
            "_model_module": "@jupyter-widgets/base",
            "top": null,
            "grid_column": null,
            "overflow_y": null,
            "overflow_x": null,
            "grid_auto_flow": null,
            "grid_area": null,
            "grid_template_columns": null,
            "flex": null,
            "_model_name": "LayoutModel",
            "justify_items": null,
            "grid_row": null,
            "max_height": null,
            "align_content": null,
            "visibility": null,
            "align_self": null,
            "height": null,
            "min_height": null,
            "padding": null,
            "grid_auto_rows": null,
            "grid_gap": null,
            "max_width": null,
            "order": null,
            "_view_module_version": "1.2.0",
            "grid_template_areas": null,
            "object_position": null,
            "object_fit": null,
            "grid_auto_columns": null,
            "margin": null,
            "display": null,
            "left": null
          }
        },
        "0532818947bc49a4aa0a2a59da7a41f8": {
          "model_module": "@jupyter-widgets/controls",
          "model_name": "DescriptionStyleModel",
          "model_module_version": "1.5.0",
          "state": {
            "_view_name": "StyleView",
            "_model_name": "DescriptionStyleModel",
            "description_width": "",
            "_view_module": "@jupyter-widgets/base",
            "_model_module_version": "1.5.0",
            "_view_count": null,
            "_view_module_version": "1.2.0",
            "_model_module": "@jupyter-widgets/controls"
          }
        },
        "68c2f39d3a35497ea41856dfcbf3f9f3": {
          "model_module": "@jupyter-widgets/base",
          "model_name": "LayoutModel",
          "model_module_version": "1.2.0",
          "state": {
            "_view_name": "LayoutView",
            "grid_template_rows": null,
            "right": null,
            "justify_content": null,
            "_view_module": "@jupyter-widgets/base",
            "overflow": null,
            "_model_module_version": "1.2.0",
            "_view_count": null,
            "flex_flow": null,
            "width": null,
            "min_width": null,
            "border": null,
            "align_items": null,
            "bottom": null,
            "_model_module": "@jupyter-widgets/base",
            "top": null,
            "grid_column": null,
            "overflow_y": null,
            "overflow_x": null,
            "grid_auto_flow": null,
            "grid_area": null,
            "grid_template_columns": null,
            "flex": null,
            "_model_name": "LayoutModel",
            "justify_items": null,
            "grid_row": null,
            "max_height": null,
            "align_content": null,
            "visibility": null,
            "align_self": null,
            "height": null,
            "min_height": null,
            "padding": null,
            "grid_auto_rows": null,
            "grid_gap": null,
            "max_width": null,
            "order": null,
            "_view_module_version": "1.2.0",
            "grid_template_areas": null,
            "object_position": null,
            "object_fit": null,
            "grid_auto_columns": null,
            "margin": null,
            "display": null,
            "left": null
          }
        },
        "c991bf9fc08b49f286aed4ba9e3ee938": {
          "model_module": "@jupyter-widgets/controls",
          "model_name": "HBoxModel",
          "model_module_version": "1.5.0",
          "state": {
            "_view_name": "HBoxView",
            "_dom_classes": [],
            "_model_name": "HBoxModel",
            "_view_module": "@jupyter-widgets/controls",
            "_model_module_version": "1.5.0",
            "_view_count": null,
            "_view_module_version": "1.5.0",
            "box_style": "",
            "layout": "IPY_MODEL_fe6ae1e28b194940a81bf6d0e8490dde",
            "_model_module": "@jupyter-widgets/controls",
            "children": [
              "IPY_MODEL_9b97114bc70847e7a7729e7fb52b0079",
              "IPY_MODEL_59059e2dc6244947a9512d03c81689b8",
              "IPY_MODEL_f6893d2c35f04ef6aa7740f204e48eb2"
            ]
          }
        },
        "fe6ae1e28b194940a81bf6d0e8490dde": {
          "model_module": "@jupyter-widgets/base",
          "model_name": "LayoutModel",
          "model_module_version": "1.2.0",
          "state": {
            "_view_name": "LayoutView",
            "grid_template_rows": null,
            "right": null,
            "justify_content": null,
            "_view_module": "@jupyter-widgets/base",
            "overflow": null,
            "_model_module_version": "1.2.0",
            "_view_count": null,
            "flex_flow": null,
            "width": null,
            "min_width": null,
            "border": null,
            "align_items": null,
            "bottom": null,
            "_model_module": "@jupyter-widgets/base",
            "top": null,
            "grid_column": null,
            "overflow_y": null,
            "overflow_x": null,
            "grid_auto_flow": null,
            "grid_area": null,
            "grid_template_columns": null,
            "flex": null,
            "_model_name": "LayoutModel",
            "justify_items": null,
            "grid_row": null,
            "max_height": null,
            "align_content": null,
            "visibility": null,
            "align_self": null,
            "height": null,
            "min_height": null,
            "padding": null,
            "grid_auto_rows": null,
            "grid_gap": null,
            "max_width": null,
            "order": null,
            "_view_module_version": "1.2.0",
            "grid_template_areas": null,
            "object_position": null,
            "object_fit": null,
            "grid_auto_columns": null,
            "margin": null,
            "display": null,
            "left": null
          }
        },
        "9b97114bc70847e7a7729e7fb52b0079": {
          "model_module": "@jupyter-widgets/controls",
          "model_name": "HTMLModel",
          "model_module_version": "1.5.0",
          "state": {
            "_view_name": "HTMLView",
            "style": "IPY_MODEL_d159a0d08c8f4c0289c0edcf4788eacb",
            "_dom_classes": [],
            "description": "",
            "_model_name": "HTMLModel",
            "placeholder": "​",
            "_view_module": "@jupyter-widgets/controls",
            "_model_module_version": "1.5.0",
            "value": "100%",
            "_view_count": null,
            "_view_module_version": "1.5.0",
            "description_tooltip": null,
            "_model_module": "@jupyter-widgets/controls",
            "layout": "IPY_MODEL_979141310052472e892de6ffbefdbdf0"
          }
        },
        "59059e2dc6244947a9512d03c81689b8": {
          "model_module": "@jupyter-widgets/controls",
          "model_name": "FloatProgressModel",
          "model_module_version": "1.5.0",
          "state": {
            "_view_name": "ProgressView",
            "style": "IPY_MODEL_f32d5bdc760c429eb181f2f351815cf5",
            "_dom_classes": [],
            "description": "",
            "_model_name": "FloatProgressModel",
            "bar_style": "danger",
            "max": 25250,
            "_view_module": "@jupyter-widgets/controls",
            "_model_module_version": "1.5.0",
            "value": 25249,
            "_view_count": null,
            "_view_module_version": "1.5.0",
            "orientation": "horizontal",
            "min": 0,
            "description_tooltip": null,
            "_model_module": "@jupyter-widgets/controls",
            "layout": "IPY_MODEL_dc76f4c9d917469c9b8f7eaaaaa8ac23"
          }
        },
        "f6893d2c35f04ef6aa7740f204e48eb2": {
          "model_module": "@jupyter-widgets/controls",
          "model_name": "HTMLModel",
          "model_module_version": "1.5.0",
          "state": {
            "_view_name": "HTMLView",
            "style": "IPY_MODEL_3c9c3029102443e7aea7cda63b5c7cd4",
            "_dom_classes": [],
            "description": "",
            "_model_name": "HTMLModel",
            "placeholder": "​",
            "_view_module": "@jupyter-widgets/controls",
            "_model_module_version": "1.5.0",
            "value": " 25249/25250 [00:04&lt;00:00, 5453.60 examples/s]",
            "_view_count": null,
            "_view_module_version": "1.5.0",
            "description_tooltip": null,
            "_model_module": "@jupyter-widgets/controls",
            "layout": "IPY_MODEL_d2690476d5af439a8284adea42409975"
          }
        },
        "d159a0d08c8f4c0289c0edcf4788eacb": {
          "model_module": "@jupyter-widgets/controls",
          "model_name": "DescriptionStyleModel",
          "model_module_version": "1.5.0",
          "state": {
            "_view_name": "StyleView",
            "_model_name": "DescriptionStyleModel",
            "description_width": "",
            "_view_module": "@jupyter-widgets/base",
            "_model_module_version": "1.5.0",
            "_view_count": null,
            "_view_module_version": "1.2.0",
            "_model_module": "@jupyter-widgets/controls"
          }
        },
        "979141310052472e892de6ffbefdbdf0": {
          "model_module": "@jupyter-widgets/base",
          "model_name": "LayoutModel",
          "model_module_version": "1.2.0",
          "state": {
            "_view_name": "LayoutView",
            "grid_template_rows": null,
            "right": null,
            "justify_content": null,
            "_view_module": "@jupyter-widgets/base",
            "overflow": null,
            "_model_module_version": "1.2.0",
            "_view_count": null,
            "flex_flow": null,
            "width": null,
            "min_width": null,
            "border": null,
            "align_items": null,
            "bottom": null,
            "_model_module": "@jupyter-widgets/base",
            "top": null,
            "grid_column": null,
            "overflow_y": null,
            "overflow_x": null,
            "grid_auto_flow": null,
            "grid_area": null,
            "grid_template_columns": null,
            "flex": null,
            "_model_name": "LayoutModel",
            "justify_items": null,
            "grid_row": null,
            "max_height": null,
            "align_content": null,
            "visibility": null,
            "align_self": null,
            "height": null,
            "min_height": null,
            "padding": null,
            "grid_auto_rows": null,
            "grid_gap": null,
            "max_width": null,
            "order": null,
            "_view_module_version": "1.2.0",
            "grid_template_areas": null,
            "object_position": null,
            "object_fit": null,
            "grid_auto_columns": null,
            "margin": null,
            "display": null,
            "left": null
          }
        },
        "f32d5bdc760c429eb181f2f351815cf5": {
          "model_module": "@jupyter-widgets/controls",
          "model_name": "ProgressStyleModel",
          "model_module_version": "1.5.0",
          "state": {
            "_view_name": "StyleView",
            "_model_name": "ProgressStyleModel",
            "description_width": "",
            "_view_module": "@jupyter-widgets/base",
            "_model_module_version": "1.5.0",
            "_view_count": null,
            "_view_module_version": "1.2.0",
            "bar_color": null,
            "_model_module": "@jupyter-widgets/controls"
          }
        },
        "dc76f4c9d917469c9b8f7eaaaaa8ac23": {
          "model_module": "@jupyter-widgets/base",
          "model_name": "LayoutModel",
          "model_module_version": "1.2.0",
          "state": {
            "_view_name": "LayoutView",
            "grid_template_rows": null,
            "right": null,
            "justify_content": null,
            "_view_module": "@jupyter-widgets/base",
            "overflow": null,
            "_model_module_version": "1.2.0",
            "_view_count": null,
            "flex_flow": null,
            "width": null,
            "min_width": null,
            "border": null,
            "align_items": null,
            "bottom": null,
            "_model_module": "@jupyter-widgets/base",
            "top": null,
            "grid_column": null,
            "overflow_y": null,
            "overflow_x": null,
            "grid_auto_flow": null,
            "grid_area": null,
            "grid_template_columns": null,
            "flex": null,
            "_model_name": "LayoutModel",
            "justify_items": null,
            "grid_row": null,
            "max_height": null,
            "align_content": null,
            "visibility": null,
            "align_self": null,
            "height": null,
            "min_height": null,
            "padding": null,
            "grid_auto_rows": null,
            "grid_gap": null,
            "max_width": null,
            "order": null,
            "_view_module_version": "1.2.0",
            "grid_template_areas": null,
            "object_position": null,
            "object_fit": null,
            "grid_auto_columns": null,
            "margin": null,
            "display": null,
            "left": null
          }
        },
        "3c9c3029102443e7aea7cda63b5c7cd4": {
          "model_module": "@jupyter-widgets/controls",
          "model_name": "DescriptionStyleModel",
          "model_module_version": "1.5.0",
          "state": {
            "_view_name": "StyleView",
            "_model_name": "DescriptionStyleModel",
            "description_width": "",
            "_view_module": "@jupyter-widgets/base",
            "_model_module_version": "1.5.0",
            "_view_count": null,
            "_view_module_version": "1.2.0",
            "_model_module": "@jupyter-widgets/controls"
          }
        },
        "d2690476d5af439a8284adea42409975": {
          "model_module": "@jupyter-widgets/base",
          "model_name": "LayoutModel",
          "model_module_version": "1.2.0",
          "state": {
            "_view_name": "LayoutView",
            "grid_template_rows": null,
            "right": null,
            "justify_content": null,
            "_view_module": "@jupyter-widgets/base",
            "overflow": null,
            "_model_module_version": "1.2.0",
            "_view_count": null,
            "flex_flow": null,
            "width": null,
            "min_width": null,
            "border": null,
            "align_items": null,
            "bottom": null,
            "_model_module": "@jupyter-widgets/base",
            "top": null,
            "grid_column": null,
            "overflow_y": null,
            "overflow_x": null,
            "grid_auto_flow": null,
            "grid_area": null,
            "grid_template_columns": null,
            "flex": null,
            "_model_name": "LayoutModel",
            "justify_items": null,
            "grid_row": null,
            "max_height": null,
            "align_content": null,
            "visibility": null,
            "align_self": null,
            "height": null,
            "min_height": null,
            "padding": null,
            "grid_auto_rows": null,
            "grid_gap": null,
            "max_width": null,
            "order": null,
            "_view_module_version": "1.2.0",
            "grid_template_areas": null,
            "object_position": null,
            "object_fit": null,
            "grid_auto_columns": null,
            "margin": null,
            "display": null,
            "left": null
          }
        }
      }
    }
  },
  "cells": [
    {
      "cell_type": "markdown",
      "metadata": {
        "id": "view-in-github",
        "colab_type": "text"
      },
      "source": [
        "<a href=\"https://colab.research.google.com/github/Edesak/tensorflow-kurz/blob/main/07_milestone_project_1.ipynb\" target=\"_parent\"><img src=\"https://colab.research.google.com/assets/colab-badge.svg\" alt=\"Open In Colab\"/></a>"
      ]
    },
    {
      "cell_type": "code",
      "metadata": {
        "id": "x4WBIVppQS29"
      },
      "source": [
        "import tensorflow as tf "
      ],
      "execution_count": null,
      "outputs": []
    },
    {
      "cell_type": "code",
      "metadata": {
        "colab": {
          "base_uri": "https://localhost:8080/"
        },
        "id": "dm51r7OwYepV",
        "outputId": "e9e8bdc2-ea89-4e04-b5a7-430e18254f1a"
      },
      "source": [
        "print(tf.__version__)"
      ],
      "execution_count": null,
      "outputs": [
        {
          "output_type": "stream",
          "text": [
            "2.6.0\n"
          ],
          "name": "stdout"
        }
      ]
    },
    {
      "cell_type": "markdown",
      "metadata": {
        "id": "qFbmbJrDawAE"
      },
      "source": [
        "# Milestone projekt BigFood"
      ]
    },
    {
      "cell_type": "markdown",
      "metadata": {
        "id": "Htmk6ei0a1Sj"
      },
      "source": [
        "Zkontrolujeme GPu kvuli mixed presicions\n",
        " (Ty ktere maji pocitaci kapacitu 7.0 a vysší tak nejvíce benefitují)"
      ]
    },
    {
      "cell_type": "code",
      "metadata": {
        "colab": {
          "base_uri": "https://localhost:8080/"
        },
        "id": "tvUIMJLgbm_a",
        "outputId": "048e5fe4-3a70-4d37-d8dd-02bf6ea10589"
      },
      "source": [
        "!nvidia-smi\n"
      ],
      "execution_count": null,
      "outputs": [
        {
          "output_type": "stream",
          "text": [
            "NVIDIA-SMI has failed because it couldn't communicate with the NVIDIA driver. Make sure that the latest NVIDIA driver is installed and running.\n",
            "\n"
          ],
          "name": "stdout"
        }
      ]
    },
    {
      "cell_type": "code",
      "metadata": {
        "colab": {
          "base_uri": "https://localhost:8080/"
        },
        "id": "CSoyJNmddGid",
        "outputId": "d4acfe15-8038-4199-ee4f-67f81b324672"
      },
      "source": [
        "# get helper functions \n",
        "!wget https://raw.githubusercontent.com/mrdbourke/tensorflow-deep-learning/main/extras/helper_functions.py"
      ],
      "execution_count": null,
      "outputs": [
        {
          "output_type": "stream",
          "text": [
            "--2021-08-25 08:26:30--  https://raw.githubusercontent.com/mrdbourke/tensorflow-deep-learning/main/extras/helper_functions.py\n",
            "Resolving raw.githubusercontent.com (raw.githubusercontent.com)... 185.199.110.133, 185.199.108.133, 185.199.111.133, ...\n",
            "Connecting to raw.githubusercontent.com (raw.githubusercontent.com)|185.199.110.133|:443... connected.\n",
            "HTTP request sent, awaiting response... 200 OK\n",
            "Length: 10246 (10K) [text/plain]\n",
            "Saving to: ‘helper_functions.py’\n",
            "\n",
            "helper_functions.py 100%[===================>]  10.01K  --.-KB/s    in 0s      \n",
            "\n",
            "2021-08-25 08:26:30 (90.5 MB/s) - ‘helper_functions.py’ saved [10246/10246]\n",
            "\n"
          ],
          "name": "stdout"
        }
      ]
    },
    {
      "cell_type": "code",
      "metadata": {
        "id": "FjSQH7qXdWX0"
      },
      "source": [
        "import helper_functions as hf"
      ],
      "execution_count": null,
      "outputs": []
    },
    {
      "cell_type": "code",
      "metadata": {
        "id": "eVf5RM_pdZkr"
      },
      "source": [
        "import tensorflow_datasets as tfds"
      ],
      "execution_count": null,
      "outputs": []
    },
    {
      "cell_type": "code",
      "metadata": {
        "id": "ILK7bqdLezQu"
      },
      "source": [
        "dataset_list = tfds.list_builders() #vsechny mozne datasety "
      ],
      "execution_count": null,
      "outputs": []
    },
    {
      "cell_type": "code",
      "metadata": {
        "colab": {
          "base_uri": "https://localhost:8080/"
        },
        "id": "J84DW21Se5G9",
        "outputId": "ee5ddb85-4fb6-4004-d8cb-a646265945bc"
      },
      "source": [
        "dataset_list"
      ],
      "execution_count": null,
      "outputs": [
        {
          "output_type": "execute_result",
          "data": {
            "text/plain": [
              "['abstract_reasoning',\n",
              " 'accentdb',\n",
              " 'aeslc',\n",
              " 'aflw2k3d',\n",
              " 'ag_news_subset',\n",
              " 'ai2_arc',\n",
              " 'ai2_arc_with_ir',\n",
              " 'amazon_us_reviews',\n",
              " 'anli',\n",
              " 'arc',\n",
              " 'bair_robot_pushing_small',\n",
              " 'bccd',\n",
              " 'beans',\n",
              " 'big_patent',\n",
              " 'bigearthnet',\n",
              " 'billsum',\n",
              " 'binarized_mnist',\n",
              " 'binary_alpha_digits',\n",
              " 'blimp',\n",
              " 'bool_q',\n",
              " 'c4',\n",
              " 'caltech101',\n",
              " 'caltech_birds2010',\n",
              " 'caltech_birds2011',\n",
              " 'cars196',\n",
              " 'cassava',\n",
              " 'cats_vs_dogs',\n",
              " 'celeb_a',\n",
              " 'celeb_a_hq',\n",
              " 'cfq',\n",
              " 'chexpert',\n",
              " 'cifar10',\n",
              " 'cifar100',\n",
              " 'cifar10_1',\n",
              " 'cifar10_corrupted',\n",
              " 'citrus_leaves',\n",
              " 'cityscapes',\n",
              " 'civil_comments',\n",
              " 'clevr',\n",
              " 'clic',\n",
              " 'clinc_oos',\n",
              " 'cmaterdb',\n",
              " 'cnn_dailymail',\n",
              " 'coco',\n",
              " 'coco_captions',\n",
              " 'coil100',\n",
              " 'colorectal_histology',\n",
              " 'colorectal_histology_large',\n",
              " 'common_voice',\n",
              " 'coqa',\n",
              " 'cos_e',\n",
              " 'cosmos_qa',\n",
              " 'covid19sum',\n",
              " 'crema_d',\n",
              " 'curated_breast_imaging_ddsm',\n",
              " 'cycle_gan',\n",
              " 'deep_weeds',\n",
              " 'definite_pronoun_resolution',\n",
              " 'dementiabank',\n",
              " 'diabetic_retinopathy_detection',\n",
              " 'div2k',\n",
              " 'dmlab',\n",
              " 'downsampled_imagenet',\n",
              " 'dsprites',\n",
              " 'dtd',\n",
              " 'duke_ultrasound',\n",
              " 'emnist',\n",
              " 'eraser_multi_rc',\n",
              " 'esnli',\n",
              " 'eurosat',\n",
              " 'fashion_mnist',\n",
              " 'flic',\n",
              " 'flores',\n",
              " 'food101',\n",
              " 'forest_fires',\n",
              " 'fuss',\n",
              " 'gap',\n",
              " 'geirhos_conflict_stimuli',\n",
              " 'genomics_ood',\n",
              " 'german_credit_numeric',\n",
              " 'gigaword',\n",
              " 'glue',\n",
              " 'goemotions',\n",
              " 'gpt3',\n",
              " 'groove',\n",
              " 'gtzan',\n",
              " 'gtzan_music_speech',\n",
              " 'hellaswag',\n",
              " 'higgs',\n",
              " 'horses_or_humans',\n",
              " 'i_naturalist2017',\n",
              " 'imagenet2012',\n",
              " 'imagenet2012_corrupted',\n",
              " 'imagenet2012_real',\n",
              " 'imagenet2012_subset',\n",
              " 'imagenet_a',\n",
              " 'imagenet_r',\n",
              " 'imagenet_resized',\n",
              " 'imagenet_v2',\n",
              " 'imagenette',\n",
              " 'imagewang',\n",
              " 'imdb_reviews',\n",
              " 'irc_disentanglement',\n",
              " 'iris',\n",
              " 'kitti',\n",
              " 'kmnist',\n",
              " 'lfw',\n",
              " 'librispeech',\n",
              " 'librispeech_lm',\n",
              " 'libritts',\n",
              " 'ljspeech',\n",
              " 'lm1b',\n",
              " 'lost_and_found',\n",
              " 'lsun',\n",
              " 'malaria',\n",
              " 'math_dataset',\n",
              " 'mctaco',\n",
              " 'mnist',\n",
              " 'mnist_corrupted',\n",
              " 'movie_lens',\n",
              " 'movie_rationales',\n",
              " 'movielens',\n",
              " 'moving_mnist',\n",
              " 'multi_news',\n",
              " 'multi_nli',\n",
              " 'multi_nli_mismatch',\n",
              " 'natural_questions',\n",
              " 'natural_questions_open',\n",
              " 'newsroom',\n",
              " 'nsynth',\n",
              " 'nyu_depth_v2',\n",
              " 'omniglot',\n",
              " 'open_images_challenge2019_detection',\n",
              " 'open_images_v4',\n",
              " 'openbookqa',\n",
              " 'opinion_abstracts',\n",
              " 'opinosis',\n",
              " 'opus',\n",
              " 'oxford_flowers102',\n",
              " 'oxford_iiit_pet',\n",
              " 'para_crawl',\n",
              " 'patch_camelyon',\n",
              " 'paws_wiki',\n",
              " 'paws_x_wiki',\n",
              " 'pet_finder',\n",
              " 'pg19',\n",
              " 'places365_small',\n",
              " 'plant_leaves',\n",
              " 'plant_village',\n",
              " 'plantae_k',\n",
              " 'qa4mre',\n",
              " 'qasc',\n",
              " 'quickdraw_bitmap',\n",
              " 'radon',\n",
              " 'reddit',\n",
              " 'reddit_disentanglement',\n",
              " 'reddit_tifu',\n",
              " 'resisc45',\n",
              " 'robonet',\n",
              " 'rock_paper_scissors',\n",
              " 'rock_you',\n",
              " 'salient_span_wikipedia',\n",
              " 'samsum',\n",
              " 'savee',\n",
              " 'scan',\n",
              " 'scene_parse150',\n",
              " 'scicite',\n",
              " 'scientific_papers',\n",
              " 'sentiment140',\n",
              " 'shapes3d',\n",
              " 'smallnorb',\n",
              " 'snli',\n",
              " 'so2sat',\n",
              " 'speech_commands',\n",
              " 'spoken_digit',\n",
              " 'squad',\n",
              " 'stanford_dogs',\n",
              " 'stanford_online_products',\n",
              " 'starcraft_video',\n",
              " 'stl10',\n",
              " 'sun397',\n",
              " 'super_glue',\n",
              " 'svhn_cropped',\n",
              " 'ted_hrlr_translate',\n",
              " 'ted_multi_translate',\n",
              " 'tedlium',\n",
              " 'tf_flowers',\n",
              " 'the300w_lp',\n",
              " 'tiny_shakespeare',\n",
              " 'titanic',\n",
              " 'trec',\n",
              " 'trivia_qa',\n",
              " 'tydi_qa',\n",
              " 'uc_merced',\n",
              " 'ucf101',\n",
              " 'vctk',\n",
              " 'vgg_face2',\n",
              " 'visual_domain_decathlon',\n",
              " 'voc',\n",
              " 'voxceleb',\n",
              " 'voxforge',\n",
              " 'waymo_open_dataset',\n",
              " 'web_questions',\n",
              " 'wider_face',\n",
              " 'wiki40b',\n",
              " 'wikihow',\n",
              " 'wikipedia',\n",
              " 'wikipedia_toxicity_subtypes',\n",
              " 'wine_quality',\n",
              " 'winogrande',\n",
              " 'wmt14_translate',\n",
              " 'wmt15_translate',\n",
              " 'wmt16_translate',\n",
              " 'wmt17_translate',\n",
              " 'wmt18_translate',\n",
              " 'wmt19_translate',\n",
              " 'wmt_t2t_translate',\n",
              " 'wmt_translate',\n",
              " 'wordnet',\n",
              " 'xnli',\n",
              " 'xquad',\n",
              " 'xsum',\n",
              " 'yelp_polarity_reviews',\n",
              " 'yes_no']"
            ]
          },
          "metadata": {},
          "execution_count": 8
        }
      ]
    },
    {
      "cell_type": "code",
      "metadata": {
        "colab": {
          "base_uri": "https://localhost:8080/"
        },
        "id": "fXHP-Qnse_h3",
        "outputId": "778a9b2e-d3fa-4d38-fac4-aa8f1be611fc"
      },
      "source": [
        "print(\"food101\" in dataset_list)"
      ],
      "execution_count": null,
      "outputs": [
        {
          "output_type": "stream",
          "text": [
            "True\n"
          ],
          "name": "stdout"
        }
      ]
    },
    {
      "cell_type": "code",
      "metadata": {
        "id": "Z2WEx22_fIQR",
        "colab": {
          "base_uri": "https://localhost:8080/",
          "height": 306,
          "referenced_widgets": [
            "2fce7828d1854efaa452771b89bbd8c1",
            "c17a44c5073544db854e2fa65358437b",
            "443632b9434c4bff846a76472227b97a",
            "b48712fdb7fc407f9940db1bda0545b6",
            "33ce8f4c39d04df99a673952ea656db9",
            "c3de3dacb1644b2ba0fd144a5d547b10",
            "deb1db81845f4f2ca85f834498a1d10f",
            "6006eb4f59494e4488442b19a63bffcb",
            "0654e6b6eb3b4964be0cb29ddbac9559",
            "a26a77b752d843bda1cacc59b26cb3fa",
            "6871acc6aea641edb9f747cc4d309e39",
            "fafd61e4e6394099977c5276b9b26c20",
            "59dbdd88be8c4a308c950954d2140225",
            "b6f14f68c49d40c2b1b8c548a575caab",
            "c8e84d159d414c26badac147de64f575",
            "01dd05082351487db4bcd5d28990715f",
            "60b3bf52c1404952bf6d020f22255f10",
            "ea0f706b33bc4c60b92632251d24b8a9",
            "1d871c46cd484e9b88c54a09ca84f588",
            "dc93ee8109464ae3a07c33cb16f07534",
            "e47cef6714ad48309ec8b41d93b4de23",
            "354872d872514a009cfb6e9cfeefbe1e",
            "3c5089c496a64318bbdbff3ffc4a0706",
            "303772dd422446d9a34dd337cc25a986",
            "c99ab4bb48e042aaad204e372d3f1fb5",
            "37890cb78f1448f68561e04117136bef",
            "c307ef8a7d454ae59ae54d334e132ee4",
            "8b697ccf2cf8468ca915784fd0585b66",
            "5df850f7f90c4d37ab01e322f96ae0a6",
            "70e1ed86f7e04d2b9a50eece69aa47b7",
            "6474568a8591469b84a6ed82beeff10b",
            "e2dfe3176391472390d2eb3992e4ebff",
            "009da681f9cc41bc8300ddb48c8d1420",
            "4205520091b242a9ade225ba44460b31",
            "90f3ee7cfe584bd5974f25faa5983a39",
            "c1f94579e4984c28b66f20c5d2190626",
            "9bcd5c6e047f4569b31818477fcab730",
            "ee9eb90f5b404280a065bb1e8e1188f2",
            "0d1cea83db5b4faabccf869f7adf5a4d",
            "31f1dae785c14b328ebebb32485676aa",
            "c4b9eba98ba8466ba72f648820568f57",
            "732d54c70b054d23b5be7068ff71fcac",
            "890b1efc45114878943d5fe683441c24",
            "a07a00323a2945038b984916f7240e4e",
            "bdcc9299ee5a46688157e3467c698cbc",
            "f172d97d69fb45c3b2cd09da361592ba",
            "fdc93e5ce8d442e7828f8e5390777e75",
            "d2ad4fb67fb6456b95cd9e8c18bc4179",
            "4d587e4f082541b4a3217666a9a6976a",
            "20c58dd0a5a74b45af678b7678aa9493",
            "8332affaac55494b91a400f749b022a7",
            "3c24e7a9cf864b79b8ac114dadaa0f4b",
            "76e1cf66b76147f0b215554e3aafec2e",
            "71153c8056c940d6bac4531896545879",
            "9aca89bbdbd64832a7b4992a1577f4f7",
            "8e405dcf4db34981a4902e3901c6ade3",
            "5fe8301065cf4f3bad34b0f06bbfd123",
            "32abb404099c4fc4a35080c1735996a7",
            "9b8de9f477284638802a020be9ab650d",
            "7c868c6cfb7a4469a98cd50462072149",
            "e05de7b2253e44fd9647badfdd2e9c70",
            "fed001aaee0f4e928058605123206c8a",
            "f99e26715127413e8b6cf3b08f05e9a9",
            "efe9e35653134e3d8bd4c162222462ee",
            "0532818947bc49a4aa0a2a59da7a41f8",
            "68c2f39d3a35497ea41856dfcbf3f9f3",
            "c991bf9fc08b49f286aed4ba9e3ee938",
            "fe6ae1e28b194940a81bf6d0e8490dde",
            "9b97114bc70847e7a7729e7fb52b0079",
            "59059e2dc6244947a9512d03c81689b8",
            "f6893d2c35f04ef6aa7740f204e48eb2",
            "d159a0d08c8f4c0289c0edcf4788eacb",
            "979141310052472e892de6ffbefdbdf0",
            "f32d5bdc760c429eb181f2f351815cf5",
            "dc76f4c9d917469c9b8f7eaaaaa8ac23",
            "3c9c3029102443e7aea7cda63b5c7cd4",
            "d2690476d5af439a8284adea42409975"
          ]
        },
        "outputId": "24fdc39a-7445-403c-86ac-c2c2ceb2994f"
      },
      "source": [
        "(train_data, test_data), ds_info = tfds.load(name = \"food101\",\n",
        "                                             split=[\"train\",\"validation\"],\n",
        "                                             shuffle_files = False, #Zamixuje\n",
        "                                             as_supervised = True, #Data se vrati v tubplu (data,label)\n",
        "                                             with_info=True #ds_info stahne\n",
        "                                             )"
      ],
      "execution_count": null,
      "outputs": [
        {
          "output_type": "stream",
          "text": [
            "\u001b[1mDownloading and preparing dataset food101/2.0.0 (download: 4.65 GiB, generated: Unknown size, total: 4.65 GiB) to /root/tensorflow_datasets/food101/2.0.0...\u001b[0m\n"
          ],
          "name": "stdout"
        },
        {
          "output_type": "display_data",
          "data": {
            "application/vnd.jupyter.widget-view+json": {
              "model_id": "2fce7828d1854efaa452771b89bbd8c1",
              "version_minor": 0,
              "version_major": 2
            },
            "text/plain": [
              "Dl Completed...: 0 url [00:00, ? url/s]"
            ]
          },
          "metadata": {}
        },
        {
          "output_type": "display_data",
          "data": {
            "application/vnd.jupyter.widget-view+json": {
              "model_id": "fafd61e4e6394099977c5276b9b26c20",
              "version_minor": 0,
              "version_major": 2
            },
            "text/plain": [
              "Dl Size...: 0 MiB [00:00, ? MiB/s]"
            ]
          },
          "metadata": {}
        },
        {
          "output_type": "display_data",
          "data": {
            "application/vnd.jupyter.widget-view+json": {
              "model_id": "3c5089c496a64318bbdbff3ffc4a0706",
              "version_minor": 0,
              "version_major": 2
            },
            "text/plain": [
              "Extraction completed...: 0 file [00:00, ? file/s]"
            ]
          },
          "metadata": {}
        },
        {
          "output_type": "stream",
          "text": [
            "\n",
            "\n",
            "\n"
          ],
          "name": "stdout"
        },
        {
          "output_type": "display_data",
          "data": {
            "application/vnd.jupyter.widget-view+json": {
              "model_id": "4205520091b242a9ade225ba44460b31",
              "version_minor": 0,
              "version_major": 2
            },
            "text/plain": [
              "0 examples [00:00, ? examples/s]"
            ]
          },
          "metadata": {}
        },
        {
          "output_type": "stream",
          "text": [
            "Shuffling and writing examples to /root/tensorflow_datasets/food101/2.0.0.incompleteIC214Z/food101-train.tfrecord\n"
          ],
          "name": "stdout"
        },
        {
          "output_type": "display_data",
          "data": {
            "application/vnd.jupyter.widget-view+json": {
              "model_id": "bdcc9299ee5a46688157e3467c698cbc",
              "version_minor": 0,
              "version_major": 2
            },
            "text/plain": [
              "  0%|          | 0/75750 [00:00<?, ? examples/s]"
            ]
          },
          "metadata": {}
        },
        {
          "output_type": "display_data",
          "data": {
            "application/vnd.jupyter.widget-view+json": {
              "model_id": "8e405dcf4db34981a4902e3901c6ade3",
              "version_minor": 0,
              "version_major": 2
            },
            "text/plain": [
              "0 examples [00:00, ? examples/s]"
            ]
          },
          "metadata": {}
        },
        {
          "output_type": "stream",
          "text": [
            "Shuffling and writing examples to /root/tensorflow_datasets/food101/2.0.0.incompleteIC214Z/food101-validation.tfrecord\n"
          ],
          "name": "stdout"
        },
        {
          "output_type": "display_data",
          "data": {
            "application/vnd.jupyter.widget-view+json": {
              "model_id": "c991bf9fc08b49f286aed4ba9e3ee938",
              "version_minor": 0,
              "version_major": 2
            },
            "text/plain": [
              "  0%|          | 0/25250 [00:00<?, ? examples/s]"
            ]
          },
          "metadata": {}
        },
        {
          "output_type": "stream",
          "text": [
            "\u001b[1mDataset food101 downloaded and prepared to /root/tensorflow_datasets/food101/2.0.0. Subsequent calls will reuse this data.\u001b[0m\n"
          ],
          "name": "stdout"
        }
      ]
    },
    {
      "cell_type": "markdown",
      "metadata": {
        "id": "NLDkh65KkzVq"
      },
      "source": [
        "##Becum one with data\n",
        "\n",
        "* Class names\n",
        "* shape of data\n",
        "* Datatype\n",
        "* Lables are one hot enconded\n",
        "* Do labels match up with classnames"
      ]
    },
    {
      "cell_type": "code",
      "metadata": {
        "colab": {
          "base_uri": "https://localhost:8080/"
        },
        "id": "oBpVsDMRkNrP",
        "outputId": "c549fc37-f635-4026-d650-c28ae9773d50"
      },
      "source": [
        "ds_info.features"
      ],
      "execution_count": null,
      "outputs": [
        {
          "output_type": "execute_result",
          "data": {
            "text/plain": [
              "FeaturesDict({\n",
              "    'image': Image(shape=(None, None, 3), dtype=tf.uint8),\n",
              "    'label': ClassLabel(shape=(), dtype=tf.int64, num_classes=101),\n",
              "})"
            ]
          },
          "metadata": {},
          "execution_count": 12
        }
      ]
    },
    {
      "cell_type": "code",
      "metadata": {
        "id": "9FeOVDTakca6"
      },
      "source": [
        "class_names = ds_info.features[\"label\"].names"
      ],
      "execution_count": null,
      "outputs": []
    },
    {
      "cell_type": "code",
      "metadata": {
        "colab": {
          "base_uri": "https://localhost:8080/"
        },
        "id": "iMWrmq06kp-4",
        "outputId": "c4eb23ff-c3ba-4fb2-d15d-79e54593158d"
      },
      "source": [
        "class_names[:10]"
      ],
      "execution_count": null,
      "outputs": [
        {
          "output_type": "execute_result",
          "data": {
            "text/plain": [
              "['apple_pie',\n",
              " 'baby_back_ribs',\n",
              " 'baklava',\n",
              " 'beef_carpaccio',\n",
              " 'beef_tartare',\n",
              " 'beet_salad',\n",
              " 'beignets',\n",
              " 'bibimbap',\n",
              " 'bread_pudding',\n",
              " 'breakfast_burrito']"
            ]
          },
          "metadata": {},
          "execution_count": 14
        }
      ]
    },
    {
      "cell_type": "code",
      "metadata": {
        "colab": {
          "base_uri": "https://localhost:8080/"
        },
        "id": "kSdebpfTkuWX",
        "outputId": "c6843918-9528-4083-b1d9-0ef6fd4a3098"
      },
      "source": [
        "train_data"
      ],
      "execution_count": null,
      "outputs": [
        {
          "output_type": "execute_result",
          "data": {
            "text/plain": [
              "<PrefetchDataset shapes: ((None, None, 3), ()), types: (tf.uint8, tf.int64)>"
            ]
          },
          "metadata": {},
          "execution_count": 15
        }
      ]
    },
    {
      "cell_type": "code",
      "metadata": {
        "colab": {
          "base_uri": "https://localhost:8080/"
        },
        "id": "uLDokG7wlini",
        "outputId": "5c51db20-95aa-44d1-ba68-e984eae3b054"
      },
      "source": [
        "train_one_sample = train_data.take(1)\n",
        "train_one_sample"
      ],
      "execution_count": null,
      "outputs": [
        {
          "output_type": "execute_result",
          "data": {
            "text/plain": [
              "<TakeDataset shapes: ((None, None, 3), ()), types: (tf.uint8, tf.int64)>"
            ]
          },
          "metadata": {},
          "execution_count": 16
        }
      ]
    },
    {
      "cell_type": "code",
      "metadata": {
        "colab": {
          "base_uri": "https://localhost:8080/"
        },
        "id": "41wNVUi2l2TS",
        "outputId": "eaf467a7-8a42-41d9-ffe4-8e28c0409583"
      },
      "source": [
        "for image,label in train_one_sample:\n",
        "  print(f\"\"\"\n",
        "  Image shape: {image.shape},\n",
        "  Image datatype: {image.dtype},\n",
        "  Target class from Food 101: {label},\n",
        "  Class name: {class_names[label.numpy()]}\n",
        "  \"\"\")"
      ],
      "execution_count": null,
      "outputs": [
        {
          "output_type": "stream",
          "text": [
            "\n",
            "  Image shape: (512, 512, 3),\n",
            "  Image datatype: <dtype: 'uint8'>,\n",
            "  Target class from Food 101: 56,\n",
            "  Class name: huevos_rancheros\n",
            "  \n"
          ],
          "name": "stdout"
        }
      ]
    },
    {
      "cell_type": "code",
      "metadata": {
        "id": "L_WLCr43mj2i"
      },
      "source": [
        "#Jak tedy vypada nas Image kdy je type uint8"
      ],
      "execution_count": null,
      "outputs": []
    },
    {
      "cell_type": "code",
      "metadata": {
        "colab": {
          "base_uri": "https://localhost:8080/"
        },
        "id": "RhmcGv3omnXU",
        "outputId": "f7d97e2f-95b9-487b-b0d4-59b3d15c1aaf"
      },
      "source": [
        "image"
      ],
      "execution_count": null,
      "outputs": [
        {
          "output_type": "execute_result",
          "data": {
            "text/plain": [
              "<tf.Tensor: shape=(512, 512, 3), dtype=uint8, numpy=\n",
              "array([[[233, 253, 251],\n",
              "        [231, 253, 250],\n",
              "        [228, 254, 251],\n",
              "        ...,\n",
              "        [ 85,  82,  89],\n",
              "        [ 68,  67,  75],\n",
              "        [ 57,  57,  67]],\n",
              "\n",
              "       [[232, 254, 252],\n",
              "        [229, 254, 251],\n",
              "        [226, 255, 251],\n",
              "        ...,\n",
              "        [121, 116, 120],\n",
              "        [100,  99, 104],\n",
              "        [ 86,  85,  91]],\n",
              "\n",
              "       [[228, 254, 253],\n",
              "        [226, 255, 253],\n",
              "        [223, 255, 252],\n",
              "        ...,\n",
              "        [164, 159, 155],\n",
              "        [145, 141, 138],\n",
              "        [128, 127, 125]],\n",
              "\n",
              "       ...,\n",
              "\n",
              "       [[ 66, 112, 164],\n",
              "        [ 67, 113, 163],\n",
              "        [ 55,  99, 148],\n",
              "        ...,\n",
              "        [  5,  14,  23],\n",
              "        [  9,  18,  27],\n",
              "        [  8,  17,  26]],\n",
              "\n",
              "       [[ 76, 123, 177],\n",
              "        [ 75, 122, 176],\n",
              "        [ 70, 116, 168],\n",
              "        ...,\n",
              "        [  5,  14,  23],\n",
              "        [  9,  18,  25],\n",
              "        [  7,  16,  23]],\n",
              "\n",
              "       [[ 80, 129, 185],\n",
              "        [ 71, 121, 174],\n",
              "        [ 74, 121, 175],\n",
              "        ...,\n",
              "        [  7,  16,  25],\n",
              "        [ 11,  20,  27],\n",
              "        [ 10,  19,  26]]], dtype=uint8)>"
            ]
          },
          "metadata": {},
          "execution_count": 18
        }
      ]
    },
    {
      "cell_type": "code",
      "metadata": {
        "colab": {
          "base_uri": "https://localhost:8080/"
        },
        "id": "i5SBAZMwmtj2",
        "outputId": "da3ef010-462d-4a9e-cda0-a64b5c2ee8e7"
      },
      "source": [
        "tf.reduce_min(image),tf.reduce_max(image) #maximalni a minimalni hodnota"
      ],
      "execution_count": null,
      "outputs": [
        {
          "output_type": "execute_result",
          "data": {
            "text/plain": [
              "(<tf.Tensor: shape=(), dtype=uint8, numpy=0>,\n",
              " <tf.Tensor: shape=(), dtype=uint8, numpy=255>)"
            ]
          },
          "metadata": {},
          "execution_count": 19
        }
      ]
    },
    {
      "cell_type": "code",
      "metadata": {
        "id": "o6uiHpsdnB35"
      },
      "source": [
        "import matplotlib.pyplot as plt\n"
      ],
      "execution_count": null,
      "outputs": []
    },
    {
      "cell_type": "code",
      "metadata": {
        "colab": {
          "base_uri": "https://localhost:8080/",
          "height": 282
        },
        "id": "kyydJf1gnQuX",
        "outputId": "393a120e-3c2a-4c77-8a41-547ba92ad6b7"
      },
      "source": [
        "plt.imshow(image)\n",
        "plt.axis(False)\n",
        "plt.title(class_names[label.numpy()])"
      ],
      "execution_count": null,
      "outputs": [
        {
          "output_type": "execute_result",
          "data": {
            "text/plain": [
              "Text(0.5, 1.0, 'huevos_rancheros')"
            ]
          },
          "metadata": {},
          "execution_count": 21
        },
        {
          "output_type": "display_data",
          "data": {
            "image/png": "[encoded data removed]",
            "text/plain": [
              "<Figure size 432x288 with 1 Axes>"
            ]
          },
          "metadata": {
            "needs_background": "light"
          }
        }
      ]
    },
    {
      "cell_type": "markdown",
      "metadata": {
        "id": "JYMt34p5pdHK"
      },
      "source": [
        "##Udelani preprocesingu \n",
        "\n",
        "Nase data potrebujeme dat do \n",
        "\n",
        "* z unit8 na float32 (nebo mixed precision)\n",
        "* Vsechny hodit na stejne rozliseni (image)\n",
        "* nejsou normalizovany (mame 0-255 potrebujeme 0-1)\n",
        "(Budeme pouzivat EfficientNet ten v sobe uz ma normalizujici vrstvu takze tohle resit nemusime)\n",
        "\n",
        "1. Reshape\n",
        "2. Konvertovat dtype na float32"
      ]
    },
    {
      "cell_type": "code",
      "metadata": {
        "id": "AG3rBQIPoItt"
      },
      "source": [
        "def preprocess_img(image,label, img_shape = 224):\n",
        "  \"\"\"\n",
        "  Konvertuje dtype na dtype float32\n",
        "  image na [img_shape,img_shape,collor channels]\n",
        "  \"\"\"\n",
        "\n",
        "  image = tf.image.resize(image,[img_shape,img_shape])\n",
        "  return tf.cast(image, tf.float32), label #vrati tuple image a label"
      ],
      "execution_count": null,
      "outputs": []
    },
    {
      "cell_type": "code",
      "metadata": {
        "id": "t2xqmxz03tBQ"
      },
      "source": [
        "prep_img = preprocess_img(image,label)"
      ],
      "execution_count": null,
      "outputs": []
    },
    {
      "cell_type": "code",
      "metadata": {
        "id": "b7inWbVB391m",
        "colab": {
          "base_uri": "https://localhost:8080/"
        },
        "outputId": "0b68c313-23d0-4c75-d13a-8367089d8681"
      },
      "source": [
        "prep_img"
      ],
      "execution_count": null,
      "outputs": [
        {
          "output_type": "execute_result",
          "data": {
            "text/plain": [
              "(<tf.Tensor: shape=(224, 224, 3), dtype=float32, numpy=\n",
              " array([[[230.65816  , 253.64285  , 251.       ],\n",
              "         [222.99998  , 254.97449  , 252.19388  ],\n",
              "         [207.06633  , 255.       , 250.36734  ],\n",
              "         ...,\n",
              "         [140.66287  , 129.52519  , 121.22428  ],\n",
              "         [121.14268  , 115.265144 , 116.95397  ],\n",
              "         [ 83.95363  ,  83.08119  ,  89.63737  ]],\n",
              " \n",
              "        [[221.47449  , 254.37755  , 253.33163  ],\n",
              "         [214.5102   , 255.       , 253.92348  ],\n",
              "         [198.41327  , 254.58673  , 251.96939  ],\n",
              "         ...,\n",
              "         [208.66318  , 195.82143  , 173.40823  ],\n",
              "         [197.03056  , 190.1071   , 174.83162  ],\n",
              "         [175.54036  , 171.6169   , 161.21384  ]],\n",
              " \n",
              "        [[204.21428  , 253.42857  , 249.57143  ],\n",
              "         [198.71428  , 254.64287  , 251.2449   ],\n",
              "         [185.04591  , 251.73979  , 252.21428  ],\n",
              "         ...,\n",
              "         [222.45403  , 207.47444  , 169.35715  ],\n",
              "         [216.52551  , 205.01024  , 172.02556  ],\n",
              "         [215.51529  , 207.87244  , 177.58672  ]],\n",
              " \n",
              "        ...,\n",
              " \n",
              "        [[ 47.112076 ,  81.04076  , 121.17347  ],\n",
              "         [ 30.413044 ,  63.612114 , 101.32644  ],\n",
              "         [127.3627   , 158.90869  , 193.0057   ],\n",
              "         ...,\n",
              "         [  3.954091 ,  11.954091 ,  23.382618 ],\n",
              "         [  2.2703981,  10.326532 ,  21.214264 ],\n",
              "         [  6.8622665,  16.07653  ,  25.290794 ]],\n",
              " \n",
              "        [[ 68.89793  , 111.18369  , 160.04086  ],\n",
              "         [ 41.204117 ,  82.28577  , 126.70928  ],\n",
              "         [ 55.051186 ,  92.26549  , 131.30635  ],\n",
              "         ...,\n",
              "         [  4.086749 ,  12.658221 ,  21.872484 ],\n",
              "         [  5.0663376,  14.066338 ,  23.066338 ],\n",
              "         [ 11.760158 ,  20.760159 ,  29.760159 ]],\n",
              " \n",
              "        [[ 74.94894  , 122.89291  , 176.91843  ],\n",
              "         [ 59.688942 , 105.714455 , 155.31143  ],\n",
              "         [103.81651  , 144.11244  , 188.16861  ],\n",
              "         ...,\n",
              "         [  6.214264 ,  13.214264 ,  23.214264 ],\n",
              "         [  4.454137 ,  13.454137 ,  22.454136 ],\n",
              "         [  9.127576 ,  18.127577 ,  25.127577 ]]], dtype=float32)>,\n",
              " <tf.Tensor: shape=(), dtype=int64, numpy=56>)"
            ]
          },
          "metadata": {},
          "execution_count": 24
        }
      ]
    },
    {
      "cell_type": "code",
      "metadata": {
        "id": "i2hSyzaX4RuZ",
        "colab": {
          "base_uri": "https://localhost:8080/"
        },
        "outputId": "ba040d8d-ce43-4ff2-b3d4-8bbad235a330"
      },
      "source": [
        "image"
      ],
      "execution_count": null,
      "outputs": [
        {
          "output_type": "execute_result",
          "data": {
            "text/plain": [
              "<tf.Tensor: shape=(512, 512, 3), dtype=uint8, numpy=\n",
              "array([[[233, 253, 251],\n",
              "        [231, 253, 250],\n",
              "        [228, 254, 251],\n",
              "        ...,\n",
              "        [ 85,  82,  89],\n",
              "        [ 68,  67,  75],\n",
              "        [ 57,  57,  67]],\n",
              "\n",
              "       [[232, 254, 252],\n",
              "        [229, 254, 251],\n",
              "        [226, 255, 251],\n",
              "        ...,\n",
              "        [121, 116, 120],\n",
              "        [100,  99, 104],\n",
              "        [ 86,  85,  91]],\n",
              "\n",
              "       [[228, 254, 253],\n",
              "        [226, 255, 253],\n",
              "        [223, 255, 252],\n",
              "        ...,\n",
              "        [164, 159, 155],\n",
              "        [145, 141, 138],\n",
              "        [128, 127, 125]],\n",
              "\n",
              "       ...,\n",
              "\n",
              "       [[ 66, 112, 164],\n",
              "        [ 67, 113, 163],\n",
              "        [ 55,  99, 148],\n",
              "        ...,\n",
              "        [  5,  14,  23],\n",
              "        [  9,  18,  27],\n",
              "        [  8,  17,  26]],\n",
              "\n",
              "       [[ 76, 123, 177],\n",
              "        [ 75, 122, 176],\n",
              "        [ 70, 116, 168],\n",
              "        ...,\n",
              "        [  5,  14,  23],\n",
              "        [  9,  18,  25],\n",
              "        [  7,  16,  23]],\n",
              "\n",
              "       [[ 80, 129, 185],\n",
              "        [ 71, 121, 174],\n",
              "        [ 74, 121, 175],\n",
              "        ...,\n",
              "        [  7,  16,  25],\n",
              "        [ 11,  20,  27],\n",
              "        [ 10,  19,  26]]], dtype=uint8)>"
            ]
          },
          "metadata": {},
          "execution_count": 25
        }
      ]
    },
    {
      "cell_type": "code",
      "metadata": {
        "colab": {
          "base_uri": "https://localhost:8080/",
          "height": 287
        },
        "id": "qt-c_MLU4hLy",
        "outputId": "7eb3de75-b7d5-4606-d9dd-7cf961717628"
      },
      "source": [
        "plt.imshow(tf.cast(prep_img[0],tf.uint8))"
      ],
      "execution_count": null,
      "outputs": [
        {
          "output_type": "execute_result",
          "data": {
            "text/plain": [
              "<matplotlib.image.AxesImage at 0x7f153526bc10>"
            ]
          },
          "metadata": {},
          "execution_count": 26
        },
        {
          "output_type": "display_data",
          "data": {
            "image/png": "[encoded data removed]",
            "text/plain": [
              "<Figure size 432x288 with 1 Axes>"
            ]
          },
          "metadata": {
            "needs_background": "light"
          }
        }
      ]
    },
    {
      "cell_type": "code",
      "metadata": {
        "id": "a7Oj77ON5eOd"
      },
      "source": [
        "#Map preprocesing function a paralizovani\n",
        "\n",
        "#Tohle nam vsechny data kter mame aplikuje na urcitou funkci (hodi se misto for cyklu) AUTOTUNE vyzuije maximalni mozny vykon na zpracovani (CPU)\n",
        "train_data = train_data.map(map_func=preprocess_img,num_parallel_calls=tf.data.AUTOTUNE)\n",
        "\n",
        "#Zamychat train_data a rozdelit je do batchu a prefetched (Aby se rychleji nacitaly)\n",
        "\n",
        "train_data  = train_data.shuffle(buffer_size=1000).batch(batch_size = 32).prefetch(buffer_size = tf.data.AUTOTUNE)\n",
        "\n",
        "test_data = test_data.map(map_func=preprocess_img,num_parallel_calls=tf.data.AUTOTUNE).batch(32).prefetch(tf.data.AUTOTUNE)"
      ],
      "execution_count": null,
      "outputs": []
    },
    {
      "cell_type": "code",
      "metadata": {
        "colab": {
          "base_uri": "https://localhost:8080/"
        },
        "id": "2bkGZPOw83rx",
        "outputId": "30a66207-f1bd-4129-d30f-51dd51d01db4"
      },
      "source": [
        "train_data, test_data"
      ],
      "execution_count": null,
      "outputs": [
        {
          "output_type": "execute_result",
          "data": {
            "text/plain": [
              "(<PrefetchDataset shapes: ((None, 224, 224, 3), (None,)), types: (tf.float32, tf.int64)>,\n",
              " <PrefetchDataset shapes: ((None, 224, 224, 3), (None,)), types: (tf.float32, tf.int64)>)"
            ]
          },
          "metadata": {},
          "execution_count": 28
        }
      ]
    },
    {
      "cell_type": "code",
      "metadata": {
        "id": "Mp2jbaa8er_H"
      },
      "source": [
        "exp = tf.data.Dataset.unbatch(test_data)\n",
        "y_true_easy = []\n",
        "for img,label in exp:\n",
        "  y_true_easy.append(label.numpy())"
      ],
      "execution_count": null,
      "outputs": []
    },
    {
      "cell_type": "code",
      "metadata": {
        "colab": {
          "base_uri": "https://localhost:8080/"
        },
        "id": "TQ-KQO-De7q8",
        "outputId": "99017c02-2684-477b-c66b-63856d460b5e"
      },
      "source": [
        "y_true_easy[:20]"
      ],
      "execution_count": null,
      "outputs": [
        {
          "output_type": "execute_result",
          "data": {
            "text/plain": [
              "[29, 81, 91, 53, 97, 97, 10, 31, 3, 100, 4, 32, 32, 3, 8, 85, 84, 60, 29, 80]"
            ]
          },
          "metadata": {},
          "execution_count": 32
        }
      ]
    },
    {
      "cell_type": "code",
      "metadata": {
        "colab": {
          "base_uri": "https://localhost:8080/"
        },
        "id": "bJukCOpVevfu",
        "outputId": "d9b5de32-d84b-4ad7-ecda-12332e5d0767"
      },
      "source": [
        "y_true_easy[:20]"
      ],
      "execution_count": null,
      "outputs": [
        {
          "output_type": "execute_result",
          "data": {
            "text/plain": [
              "[29, 81, 91, 53, 97, 97, 10, 31, 3, 100, 4, 32, 32, 3, 8, 85, 84, 60, 29, 80]"
            ]
          },
          "metadata": {},
          "execution_count": 30
        }
      ]
    },
    {
      "cell_type": "code",
      "metadata": {
        "id": "nbA7VmclfWuf"
      },
      "source": [
        "from collections import Counter"
      ],
      "execution_count": null,
      "outputs": []
    },
    {
      "cell_type": "code",
      "metadata": {
        "colab": {
          "base_uri": "https://localhost:8080/"
        },
        "id": "GADi-AEafX_3",
        "outputId": "66e5a42b-6456-408e-f0b8-2af25b7b8e98"
      },
      "source": [
        "len(Counter(y_true_easy).keys())"
      ],
      "execution_count": null,
      "outputs": [
        {
          "output_type": "execute_result",
          "data": {
            "text/plain": [
              "101"
            ]
          },
          "metadata": {},
          "execution_count": 35
        }
      ]
    },
    {
      "cell_type": "markdown",
      "metadata": {
        "id": "UK8ISnSq2bi7"
      },
      "source": [
        "##Udelani modeling callbacks \n",
        "\n",
        "1. Tensorboard callback \n",
        "2. Model checkpoint callback"
      ]
    },
    {
      "cell_type": "code",
      "metadata": {
        "id": "vQ6EqmDrip7P"
      },
      "source": [
        "tb_callback_folder = \"/content/Tensorboard\""
      ],
      "execution_count": null,
      "outputs": []
    },
    {
      "cell_type": "code",
      "metadata": {
        "id": "2WrfnJcq3YXY"
      },
      "source": [
        "checkpoint = \"/content/Checkpoints/cp\"\n",
        "\n",
        "cp_callback = tf.keras.callbacks.ModelCheckpoint(checkpoint,\n",
        "                                                 'val_accuracy',\n",
        "                                                 0,\n",
        "                                                 True,\n",
        "                                                 True)"
      ],
      "execution_count": null,
      "outputs": []
    },
    {
      "cell_type": "code",
      "metadata": {
        "colab": {
          "base_uri": "https://localhost:8080/"
        },
        "id": "f_3D7ifN4a-V",
        "outputId": "74b7c296-591a-4734-89db-ce8a01c0c2b7"
      },
      "source": [
        "tf.keras.mixed_precision.set_global_policy(\"mixed_float16\")"
      ],
      "execution_count": null,
      "outputs": [
        {
          "output_type": "stream",
          "text": [
            "INFO:tensorflow:Mixed precision compatibility check (mixed_float16): OK\n",
            "Your GPU will likely run quickly with dtype policy mixed_float16 as it has compute capability of at least 7.0. Your GPU: Tesla T4, compute capability 7.5\n"
          ],
          "name": "stdout"
        },
        {
          "output_type": "stream",
          "text": [
            "INFO:tensorflow:Mixed precision compatibility check (mixed_float16): OK\n",
            "Your GPU will likely run quickly with dtype policy mixed_float16 as it has compute capability of at least 7.0. Your GPU: Tesla T4, compute capability 7.5\n"
          ],
          "name": "stderr"
        }
      ]
    },
    {
      "cell_type": "code",
      "metadata": {
        "colab": {
          "base_uri": "https://localhost:8080/"
        },
        "id": "Xn6SrhWy7GV_",
        "outputId": "04c277e2-92ef-4538-a3f4-525ad7caaae3"
      },
      "source": [
        "tf.keras.mixed_precision.global_policy()"
      ],
      "execution_count": null,
      "outputs": [
        {
          "output_type": "execute_result",
          "data": {
            "text/plain": [
              "<Policy \"mixed_float16\">"
            ]
          },
          "metadata": {},
          "execution_count": 33
        }
      ]
    },
    {
      "cell_type": "markdown",
      "metadata": {
        "id": "xW689OZ38zYo"
      },
      "source": [
        "##Build feature extraction"
      ]
    },
    {
      "cell_type": "code",
      "metadata": {
        "id": "mqmJhFf18yWM"
      },
      "source": [
        "from tensorflow.keras import layers"
      ],
      "execution_count": null,
      "outputs": []
    },
    {
      "cell_type": "code",
      "metadata": {
        "id": "nD1oPRAN87Yq"
      },
      "source": [
        "input_shape = (224,224,3)\n",
        "\n",
        "backbone = tf.keras.applications.EfficientNetB0(include_top=False)\n",
        "backbone.trainable = False\n",
        "\n",
        "\n"
      ],
      "execution_count": null,
      "outputs": []
    },
    {
      "cell_type": "code",
      "metadata": {
        "id": "Xdhn07lo9pao"
      },
      "source": [
        "inputs = layers.Input(shape=input_shape, name = \"Input_layer\")\n",
        "#Pokud budeme chtit rescaling(normalizaci dat)\n",
        "#x = layers.Rescaling(1./255)(inputs)\n",
        "x = backbone(inputs,training = False)\n",
        "x = layers.GlobalAveragePooling2D(name = \"GAP\")(x)\n",
        "x = layers.Dense(len(class_names))(x) \n",
        "# Activacni vrstvu musime dat zvlast kvuli nastaveni Dtype. \n",
        "#Jelikoz mame mixed precision tak kvuli stabilni presnosti musi byt vysledky uchovavany v float 32.\n",
        "# Dense layer tuto moznost nema tudiz musime oddelit\n",
        "outputs = layers.Activation(\"softmax\",dtype = tf.float32, name = \"softmax_float32\")(x)\n",
        "model = tf.keras.Model(inputs,outputs)"
      ],
      "execution_count": null,
      "outputs": []
    },
    {
      "cell_type": "code",
      "metadata": {
        "id": "VaaMBk58_KB1"
      },
      "source": [
        "model.compile(loss = tf.keras.losses.sparse_categorical_crossentropy,\n",
        "              optimizer = tf.keras.optimizers.Adam(),\n",
        "              metrics = [\"accuracy\"])"
      ],
      "execution_count": null,
      "outputs": []
    },
    {
      "cell_type": "code",
      "metadata": {
        "colab": {
          "base_uri": "https://localhost:8080/"
        },
        "id": "eGaDuWxE_aAm",
        "outputId": "bedb50d3-7eb5-4c14-f649-2c476a797cb0"
      },
      "source": [
        "model.summary()"
      ],
      "execution_count": null,
      "outputs": [
        {
          "output_type": "stream",
          "text": [
            "Model: \"model\"\n",
            "_________________________________________________________________\n",
            "Layer (type)                 Output Shape              Param #   \n",
            "=================================================================\n",
            "Input_layer (InputLayer)     [(None, 224, 224, 3)]     0         \n",
            "_________________________________________________________________\n",
            "efficientnetb0 (Functional)  (None, None, None, 1280)  4049571   \n",
            "_________________________________________________________________\n",
            "GAP (GlobalAveragePooling2D) (None, 1280)              0         \n",
            "_________________________________________________________________\n",
            "dense (Dense)                (None, 101)               129381    \n",
            "_________________________________________________________________\n",
            "softmax_float32 (Activation) (None, 101)               0         \n",
            "=================================================================\n",
            "Total params: 4,178,952\n",
            "Trainable params: 129,381\n",
            "Non-trainable params: 4,049,571\n",
            "_________________________________________________________________\n"
          ],
          "name": "stdout"
        }
      ]
    },
    {
      "cell_type": "code",
      "metadata": {
        "colab": {
          "base_uri": "https://localhost:8080/"
        },
        "id": "Xj0opVwe_vY6",
        "outputId": "cc1024a7-f8f9-4879-a996-863651c832b6"
      },
      "source": [
        "for layer in model.layers:\n",
        "  print( layer.dtype,layer.dtype_policy, layer.trainable,layer.name)\n"
      ],
      "execution_count": null,
      "outputs": [
        {
          "output_type": "stream",
          "text": [
            "float32 <Policy \"float32\"> True Input_layer\n",
            "float32 <Policy \"mixed_float16\"> False efficientnetb0\n",
            "float32 <Policy \"mixed_float16\"> True GAP\n",
            "float32 <Policy \"mixed_float16\"> True dense\n",
            "float32 <Policy \"float32\"> True softmax_float32\n"
          ],
          "name": "stdout"
        }
      ]
    },
    {
      "cell_type": "markdown",
      "metadata": {
        "id": "-ToNbTfhBMfy"
      },
      "source": [
        "* dtype_policy je v jakem rezimu pocita sve vahy \n",
        "* dtype je v jakem formatu uklada vysledky"
      ]
    },
    {
      "cell_type": "code",
      "metadata": {
        "colab": {
          "base_uri": "https://localhost:8080/"
        },
        "id": "3-b5dXh6AF0X",
        "outputId": "da32c989-c629-46ca-df31-8fc83671b2d7"
      },
      "source": [
        "for layer in model.layers[1].layers:\n",
        "  print( layer.dtype,layer.dtype_policy, layer.trainable,layer.name)"
      ],
      "execution_count": null,
      "outputs": [
        {
          "output_type": "stream",
          "text": [
            "float32 <Policy \"float32\"> False input_1\n",
            "float32 <Policy \"mixed_float16\"> False rescaling\n",
            "float32 <Policy \"mixed_float16\"> False normalization\n",
            "float32 <Policy \"mixed_float16\"> False stem_conv_pad\n",
            "float32 <Policy \"mixed_float16\"> False stem_conv\n",
            "float32 <Policy \"mixed_float16\"> False stem_bn\n",
            "float32 <Policy \"mixed_float16\"> False stem_activation\n",
            "float32 <Policy \"mixed_float16\"> False block1a_dwconv\n",
            "float32 <Policy \"mixed_float16\"> False block1a_bn\n",
            "float32 <Policy \"mixed_float16\"> False block1a_activation\n",
            "float32 <Policy \"mixed_float16\"> False block1a_se_squeeze\n",
            "float32 <Policy \"mixed_float16\"> False block1a_se_reshape\n",
            "float32 <Policy \"mixed_float16\"> False block1a_se_reduce\n",
            "float32 <Policy \"mixed_float16\"> False block1a_se_expand\n",
            "float32 <Policy \"mixed_float16\"> False block1a_se_excite\n",
            "float32 <Policy \"mixed_float16\"> False block1a_project_conv\n",
            "float32 <Policy \"mixed_float16\"> False block1a_project_bn\n",
            "float32 <Policy \"mixed_float16\"> False block2a_expand_conv\n",
            "float32 <Policy \"mixed_float16\"> False block2a_expand_bn\n",
            "float32 <Policy \"mixed_float16\"> False block2a_expand_activation\n",
            "float32 <Policy \"mixed_float16\"> False block2a_dwconv_pad\n",
            "float32 <Policy \"mixed_float16\"> False block2a_dwconv\n",
            "float32 <Policy \"mixed_float16\"> False block2a_bn\n",
            "float32 <Policy \"mixed_float16\"> False block2a_activation\n",
            "float32 <Policy \"mixed_float16\"> False block2a_se_squeeze\n",
            "float32 <Policy \"mixed_float16\"> False block2a_se_reshape\n",
            "float32 <Policy \"mixed_float16\"> False block2a_se_reduce\n",
            "float32 <Policy \"mixed_float16\"> False block2a_se_expand\n",
            "float32 <Policy \"mixed_float16\"> False block2a_se_excite\n",
            "float32 <Policy \"mixed_float16\"> False block2a_project_conv\n",
            "float32 <Policy \"mixed_float16\"> False block2a_project_bn\n",
            "float32 <Policy \"mixed_float16\"> False block2b_expand_conv\n",
            "float32 <Policy \"mixed_float16\"> False block2b_expand_bn\n",
            "float32 <Policy \"mixed_float16\"> False block2b_expand_activation\n",
            "float32 <Policy \"mixed_float16\"> False block2b_dwconv\n",
            "float32 <Policy \"mixed_float16\"> False block2b_bn\n",
            "float32 <Policy \"mixed_float16\"> False block2b_activation\n",
            "float32 <Policy \"mixed_float16\"> False block2b_se_squeeze\n",
            "float32 <Policy \"mixed_float16\"> False block2b_se_reshape\n",
            "float32 <Policy \"mixed_float16\"> False block2b_se_reduce\n",
            "float32 <Policy \"mixed_float16\"> False block2b_se_expand\n",
            "float32 <Policy \"mixed_float16\"> False block2b_se_excite\n",
            "float32 <Policy \"mixed_float16\"> False block2b_project_conv\n",
            "float32 <Policy \"mixed_float16\"> False block2b_project_bn\n",
            "float32 <Policy \"mixed_float16\"> False block2b_drop\n",
            "float32 <Policy \"mixed_float16\"> False block2b_add\n",
            "float32 <Policy \"mixed_float16\"> False block3a_expand_conv\n",
            "float32 <Policy \"mixed_float16\"> False block3a_expand_bn\n",
            "float32 <Policy \"mixed_float16\"> False block3a_expand_activation\n",
            "float32 <Policy \"mixed_float16\"> False block3a_dwconv_pad\n",
            "float32 <Policy \"mixed_float16\"> False block3a_dwconv\n",
            "float32 <Policy \"mixed_float16\"> False block3a_bn\n",
            "float32 <Policy \"mixed_float16\"> False block3a_activation\n",
            "float32 <Policy \"mixed_float16\"> False block3a_se_squeeze\n",
            "float32 <Policy \"mixed_float16\"> False block3a_se_reshape\n",
            "float32 <Policy \"mixed_float16\"> False block3a_se_reduce\n",
            "float32 <Policy \"mixed_float16\"> False block3a_se_expand\n",
            "float32 <Policy \"mixed_float16\"> False block3a_se_excite\n",
            "float32 <Policy \"mixed_float16\"> False block3a_project_conv\n",
            "float32 <Policy \"mixed_float16\"> False block3a_project_bn\n",
            "float32 <Policy \"mixed_float16\"> False block3b_expand_conv\n",
            "float32 <Policy \"mixed_float16\"> False block3b_expand_bn\n",
            "float32 <Policy \"mixed_float16\"> False block3b_expand_activation\n",
            "float32 <Policy \"mixed_float16\"> False block3b_dwconv\n",
            "float32 <Policy \"mixed_float16\"> False block3b_bn\n",
            "float32 <Policy \"mixed_float16\"> False block3b_activation\n",
            "float32 <Policy \"mixed_float16\"> False block3b_se_squeeze\n",
            "float32 <Policy \"mixed_float16\"> False block3b_se_reshape\n",
            "float32 <Policy \"mixed_float16\"> False block3b_se_reduce\n",
            "float32 <Policy \"mixed_float16\"> False block3b_se_expand\n",
            "float32 <Policy \"mixed_float16\"> False block3b_se_excite\n",
            "float32 <Policy \"mixed_float16\"> False block3b_project_conv\n",
            "float32 <Policy \"mixed_float16\"> False block3b_project_bn\n",
            "float32 <Policy \"mixed_float16\"> False block3b_drop\n",
            "float32 <Policy \"mixed_float16\"> False block3b_add\n",
            "float32 <Policy \"mixed_float16\"> False block4a_expand_conv\n",
            "float32 <Policy \"mixed_float16\"> False block4a_expand_bn\n",
            "float32 <Policy \"mixed_float16\"> False block4a_expand_activation\n",
            "float32 <Policy \"mixed_float16\"> False block4a_dwconv_pad\n",
            "float32 <Policy \"mixed_float16\"> False block4a_dwconv\n",
            "float32 <Policy \"mixed_float16\"> False block4a_bn\n",
            "float32 <Policy \"mixed_float16\"> False block4a_activation\n",
            "float32 <Policy \"mixed_float16\"> False block4a_se_squeeze\n",
            "float32 <Policy \"mixed_float16\"> False block4a_se_reshape\n",
            "float32 <Policy \"mixed_float16\"> False block4a_se_reduce\n",
            "float32 <Policy \"mixed_float16\"> False block4a_se_expand\n",
            "float32 <Policy \"mixed_float16\"> False block4a_se_excite\n",
            "float32 <Policy \"mixed_float16\"> False block4a_project_conv\n",
            "float32 <Policy \"mixed_float16\"> False block4a_project_bn\n",
            "float32 <Policy \"mixed_float16\"> False block4b_expand_conv\n",
            "float32 <Policy \"mixed_float16\"> False block4b_expand_bn\n",
            "float32 <Policy \"mixed_float16\"> False block4b_expand_activation\n",
            "float32 <Policy \"mixed_float16\"> False block4b_dwconv\n",
            "float32 <Policy \"mixed_float16\"> False block4b_bn\n",
            "float32 <Policy \"mixed_float16\"> False block4b_activation\n",
            "float32 <Policy \"mixed_float16\"> False block4b_se_squeeze\n",
            "float32 <Policy \"mixed_float16\"> False block4b_se_reshape\n",
            "float32 <Policy \"mixed_float16\"> False block4b_se_reduce\n",
            "float32 <Policy \"mixed_float16\"> False block4b_se_expand\n",
            "float32 <Policy \"mixed_float16\"> False block4b_se_excite\n",
            "float32 <Policy \"mixed_float16\"> False block4b_project_conv\n",
            "float32 <Policy \"mixed_float16\"> False block4b_project_bn\n",
            "float32 <Policy \"mixed_float16\"> False block4b_drop\n",
            "float32 <Policy \"mixed_float16\"> False block4b_add\n",
            "float32 <Policy \"mixed_float16\"> False block4c_expand_conv\n",
            "float32 <Policy \"mixed_float16\"> False block4c_expand_bn\n",
            "float32 <Policy \"mixed_float16\"> False block4c_expand_activation\n",
            "float32 <Policy \"mixed_float16\"> False block4c_dwconv\n",
            "float32 <Policy \"mixed_float16\"> False block4c_bn\n",
            "float32 <Policy \"mixed_float16\"> False block4c_activation\n",
            "float32 <Policy \"mixed_float16\"> False block4c_se_squeeze\n",
            "float32 <Policy \"mixed_float16\"> False block4c_se_reshape\n",
            "float32 <Policy \"mixed_float16\"> False block4c_se_reduce\n",
            "float32 <Policy \"mixed_float16\"> False block4c_se_expand\n",
            "float32 <Policy \"mixed_float16\"> False block4c_se_excite\n",
            "float32 <Policy \"mixed_float16\"> False block4c_project_conv\n",
            "float32 <Policy \"mixed_float16\"> False block4c_project_bn\n",
            "float32 <Policy \"mixed_float16\"> False block4c_drop\n",
            "float32 <Policy \"mixed_float16\"> False block4c_add\n",
            "float32 <Policy \"mixed_float16\"> False block5a_expand_conv\n",
            "float32 <Policy \"mixed_float16\"> False block5a_expand_bn\n",
            "float32 <Policy \"mixed_float16\"> False block5a_expand_activation\n",
            "float32 <Policy \"mixed_float16\"> False block5a_dwconv\n",
            "float32 <Policy \"mixed_float16\"> False block5a_bn\n",
            "float32 <Policy \"mixed_float16\"> False block5a_activation\n",
            "float32 <Policy \"mixed_float16\"> False block5a_se_squeeze\n",
            "float32 <Policy \"mixed_float16\"> False block5a_se_reshape\n",
            "float32 <Policy \"mixed_float16\"> False block5a_se_reduce\n",
            "float32 <Policy \"mixed_float16\"> False block5a_se_expand\n",
            "float32 <Policy \"mixed_float16\"> False block5a_se_excite\n",
            "float32 <Policy \"mixed_float16\"> False block5a_project_conv\n",
            "float32 <Policy \"mixed_float16\"> False block5a_project_bn\n",
            "float32 <Policy \"mixed_float16\"> False block5b_expand_conv\n",
            "float32 <Policy \"mixed_float16\"> False block5b_expand_bn\n",
            "float32 <Policy \"mixed_float16\"> False block5b_expand_activation\n",
            "float32 <Policy \"mixed_float16\"> False block5b_dwconv\n",
            "float32 <Policy \"mixed_float16\"> False block5b_bn\n",
            "float32 <Policy \"mixed_float16\"> False block5b_activation\n",
            "float32 <Policy \"mixed_float16\"> False block5b_se_squeeze\n",
            "float32 <Policy \"mixed_float16\"> False block5b_se_reshape\n",
            "float32 <Policy \"mixed_float16\"> False block5b_se_reduce\n",
            "float32 <Policy \"mixed_float16\"> False block5b_se_expand\n",
            "float32 <Policy \"mixed_float16\"> False block5b_se_excite\n",
            "float32 <Policy \"mixed_float16\"> False block5b_project_conv\n",
            "float32 <Policy \"mixed_float16\"> False block5b_project_bn\n",
            "float32 <Policy \"mixed_float16\"> False block5b_drop\n",
            "float32 <Policy \"mixed_float16\"> False block5b_add\n",
            "float32 <Policy \"mixed_float16\"> False block5c_expand_conv\n",
            "float32 <Policy \"mixed_float16\"> False block5c_expand_bn\n",
            "float32 <Policy \"mixed_float16\"> False block5c_expand_activation\n",
            "float32 <Policy \"mixed_float16\"> False block5c_dwconv\n",
            "float32 <Policy \"mixed_float16\"> False block5c_bn\n",
            "float32 <Policy \"mixed_float16\"> False block5c_activation\n",
            "float32 <Policy \"mixed_float16\"> False block5c_se_squeeze\n",
            "float32 <Policy \"mixed_float16\"> False block5c_se_reshape\n",
            "float32 <Policy \"mixed_float16\"> False block5c_se_reduce\n",
            "float32 <Policy \"mixed_float16\"> False block5c_se_expand\n",
            "float32 <Policy \"mixed_float16\"> False block5c_se_excite\n",
            "float32 <Policy \"mixed_float16\"> False block5c_project_conv\n",
            "float32 <Policy \"mixed_float16\"> False block5c_project_bn\n",
            "float32 <Policy \"mixed_float16\"> False block5c_drop\n",
            "float32 <Policy \"mixed_float16\"> False block5c_add\n",
            "float32 <Policy \"mixed_float16\"> False block6a_expand_conv\n",
            "float32 <Policy \"mixed_float16\"> False block6a_expand_bn\n",
            "float32 <Policy \"mixed_float16\"> False block6a_expand_activation\n",
            "float32 <Policy \"mixed_float16\"> False block6a_dwconv_pad\n",
            "float32 <Policy \"mixed_float16\"> False block6a_dwconv\n",
            "float32 <Policy \"mixed_float16\"> False block6a_bn\n",
            "float32 <Policy \"mixed_float16\"> False block6a_activation\n",
            "float32 <Policy \"mixed_float16\"> False block6a_se_squeeze\n",
            "float32 <Policy \"mixed_float16\"> False block6a_se_reshape\n",
            "float32 <Policy \"mixed_float16\"> False block6a_se_reduce\n",
            "float32 <Policy \"mixed_float16\"> False block6a_se_expand\n",
            "float32 <Policy \"mixed_float16\"> False block6a_se_excite\n",
            "float32 <Policy \"mixed_float16\"> False block6a_project_conv\n",
            "float32 <Policy \"mixed_float16\"> False block6a_project_bn\n",
            "float32 <Policy \"mixed_float16\"> False block6b_expand_conv\n",
            "float32 <Policy \"mixed_float16\"> False block6b_expand_bn\n",
            "float32 <Policy \"mixed_float16\"> False block6b_expand_activation\n",
            "float32 <Policy \"mixed_float16\"> False block6b_dwconv\n",
            "float32 <Policy \"mixed_float16\"> False block6b_bn\n",
            "float32 <Policy \"mixed_float16\"> False block6b_activation\n",
            "float32 <Policy \"mixed_float16\"> False block6b_se_squeeze\n",
            "float32 <Policy \"mixed_float16\"> False block6b_se_reshape\n",
            "float32 <Policy \"mixed_float16\"> False block6b_se_reduce\n",
            "float32 <Policy \"mixed_float16\"> False block6b_se_expand\n",
            "float32 <Policy \"mixed_float16\"> False block6b_se_excite\n",
            "float32 <Policy \"mixed_float16\"> False block6b_project_conv\n",
            "float32 <Policy \"mixed_float16\"> False block6b_project_bn\n",
            "float32 <Policy \"mixed_float16\"> False block6b_drop\n",
            "float32 <Policy \"mixed_float16\"> False block6b_add\n",
            "float32 <Policy \"mixed_float16\"> False block6c_expand_conv\n",
            "float32 <Policy \"mixed_float16\"> False block6c_expand_bn\n",
            "float32 <Policy \"mixed_float16\"> False block6c_expand_activation\n",
            "float32 <Policy \"mixed_float16\"> False block6c_dwconv\n",
            "float32 <Policy \"mixed_float16\"> False block6c_bn\n",
            "float32 <Policy \"mixed_float16\"> False block6c_activation\n",
            "float32 <Policy \"mixed_float16\"> False block6c_se_squeeze\n",
            "float32 <Policy \"mixed_float16\"> False block6c_se_reshape\n",
            "float32 <Policy \"mixed_float16\"> False block6c_se_reduce\n",
            "float32 <Policy \"mixed_float16\"> False block6c_se_expand\n",
            "float32 <Policy \"mixed_float16\"> False block6c_se_excite\n",
            "float32 <Policy \"mixed_float16\"> False block6c_project_conv\n",
            "float32 <Policy \"mixed_float16\"> False block6c_project_bn\n",
            "float32 <Policy \"mixed_float16\"> False block6c_drop\n",
            "float32 <Policy \"mixed_float16\"> False block6c_add\n",
            "float32 <Policy \"mixed_float16\"> False block6d_expand_conv\n",
            "float32 <Policy \"mixed_float16\"> False block6d_expand_bn\n",
            "float32 <Policy \"mixed_float16\"> False block6d_expand_activation\n",
            "float32 <Policy \"mixed_float16\"> False block6d_dwconv\n",
            "float32 <Policy \"mixed_float16\"> False block6d_bn\n",
            "float32 <Policy \"mixed_float16\"> False block6d_activation\n",
            "float32 <Policy \"mixed_float16\"> False block6d_se_squeeze\n",
            "float32 <Policy \"mixed_float16\"> False block6d_se_reshape\n",
            "float32 <Policy \"mixed_float16\"> False block6d_se_reduce\n",
            "float32 <Policy \"mixed_float16\"> False block6d_se_expand\n",
            "float32 <Policy \"mixed_float16\"> False block6d_se_excite\n",
            "float32 <Policy \"mixed_float16\"> False block6d_project_conv\n",
            "float32 <Policy \"mixed_float16\"> False block6d_project_bn\n",
            "float32 <Policy \"mixed_float16\"> False block6d_drop\n",
            "float32 <Policy \"mixed_float16\"> False block6d_add\n",
            "float32 <Policy \"mixed_float16\"> False block7a_expand_conv\n",
            "float32 <Policy \"mixed_float16\"> False block7a_expand_bn\n",
            "float32 <Policy \"mixed_float16\"> False block7a_expand_activation\n",
            "float32 <Policy \"mixed_float16\"> False block7a_dwconv\n",
            "float32 <Policy \"mixed_float16\"> False block7a_bn\n",
            "float32 <Policy \"mixed_float16\"> False block7a_activation\n",
            "float32 <Policy \"mixed_float16\"> False block7a_se_squeeze\n",
            "float32 <Policy \"mixed_float16\"> False block7a_se_reshape\n",
            "float32 <Policy \"mixed_float16\"> False block7a_se_reduce\n",
            "float32 <Policy \"mixed_float16\"> False block7a_se_expand\n",
            "float32 <Policy \"mixed_float16\"> False block7a_se_excite\n",
            "float32 <Policy \"mixed_float16\"> False block7a_project_conv\n",
            "float32 <Policy \"mixed_float16\"> False block7a_project_bn\n",
            "float32 <Policy \"mixed_float16\"> False top_conv\n",
            "float32 <Policy \"mixed_float16\"> False top_bn\n",
            "float32 <Policy \"mixed_float16\"> False top_activation\n"
          ],
          "name": "stdout"
        }
      ]
    },
    {
      "cell_type": "code",
      "metadata": {
        "colab": {
          "base_uri": "https://localhost:8080/"
        },
        "id": "p53M9mV8CTm8",
        "outputId": "4832f9ad-e107-4216-dec6-480ae9bd931e"
      },
      "source": [
        "experiment_name = \"experiment02_epochs_3\"\n",
        "history_model_1 = model.fit(train_data,\n",
        "                            epochs = 3,\n",
        "                            steps_per_epoch = len(train_data),\n",
        "                            validation_data = test_data,\n",
        "                            validation_steps = int(0.15*len(test_data),\n",
        "                            callbacks = [hf.create_tensorboard_callback(tb_callback_folder,experiment_name),cp_callback])"
      ],
      "execution_count": null,
      "outputs": [
        {
          "output_type": "stream",
          "text": [
            "Saving TensorBoard log files to: /content/Tensorboard/experiment02_epochs_3/20210824-145824\n",
            "Epoch 1/3\n"
          ],
          "name": "stdout"
        },
        {
          "output_type": "stream",
          "text": [
            "/usr/local/lib/python3.7/dist-packages/keras/utils/generic_utils.py:497: CustomMaskWarning: Custom mask layers require a config and must override get_config. When loading, the custom mask layer must be passed to the custom_objects argument.\n",
            "  category=CustomMaskWarning)\n"
          ],
          "name": "stderr"
        },
        {
          "output_type": "stream",
          "text": [
            "2368/2368 [==============================] - 255s 93ms/step - loss: 1.8234 - accuracy: 0.5573 - val_loss: 1.2341 - val_accuracy: 0.6747\n",
            "Epoch 2/3\n",
            "2368/2368 [==============================] - 212s 89ms/step - loss: 1.2940 - accuracy: 0.6656 - val_loss: 1.1252 - val_accuracy: 0.7003\n",
            "Epoch 3/3\n",
            "2368/2368 [==============================] - 239s 100ms/step - loss: 1.1424 - accuracy: 0.7019 - val_loss: 1.0850 - val_accuracy: 0.7083\n"
          ],
          "name": "stdout"
        }
      ]
    },
    {
      "cell_type": "code",
      "metadata": {
        "colab": {
          "base_uri": "https://localhost:8080/"
        },
        "id": "y7qH8SMEFqDX",
        "outputId": "7fcfe7b4-e386-4863-ff5d-470ce5f2d42c"
      },
      "source": [
        "results_of_FE_model = model.evaluate(test_data)"
      ],
      "execution_count": null,
      "outputs": [
        {
          "output_type": "stream",
          "text": [
            "790/790 [==============================] - 46s 58ms/step - loss: 1.0850 - accuracy: 0.7083\n"
          ],
          "name": "stdout"
        }
      ]
    },
    {
      "cell_type": "code",
      "metadata": {
        "id": "RQIZdsyxH5-V"
      },
      "source": [
        "backbone.trainable = True"
      ],
      "execution_count": null,
      "outputs": []
    },
    {
      "cell_type": "code",
      "metadata": {
        "colab": {
          "base_uri": "https://localhost:8080/"
        },
        "id": "Nif2EvzZH_eM",
        "outputId": "b00f3cc0-6164-4bd6-ef9c-7dfd3507ddd0"
      },
      "source": [
        "len(model.layers[1].layers)"
      ],
      "execution_count": null,
      "outputs": [
        {
          "output_type": "execute_result",
          "data": {
            "text/plain": [
              "237"
            ]
          },
          "metadata": {},
          "execution_count": 44
        }
      ]
    },
    {
      "cell_type": "code",
      "metadata": {
        "id": "X0HkHbcFIHv3"
      },
      "source": [
        "for layer in model.layers[1].layers[:-37]:\n",
        "  layer.trainable = False"
      ],
      "execution_count": null,
      "outputs": []
    },
    {
      "cell_type": "code",
      "metadata": {
        "colab": {
          "base_uri": "https://localhost:8080/"
        },
        "id": "7ywOhEeCISwz",
        "outputId": "0788a570-62de-41ae-fda8-836aac4892df"
      },
      "source": [
        "for i,layer in enumerate(model.layers[1].layers):\n",
        "  print(i,layer.name,layer.trainable)"
      ],
      "execution_count": null,
      "outputs": [
        {
          "output_type": "stream",
          "text": [
            "0 input_1 False\n",
            "1 rescaling False\n",
            "2 normalization False\n",
            "3 stem_conv_pad False\n",
            "4 stem_conv False\n",
            "5 stem_bn False\n",
            "6 stem_activation False\n",
            "7 block1a_dwconv False\n",
            "8 block1a_bn False\n",
            "9 block1a_activation False\n",
            "10 block1a_se_squeeze False\n",
            "11 block1a_se_reshape False\n",
            "12 block1a_se_reduce False\n",
            "13 block1a_se_expand False\n",
            "14 block1a_se_excite False\n",
            "15 block1a_project_conv False\n",
            "16 block1a_project_bn False\n",
            "17 block2a_expand_conv False\n",
            "18 block2a_expand_bn False\n",
            "19 block2a_expand_activation False\n",
            "20 block2a_dwconv_pad False\n",
            "21 block2a_dwconv False\n",
            "22 block2a_bn False\n",
            "23 block2a_activation False\n",
            "24 block2a_se_squeeze False\n",
            "25 block2a_se_reshape False\n",
            "26 block2a_se_reduce False\n",
            "27 block2a_se_expand False\n",
            "28 block2a_se_excite False\n",
            "29 block2a_project_conv False\n",
            "30 block2a_project_bn False\n",
            "31 block2b_expand_conv False\n",
            "32 block2b_expand_bn False\n",
            "33 block2b_expand_activation False\n",
            "34 block2b_dwconv False\n",
            "35 block2b_bn False\n",
            "36 block2b_activation False\n",
            "37 block2b_se_squeeze False\n",
            "38 block2b_se_reshape False\n",
            "39 block2b_se_reduce False\n",
            "40 block2b_se_expand False\n",
            "41 block2b_se_excite False\n",
            "42 block2b_project_conv False\n",
            "43 block2b_project_bn False\n",
            "44 block2b_drop False\n",
            "45 block2b_add False\n",
            "46 block3a_expand_conv False\n",
            "47 block3a_expand_bn False\n",
            "48 block3a_expand_activation False\n",
            "49 block3a_dwconv_pad False\n",
            "50 block3a_dwconv False\n",
            "51 block3a_bn False\n",
            "52 block3a_activation False\n",
            "53 block3a_se_squeeze False\n",
            "54 block3a_se_reshape False\n",
            "55 block3a_se_reduce False\n",
            "56 block3a_se_expand False\n",
            "57 block3a_se_excite False\n",
            "58 block3a_project_conv False\n",
            "59 block3a_project_bn False\n",
            "60 block3b_expand_conv False\n",
            "61 block3b_expand_bn False\n",
            "62 block3b_expand_activation False\n",
            "63 block3b_dwconv False\n",
            "64 block3b_bn False\n",
            "65 block3b_activation False\n",
            "66 block3b_se_squeeze False\n",
            "67 block3b_se_reshape False\n",
            "68 block3b_se_reduce False\n",
            "69 block3b_se_expand False\n",
            "70 block3b_se_excite False\n",
            "71 block3b_project_conv False\n",
            "72 block3b_project_bn False\n",
            "73 block3b_drop False\n",
            "74 block3b_add False\n",
            "75 block4a_expand_conv False\n",
            "76 block4a_expand_bn False\n",
            "77 block4a_expand_activation False\n",
            "78 block4a_dwconv_pad False\n",
            "79 block4a_dwconv False\n",
            "80 block4a_bn False\n",
            "81 block4a_activation False\n",
            "82 block4a_se_squeeze False\n",
            "83 block4a_se_reshape False\n",
            "84 block4a_se_reduce False\n",
            "85 block4a_se_expand False\n",
            "86 block4a_se_excite False\n",
            "87 block4a_project_conv False\n",
            "88 block4a_project_bn False\n",
            "89 block4b_expand_conv False\n",
            "90 block4b_expand_bn False\n",
            "91 block4b_expand_activation False\n",
            "92 block4b_dwconv False\n",
            "93 block4b_bn False\n",
            "94 block4b_activation False\n",
            "95 block4b_se_squeeze False\n",
            "96 block4b_se_reshape False\n",
            "97 block4b_se_reduce False\n",
            "98 block4b_se_expand False\n",
            "99 block4b_se_excite False\n",
            "100 block4b_project_conv False\n",
            "101 block4b_project_bn False\n",
            "102 block4b_drop False\n",
            "103 block4b_add False\n",
            "104 block4c_expand_conv False\n",
            "105 block4c_expand_bn False\n",
            "106 block4c_expand_activation False\n",
            "107 block4c_dwconv False\n",
            "108 block4c_bn False\n",
            "109 block4c_activation False\n",
            "110 block4c_se_squeeze False\n",
            "111 block4c_se_reshape False\n",
            "112 block4c_se_reduce False\n",
            "113 block4c_se_expand False\n",
            "114 block4c_se_excite False\n",
            "115 block4c_project_conv False\n",
            "116 block4c_project_bn False\n",
            "117 block4c_drop False\n",
            "118 block4c_add False\n",
            "119 block5a_expand_conv False\n",
            "120 block5a_expand_bn False\n",
            "121 block5a_expand_activation False\n",
            "122 block5a_dwconv False\n",
            "123 block5a_bn False\n",
            "124 block5a_activation False\n",
            "125 block5a_se_squeeze False\n",
            "126 block5a_se_reshape False\n",
            "127 block5a_se_reduce False\n",
            "128 block5a_se_expand False\n",
            "129 block5a_se_excite False\n",
            "130 block5a_project_conv False\n",
            "131 block5a_project_bn False\n",
            "132 block5b_expand_conv False\n",
            "133 block5b_expand_bn False\n",
            "134 block5b_expand_activation False\n",
            "135 block5b_dwconv False\n",
            "136 block5b_bn False\n",
            "137 block5b_activation False\n",
            "138 block5b_se_squeeze False\n",
            "139 block5b_se_reshape False\n",
            "140 block5b_se_reduce False\n",
            "141 block5b_se_expand False\n",
            "142 block5b_se_excite False\n",
            "143 block5b_project_conv False\n",
            "144 block5b_project_bn False\n",
            "145 block5b_drop False\n",
            "146 block5b_add False\n",
            "147 block5c_expand_conv False\n",
            "148 block5c_expand_bn False\n",
            "149 block5c_expand_activation False\n",
            "150 block5c_dwconv False\n",
            "151 block5c_bn False\n",
            "152 block5c_activation False\n",
            "153 block5c_se_squeeze False\n",
            "154 block5c_se_reshape False\n",
            "155 block5c_se_reduce False\n",
            "156 block5c_se_expand False\n",
            "157 block5c_se_excite False\n",
            "158 block5c_project_conv False\n",
            "159 block5c_project_bn False\n",
            "160 block5c_drop False\n",
            "161 block5c_add False\n",
            "162 block6a_expand_conv False\n",
            "163 block6a_expand_bn False\n",
            "164 block6a_expand_activation False\n",
            "165 block6a_dwconv_pad False\n",
            "166 block6a_dwconv False\n",
            "167 block6a_bn False\n",
            "168 block6a_activation False\n",
            "169 block6a_se_squeeze False\n",
            "170 block6a_se_reshape False\n",
            "171 block6a_se_reduce False\n",
            "172 block6a_se_expand False\n",
            "173 block6a_se_excite False\n",
            "174 block6a_project_conv False\n",
            "175 block6a_project_bn False\n",
            "176 block6b_expand_conv False\n",
            "177 block6b_expand_bn False\n",
            "178 block6b_expand_activation False\n",
            "179 block6b_dwconv False\n",
            "180 block6b_bn False\n",
            "181 block6b_activation False\n",
            "182 block6b_se_squeeze False\n",
            "183 block6b_se_reshape False\n",
            "184 block6b_se_reduce False\n",
            "185 block6b_se_expand False\n",
            "186 block6b_se_excite False\n",
            "187 block6b_project_conv False\n",
            "188 block6b_project_bn False\n",
            "189 block6b_drop False\n",
            "190 block6b_add False\n",
            "191 block6c_expand_conv False\n",
            "192 block6c_expand_bn False\n",
            "193 block6c_expand_activation False\n",
            "194 block6c_dwconv False\n",
            "195 block6c_bn False\n",
            "196 block6c_activation False\n",
            "197 block6c_se_squeeze False\n",
            "198 block6c_se_reshape False\n",
            "199 block6c_se_reduce False\n",
            "200 block6c_se_expand True\n",
            "201 block6c_se_excite True\n",
            "202 block6c_project_conv True\n",
            "203 block6c_project_bn True\n",
            "204 block6c_drop True\n",
            "205 block6c_add True\n",
            "206 block6d_expand_conv True\n",
            "207 block6d_expand_bn True\n",
            "208 block6d_expand_activation True\n",
            "209 block6d_dwconv True\n",
            "210 block6d_bn True\n",
            "211 block6d_activation True\n",
            "212 block6d_se_squeeze True\n",
            "213 block6d_se_reshape True\n",
            "214 block6d_se_reduce True\n",
            "215 block6d_se_expand True\n",
            "216 block6d_se_excite True\n",
            "217 block6d_project_conv True\n",
            "218 block6d_project_bn True\n",
            "219 block6d_drop True\n",
            "220 block6d_add True\n",
            "221 block7a_expand_conv True\n",
            "222 block7a_expand_bn True\n",
            "223 block7a_expand_activation True\n",
            "224 block7a_dwconv True\n",
            "225 block7a_bn True\n",
            "226 block7a_activation True\n",
            "227 block7a_se_squeeze True\n",
            "228 block7a_se_reshape True\n",
            "229 block7a_se_reduce True\n",
            "230 block7a_se_expand True\n",
            "231 block7a_se_excite True\n",
            "232 block7a_project_conv True\n",
            "233 block7a_project_bn True\n",
            "234 top_conv True\n",
            "235 top_bn True\n",
            "236 top_activation True\n"
          ],
          "name": "stdout"
        }
      ]
    },
    {
      "cell_type": "code",
      "metadata": {
        "id": "8IOms2uQIg5i"
      },
      "source": [
        "model.compile(optimizer=tf.keras.optimizers.Adam(0.0001),\n",
        "              loss = tf.keras.losses.sparse_categorical_crossentropy,\n",
        "              metrics = [\"accuracy\"])"
      ],
      "execution_count": null,
      "outputs": []
    },
    {
      "cell_type": "code",
      "metadata": {
        "colab": {
          "base_uri": "https://localhost:8080/"
        },
        "id": "KsWZyQYgKvOH",
        "outputId": "47ac0ba9-7397-4559-a859-06704d8c3c31"
      },
      "source": [
        "history_model_1.epoch[-3]"
      ],
      "execution_count": null,
      "outputs": [
        {
          "output_type": "execute_result",
          "data": {
            "text/plain": [
              "0"
            ]
          },
          "metadata": {},
          "execution_count": 48
        }
      ]
    },
    {
      "cell_type": "code",
      "metadata": {
        "colab": {
          "base_uri": "https://localhost:8080/"
        },
        "id": "zCy2Yj0LItHs",
        "outputId": "ef1ad8a0-d4c5-4bf7-fdcf-23787f4c00be"
      },
      "source": [
        "experiment_name = \"experiment03_finetune_37layers\"\n",
        "earlyStopCB = tf.keras.callbacks.EarlyStopping(patience=3)\n",
        "history_model_1_finetune_37 = model.fit(train_data,\n",
        "                                        initial_epoch =history_model_1.epoch[-1],\n",
        "                                        epochs = 100,\n",
        "                                        steps_per_epoch = len(train_data),\n",
        "                                        validation_data = test_data,\n",
        "                                        validation_steps = int(0.15*len(test_data)),\n",
        "                                        callbacks = [hf.create_tensorboard_callback(tb_callback_folder,experiment_name),earlyStopCB])"
      ],
      "execution_count": null,
      "outputs": [
        {
          "output_type": "stream",
          "text": [
            "Saving TensorBoard log files to: /content/Tensorboard/experiment03_finetune_37layers/20210824-151145\n",
            "Epoch 3/100\n"
          ],
          "name": "stdout"
        },
        {
          "output_type": "stream",
          "text": [
            "/usr/local/lib/python3.7/dist-packages/keras/utils/generic_utils.py:497: CustomMaskWarning: Custom mask layers require a config and must override get_config. When loading, the custom mask layer must be passed to the custom_objects argument.\n",
            "  category=CustomMaskWarning)\n"
          ],
          "name": "stderr"
        },
        {
          "output_type": "stream",
          "text": [
            "2368/2368 [==============================] - 178s 71ms/step - loss: 0.9303 - accuracy: 0.7524 - val_loss: 0.9332 - val_accuracy: 0.7468\n",
            "Epoch 4/100\n",
            "2368/2368 [==============================] - 167s 70ms/step - loss: 0.6844 - accuracy: 0.8162 - val_loss: 0.9240 - val_accuracy: 0.7524\n",
            "Epoch 5/100\n",
            "2368/2368 [==============================] - 166s 69ms/step - loss: 0.4781 - accuracy: 0.8716 - val_loss: 0.9895 - val_accuracy: 0.7405\n",
            "Epoch 6/100\n",
            "2368/2368 [==============================] - 169s 71ms/step - loss: 0.3030 - accuracy: 0.9200 - val_loss: 1.0776 - val_accuracy: 0.7386\n",
            "Epoch 7/100\n",
            "2368/2368 [==============================] - 170s 71ms/step - loss: 0.1725 - accuracy: 0.9554 - val_loss: 1.2271 - val_accuracy: 0.7336\n"
          ],
          "name": "stdout"
        }
      ]
    },
    {
      "cell_type": "code",
      "metadata": {
        "id": "03Zri6q1Qjad"
      },
      "source": [
        "backbone.trainable = True"
      ],
      "execution_count": null,
      "outputs": []
    },
    {
      "cell_type": "code",
      "metadata": {
        "colab": {
          "base_uri": "https://localhost:8080/"
        },
        "id": "nUjerTvCQpIG",
        "outputId": "d711ed11-0dde-492a-a4b6-c2a26951cc60"
      },
      "source": [
        "model.load_weights(\"/content/Checkpoints/cp\")"
      ],
      "execution_count": null,
      "outputs": [
        {
          "output_type": "execute_result",
          "data": {
            "text/plain": [
              "<tensorflow.python.training.tracking.util.CheckpointLoadStatus at 0x7fa9bfee4650>"
            ]
          },
          "metadata": {},
          "execution_count": 51
        }
      ]
    },
    {
      "cell_type": "code",
      "metadata": {
        "colab": {
          "base_uri": "https://localhost:8080/"
        },
        "id": "udBB0Uf7SHiF",
        "outputId": "06ed1d73-488d-48ad-e1f3-9d323f129f22"
      },
      "source": [
        "model.evaluate(test_data)"
      ],
      "execution_count": null,
      "outputs": [
        {
          "output_type": "stream",
          "text": [
            "790/790 [==============================] - 46s 59ms/step - loss: 1.0850 - accuracy: 0.7083\n"
          ],
          "name": "stdout"
        },
        {
          "output_type": "execute_result",
          "data": {
            "text/plain": [
              "[1.085004210472107, 0.7082772254943848]"
            ]
          },
          "metadata": {},
          "execution_count": 52
        }
      ]
    },
    {
      "cell_type": "code",
      "metadata": {
        "colab": {
          "base_uri": "https://localhost:8080/",
          "height": 513
        },
        "id": "VZlIVSfFRAk9",
        "outputId": "ac064192-a0e5-4efc-8bc5-ef1b7d494e26"
      },
      "source": [
        "hf.compare_historys(history_model_1,history_model_1_finetune_37,initial_epochs=3)"
      ],
      "execution_count": null,
      "outputs": [
        {
          "output_type": "display_data",
          "data": {
            "image/png": "[encoded data removed]",
            "text/plain": [
              "<Figure size 576x576 with 2 Axes>"
            ]
          },
          "metadata": {
            "needs_background": "light"
          }
        }
      ]
    },
    {
      "cell_type": "code",
      "metadata": {
        "id": "ol4o2l8QQmM6"
      },
      "source": [
        "model.compile(optimizer=tf.keras.optimizers.Adam(0.0001),\n",
        "              loss = tf.keras.losses.sparse_categorical_crossentropy,\n",
        "              metrics = [\"accuracy\"])"
      ],
      "execution_count": null,
      "outputs": []
    },
    {
      "cell_type": "code",
      "metadata": {
        "colab": {
          "base_uri": "https://localhost:8080/"
        },
        "id": "GNTidLvjSW8e",
        "outputId": "4cafe788-85e9-4d91-dd5d-1e1f716707ba"
      },
      "source": [
        "experiment_name = \"experiment04_finetune_AllLayers\"\n",
        "earlyStopCB = tf.keras.callbacks.EarlyStopping(patience=3)\n",
        "history_model_1_finetune_37 = model.fit(train_data,\n",
        "                                        initial_epoch =history_model_1.epoch[-1],\n",
        "                                        epochs = 100,\n",
        "                                        steps_per_epoch = len(train_data),\n",
        "                                        validation_data = test_data,\n",
        "                                        validation_steps = int(0.15*len(test_data)),\n",
        "                                        callbacks = [hf.create_tensorboard_callback(tb_callback_folder,experiment_name),\n",
        "                                                     earlyStopCB,\n",
        "                                                     tf.keras.callbacks.ModelCheckpoint(\"/content/Checkpoints/Finetune/cp\",save_best_only=True,save_weights_only=True)])"
      ],
      "execution_count": null,
      "outputs": [
        {
          "output_type": "stream",
          "text": [
            "Saving TensorBoard log files to: /content/Tensorboard/experiment04_finetune_AllLayers/20210824-152829\n",
            "Epoch 3/100\n"
          ],
          "name": "stdout"
        },
        {
          "output_type": "stream",
          "text": [
            "/usr/local/lib/python3.7/dist-packages/keras/utils/generic_utils.py:497: CustomMaskWarning: Custom mask layers require a config and must override get_config. When loading, the custom mask layer must be passed to the custom_objects argument.\n",
            "  category=CustomMaskWarning)\n"
          ],
          "name": "stderr"
        },
        {
          "output_type": "stream",
          "text": [
            "2368/2368 [==============================] - 333s 135ms/step - loss: 0.9221 - accuracy: 0.7523 - val_loss: 0.8117 - val_accuracy: 0.7722\n",
            "Epoch 4/100\n",
            "2368/2368 [==============================] - 316s 133ms/step - loss: 0.5801 - accuracy: 0.8390 - val_loss: 0.7787 - val_accuracy: 0.7865\n",
            "Epoch 5/100\n",
            "2368/2368 [==============================] - 319s 134ms/step - loss: 0.3286 - accuracy: 0.9070 - val_loss: 0.8534 - val_accuracy: 0.7879\n",
            "Epoch 6/100\n",
            "2368/2368 [==============================] - 319s 134ms/step - loss: 0.1754 - accuracy: 0.9487 - val_loss: 1.0222 - val_accuracy: 0.7775\n",
            "Epoch 7/100\n",
            "2368/2368 [==============================] - 317s 133ms/step - loss: 0.1083 - accuracy: 0.9659 - val_loss: 1.0624 - val_accuracy: 0.7810\n"
          ],
          "name": "stdout"
        }
      ]
    },
    {
      "cell_type": "code",
      "metadata": {
        "colab": {
          "base_uri": "https://localhost:8080/"
        },
        "id": "5zTcRAAPZgbY",
        "outputId": "074166e0-0609-4d99-88a2-7569862133b6"
      },
      "source": [
        "model.load_weights(\"/content/Checkpoints/Finetune/cp\")"
      ],
      "execution_count": null,
      "outputs": [
        {
          "output_type": "execute_result",
          "data": {
            "text/plain": [
              "<tensorflow.python.training.tracking.util.CheckpointLoadStatus at 0x7faa30096150>"
            ]
          },
          "metadata": {},
          "execution_count": 56
        }
      ]
    },
    {
      "cell_type": "code",
      "metadata": {
        "colab": {
          "base_uri": "https://localhost:8080/"
        },
        "id": "zYbbqUm0Zn_U",
        "outputId": "8898dca4-6d6d-4f65-97f7-646031a7e391"
      },
      "source": [
        "model.evaluate(test_data)"
      ],
      "execution_count": null,
      "outputs": [
        {
          "output_type": "stream",
          "text": [
            "790/790 [==============================] - 47s 59ms/step - loss: 0.7769 - accuracy: 0.7869\n"
          ],
          "name": "stdout"
        },
        {
          "output_type": "execute_result",
          "data": {
            "text/plain": [
              "[0.7768688797950745, 0.7869306802749634]"
            ]
          },
          "metadata": {},
          "execution_count": 57
        }
      ]
    },
    {
      "cell_type": "code",
      "metadata": {
        "id": "lj3F-DZ2b4dx"
      },
      "source": [
        "preds = model.predict(test_data)\n"
      ],
      "execution_count": null,
      "outputs": []
    },
    {
      "cell_type": "code",
      "metadata": {
        "colab": {
          "base_uri": "https://localhost:8080/"
        },
        "id": "fiYZTNz-8iSC",
        "outputId": "8d647227-89da-49f9-dc50-0ac85d0b30cb"
      },
      "source": [
        "preds[:20].argmax(axis=1)"
      ],
      "execution_count": null,
      "outputs": [
        {
          "output_type": "execute_result",
          "data": {
            "text/plain": [
              "array([83, 49, 12, 73,  7, 33, 32, 69, 88, 54, 50, 80,  3, 38,  6, 27, 70,\n",
              "       29, 81, 91])"
            ]
          },
          "metadata": {},
          "execution_count": 129
        }
      ]
    },
    {
      "cell_type": "code",
      "metadata": {
        "id": "jnw8sYe2B_Ld"
      },
      "source": [
        "preds = model.predict(test_data)"
      ],
      "execution_count": null,
      "outputs": []
    },
    {
      "cell_type": "code",
      "metadata": {
        "colab": {
          "base_uri": "https://localhost:8080/"
        },
        "id": "GXQ3PBwy8gkL",
        "outputId": "88da10da-ba74-418a-ad5e-b2aecef8b2a9"
      },
      "source": [
        "preds[:20].argmax(axis=1)"
      ],
      "execution_count": null,
      "outputs": [
        {
          "output_type": "execute_result",
          "data": {
            "text/plain": [
              "array([33, 90, 12,  9, 78, 49, 96, 48,  6, 38,  9, 74, 52,  7, 87, 90, 83,\n",
              "       16, 60, 22])"
            ]
          },
          "metadata": {},
          "execution_count": 131
        }
      ]
    },
    {
      "cell_type": "code",
      "metadata": {
        "id": "MsgIdJ7Ycrgn"
      },
      "source": [
        "y_true = []\n",
        "for image,label in test_data:\n",
        "  y_true.append(label.numpy())\n"
      ],
      "execution_count": null,
      "outputs": []
    },
    {
      "cell_type": "code",
      "metadata": {
        "id": "oLe4QdAQCFJH"
      },
      "source": [
        "flatten_y_true = [j for sub in y_true for j in sub]"
      ],
      "execution_count": null,
      "outputs": []
    },
    {
      "cell_type": "code",
      "metadata": {
        "id": "IMssFVi5CHdi",
        "colab": {
          "base_uri": "https://localhost:8080/"
        },
        "outputId": "cb4b9dbf-7918-4001-cb43-0c27ecec1860"
      },
      "source": [
        "flatten_y_true[:20]"
      ],
      "execution_count": null,
      "outputs": [
        {
          "output_type": "execute_result",
          "data": {
            "text/plain": [
              "[57,\n",
              " 48,\n",
              " 79,\n",
              " 44,\n",
              " 43,\n",
              " 81,\n",
              " 27,\n",
              " 22,\n",
              " 46,\n",
              " 47,\n",
              " 99,\n",
              " 70,\n",
              " 100,\n",
              " 90,\n",
              " 21,\n",
              " 59,\n",
              " 1,\n",
              " 75,\n",
              " 61,\n",
              " 74]"
            ]
          },
          "metadata": {},
          "execution_count": 134
        }
      ]
    },
    {
      "cell_type": "code",
      "metadata": {
        "id": "T3JrarUNCLEt"
      },
      "source": [
        "y_true = []\n",
        "for image,label in test_data:\n",
        "  y_true.append(label.numpy())"
      ],
      "execution_count": null,
      "outputs": []
    },
    {
      "cell_type": "code",
      "metadata": {
        "id": "5moIYlK4CL0r"
      },
      "source": [
        "flatten_y_true = [j for sub in y_true for j in sub]"
      ],
      "execution_count": null,
      "outputs": []
    },
    {
      "cell_type": "code",
      "metadata": {
        "id": "QwF1mt2FCMch",
        "colab": {
          "base_uri": "https://localhost:8080/"
        },
        "outputId": "c79419e5-4298-43fb-92fe-399b1e509fd5"
      },
      "source": [
        "flatten_y_true[:20]"
      ],
      "execution_count": null,
      "outputs": [
        {
          "output_type": "execute_result",
          "data": {
            "text/plain": [
              "[29, 91, 81, 53, 97, 97, 10, 3, 31, 4, 100, 32, 32, 3, 8, 85, 93, 83, 98, 40]"
            ]
          },
          "metadata": {},
          "execution_count": 137
        }
      ]
    },
    {
      "cell_type": "code",
      "metadata": {
        "id": "i2w2HjmSm5vc"
      },
      "source": [
        "exp = tf.data.Dataset.unbatch(test_data)\n",
        "y_true_easy = []\n",
        "for img,label in exp:\n",
        "  y_true_easy.append(label.numpy())\n"
      ],
      "execution_count": null,
      "outputs": []
    },
    {
      "cell_type": "code",
      "metadata": {
        "colab": {
          "base_uri": "https://localhost:8080/"
        },
        "id": "74k9VnYL-k8u",
        "outputId": "2d0ffac2-9bf5-4d55-94b1-38f244913a6c"
      },
      "source": [
        "y_true_easy[:20]"
      ],
      "execution_count": null,
      "outputs": [
        {
          "output_type": "execute_result",
          "data": {
            "text/plain": [
              "[44, 65, 34, 69, 23, 78, 41, 70, 27, 13, 41, 32, 25, 20, 5, 59, 53, 37, 99, 60]"
            ]
          },
          "metadata": {},
          "execution_count": 139
        }
      ]
    },
    {
      "cell_type": "code",
      "metadata": {
        "id": "n3tsyvKqB7rY"
      },
      "source": [
        "exp = tf.data.Dataset.unbatch(test_data)\n",
        "y_true_easy = []\n",
        "for img,label in exp:\n",
        "  y_true_easy.append(label.numpy())"
      ],
      "execution_count": null,
      "outputs": []
    },
    {
      "cell_type": "code",
      "metadata": {
        "colab": {
          "base_uri": "https://localhost:8080/"
        },
        "id": "G_H6yntdnadl",
        "outputId": "12089151-d66d-4d7a-d3b5-3b4a9305ad51"
      },
      "source": [
        "y_true_easy[:20]"
      ],
      "execution_count": null,
      "outputs": [
        {
          "output_type": "execute_result",
          "data": {
            "text/plain": [
              "[57,\n",
              " 48,\n",
              " 79,\n",
              " 44,\n",
              " 81,\n",
              " 43,\n",
              " 27,\n",
              " 22,\n",
              " 99,\n",
              " 46,\n",
              " 47,\n",
              " 100,\n",
              " 70,\n",
              " 90,\n",
              " 21,\n",
              " 59,\n",
              " 93,\n",
              " 83,\n",
              " 98,\n",
              " 60]"
            ]
          },
          "metadata": {},
          "execution_count": 141
        }
      ]
    },
    {
      "cell_type": "code",
      "metadata": {
        "id": "Zr78daDZoH9s"
      },
      "source": [
        "flatten_y_true[:20]"
      ],
      "execution_count": null,
      "outputs": []
    },
    {
      "cell_type": "code",
      "metadata": {
        "colab": {
          "base_uri": "https://localhost:8080/"
        },
        "id": "Nf9nH1nY60qZ",
        "outputId": "b4e9532c-6926-4a7c-a860-feddfbca6b37"
      },
      "source": [
        "exp"
      ],
      "execution_count": null,
      "outputs": [
        {
          "output_type": "execute_result",
          "data": {
            "text/plain": [
              "<_UnbatchDataset shapes: ((224, 224, 3), ()), types: (tf.float32, tf.int64)>"
            ]
          },
          "metadata": {},
          "execution_count": 105
        }
      ]
    },
    {
      "cell_type": "code",
      "metadata": {
        "colab": {
          "base_uri": "https://localhost:8080/",
          "height": 299
        },
        "id": "EnP15hHpoTcT",
        "outputId": "50b1c8a7-c4fd-40ab-c074-812be97d670e"
      },
      "source": [
        "plt.imshow(tf.cast(image[0],tf.uint32))\n",
        "plt.title(f\"easy: {class_names[y_true_easy[0]]} normal: {class_names[flatten_y_true[0]]} pred: {class_names[y_pred_f[0]]}\")"
      ],
      "execution_count": null,
      "outputs": [
        {
          "output_type": "execute_result",
          "data": {
            "text/plain": [
              "Text(0.5, 1.0, 'easy: hummus normal: cup_cakes pred: poutine')"
            ]
          },
          "metadata": {},
          "execution_count": 142
        },
        {
          "output_type": "display_data",
          "data": {
            "image/png": "[encoded data removed]",
            "text/plain": [
              "<Figure size 432x288 with 1 Axes>"
            ]
          },
          "metadata": {
            "needs_background": "light"
          }
        }
      ]
    },
    {
      "cell_type": "code",
      "metadata": {
        "colab": {
          "base_uri": "https://localhost:8080/"
        },
        "id": "RePyxSsRnngm",
        "outputId": "d1ec2cf0-cf16-4bcd-b194-dc541d750b22"
      },
      "source": [
        "y_pred[:20]"
      ],
      "execution_count": null,
      "outputs": [
        {
          "output_type": "execute_result",
          "data": {
            "text/plain": [
              "[81, 1, 61, 74, 70, 60, 29, 80, 32, 78, 17, 1, 40, 40, 99, 1, 71, 4, 85, 44]"
            ]
          },
          "metadata": {},
          "execution_count": 70
        }
      ]
    },
    {
      "cell_type": "code",
      "metadata": {
        "id": "KNGmvYVKfiLj"
      },
      "source": [
        "import numpy as np"
      ],
      "execution_count": null,
      "outputs": []
    },
    {
      "cell_type": "code",
      "metadata": {
        "colab": {
          "base_uri": "https://localhost:8080/"
        },
        "id": "aDPUZXCYe8zx",
        "outputId": "e3aaf27e-7750-446b-8f2e-cf496ea449ea"
      },
      "source": [
        "y_true[0][0]"
      ],
      "execution_count": null,
      "outputs": [
        {
          "output_type": "execute_result",
          "data": {
            "text/plain": [
              "70"
            ]
          },
          "metadata": {},
          "execution_count": 72
        }
      ]
    },
    {
      "cell_type": "code",
      "metadata": {
        "id": "xhToXAbub9X2"
      },
      "source": [
        "y_pred = []\n",
        "for i in range(len(preds)):\n",
        "  y_pred.append(preds[i].argmax())\n",
        "#preds[0].argmax()"
      ],
      "execution_count": null,
      "outputs": []
    },
    {
      "cell_type": "code",
      "metadata": {
        "id": "sITg7EmVg17w"
      },
      "source": [
        "#range(len(preds))\n"
      ],
      "execution_count": null,
      "outputs": []
    },
    {
      "cell_type": "code",
      "metadata": {
        "id": "vTX7Bw53fKvX"
      },
      "source": [
        "#y_true,y_pred"
      ],
      "execution_count": null,
      "outputs": []
    },
    {
      "cell_type": "code",
      "metadata": {
        "id": "KwGikshzhSiF"
      },
      "source": [
        "flatten_y_true = [j for sub in y_true for j in sub]"
      ],
      "execution_count": null,
      "outputs": []
    },
    {
      "cell_type": "code",
      "metadata": {
        "id": "ecZyfZZZiINZ"
      },
      "source": [
        "#y_true"
      ],
      "execution_count": null,
      "outputs": []
    },
    {
      "cell_type": "code",
      "metadata": {
        "id": "CSWdUizmiEsq"
      },
      "source": [
        "#flatten_y_true"
      ],
      "execution_count": null,
      "outputs": []
    },
    {
      "cell_type": "code",
      "metadata": {
        "id": "cPWd8piYk1Vp"
      },
      "source": [
        "#import helper_functions as hf"
      ],
      "execution_count": null,
      "outputs": []
    },
    {
      "cell_type": "code",
      "metadata": {
        "id": "xRB0QImJbsUk"
      },
      "source": [
        "#hf.make_confusion_matrix(flatten_y_true,y_pred,class_names,(50,50),10,savefig=True)"
      ],
      "execution_count": null,
      "outputs": []
    },
    {
      "cell_type": "code",
      "metadata": {
        "id": "ujm7YTKIrMid"
      },
      "source": [
        "from sklearn.metrics import accuracy_score"
      ],
      "execution_count": null,
      "outputs": []
    },
    {
      "cell_type": "code",
      "metadata": {
        "colab": {
          "base_uri": "https://localhost:8080/"
        },
        "id": "1Cymk-GurOzR",
        "outputId": "95aee87d-4792-423a-a678-cde0e360cd74"
      },
      "source": [
        "sklearn_accuracy = accuracy_score(y_true_easy,\n",
        "                                  y_pred)\n",
        "sklearn_accuracy"
      ],
      "execution_count": null,
      "outputs": [
        {
          "output_type": "execute_result",
          "data": {
            "text/plain": [
              "0.009663366336633663"
            ]
          },
          "metadata": {},
          "execution_count": 75
        }
      ]
    },
    {
      "cell_type": "code",
      "metadata": {
        "colab": {
          "base_uri": "https://localhost:8080/"
        },
        "id": "YWo6s0jR5I-6",
        "outputId": "04bb0ca0-7799-478a-aece-6991961d02a7"
      },
      "source": [
        "y_labels = []\n",
        "\n",
        "for images,labels in test_data.unbatch():\n",
        "  y_labels.append(labels.numpy().argmax())\n",
        "y_labels[:10]"
      ],
      "execution_count": null,
      "outputs": [
        {
          "output_type": "execute_result",
          "data": {
            "text/plain": [
              "[0, 0, 0, 0, 0, 0, 0, 0, 0, 0]"
            ]
          },
          "metadata": {},
          "execution_count": 76
        }
      ]
    },
    {
      "cell_type": "code",
      "metadata": {
        "colab": {
          "base_uri": "https://localhost:8080/"
        },
        "id": "zW-rPoYp5VYl",
        "outputId": "d2588a61-1f9d-47ac-fb48-5f59c3af645c"
      },
      "source": [
        "sklearn_accuracy = accuracy_score(y_true_easy,\n",
        "                                  y_pred_f)\n",
        "sklearn_accuracy"
      ],
      "execution_count": null,
      "outputs": [
        {
          "output_type": "execute_result",
          "data": {
            "text/plain": [
              "0.06293069306930693"
            ]
          },
          "metadata": {},
          "execution_count": 86
        }
      ]
    },
    {
      "cell_type": "code",
      "metadata": {
        "id": "qmaRfL2L5c-s"
      },
      "source": [
        "y_pred = model.predict(test_data)"
      ],
      "execution_count": null,
      "outputs": []
    },
    {
      "cell_type": "code",
      "metadata": {
        "id": "g-85zBPB5rTt"
      },
      "source": [
        "y_pred_f = y_pred.argmax(axis=1)"
      ],
      "execution_count": null,
      "outputs": []
    },
    {
      "cell_type": "code",
      "metadata": {
        "colab": {
          "base_uri": "https://localhost:8080/"
        },
        "id": "g5HlVMm552vA",
        "outputId": "22e3353a-e3f9-4d7e-8dc1-222c98c6ba63"
      },
      "source": [
        "y_pred_f[1]"
      ],
      "execution_count": null,
      "outputs": [
        {
          "output_type": "execute_result",
          "data": {
            "text/plain": [
              "79"
            ]
          },
          "metadata": {},
          "execution_count": 81
        }
      ]
    },
    {
      "cell_type": "code",
      "metadata": {
        "id": "IrayTJc_9gCp"
      },
      "source": [
        ""
      ],
      "execution_count": null,
      "outputs": []
    }
  ]
}